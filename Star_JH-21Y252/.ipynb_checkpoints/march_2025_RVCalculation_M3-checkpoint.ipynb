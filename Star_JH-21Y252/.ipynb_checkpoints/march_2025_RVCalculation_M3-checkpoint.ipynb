{
 "cells": [
  {
   "cell_type": "code",
   "execution_count": 1,
   "id": "7d9b8529-5d23-4924-8a07-958e0ab43fbf",
   "metadata": {},
   "outputs": [],
   "source": [
    "from cofi_reduction1 import AstroAnalysis\n",
    "from PyQt5 import QtWidgets\n",
    "%matplotlib qt"
   ]
  },
  {
   "cell_type": "code",
   "execution_count": 2,
   "id": "e5b907b3-ac69-4646-9f1f-82e962d73eca",
   "metadata": {},
   "outputs": [
    {
     "name": "stdout",
     "output_type": "stream",
     "text": [
      "AstroAnalysis object created. Call 'run_automated_analysis()' to begin.\n"
     ]
    }
   ],
   "source": [
    "analyzer = AstroAnalysis()"
   ]
  },
  {
   "cell_type": "code",
   "execution_count": 3,
   "id": "6bce5022-e534-4a1e-b3d6-bcfebcd5a1fb",
   "metadata": {},
   "outputs": [
    {
     "data": {
      "application/vnd.jupyter.widget-view+json": {
       "model_id": "38bdf485d20e4cdb87bbcf4de6368cd1",
       "version_major": 2,
       "version_minor": 0
      },
      "text/plain": [
       "HBox(children=(Text(value='', description='FITS File Path:', layout=Layout(width='500px'), placeholder='/path/…"
      ]
     },
     "metadata": {},
     "output_type": "display_data"
    },
    {
     "data": {
      "application/vnd.jupyter.widget-view+json": {
       "model_id": "0d6bc917a41444f19a30374b48f9f8e1",
       "version_major": 2,
       "version_minor": 0
      },
      "text/plain": [
       "Output()"
      ]
     },
     "metadata": {},
     "output_type": "display_data"
    },
    {
     "data": {
      "application/vnd.jupyter.widget-view+json": {
       "model_id": "38936322ff4d4f0cb887f6c8c898c5b8",
       "version_major": 2,
       "version_minor": 0
      },
      "text/plain": [
       "VBox()"
      ]
     },
     "metadata": {},
     "output_type": "display_data"
    }
   ],
   "source": [
    "analyzer.run_automated_analysis()"
   ]
  },
  {
   "cell_type": "markdown",
   "id": "1e50b7c6-e7fe-46d2-a962-cfc03b9fa052",
   "metadata": {
    "jp-MarkdownHeadingCollapsed": true
   },
   "source": [
    "# Baricentric correction"
   ]
  },
  {
   "cell_type": "code",
   "execution_count": 3,
   "id": "b28a35a5-32f3-46fb-8d83-8a6ef8c4eadb",
   "metadata": {},
   "outputs": [
    {
     "name": "stdout",
     "output_type": "stream",
     "text": [
      "\n",
      "Loaded Star IDs from 'M3stand_v8.csv'. Please make your selections to calculate Radial Velocity.\n"
     ]
    },
    {
     "data": {
      "application/vnd.jupyter.widget-view+json": {
       "model_id": "ec90b920167248f899d32e8a2bbaee48",
       "version_major": 2,
       "version_minor": 0
      },
      "text/plain": [
       "VBox(children=(HBox(children=(Dropdown(description='Select Star ID:', layout=Layout(width='400px'), options=('…"
      ]
     },
     "metadata": {},
     "output_type": "display_data"
    },
    {
     "data": {
      "application/vnd.jupyter.widget-view+json": {
       "model_id": "2c95bb1aaaea4b828752eba17dfa74d0",
       "version_major": 2,
       "version_minor": 0
      },
      "text/plain": [
       "Output()"
      ]
     },
     "metadata": {},
     "output_type": "display_data"
    }
   ],
   "source": [
    "analyzer.calculate_radial_velocity('M3stand_v8.csv')"
   ]
  },
  {
   "cell_type": "code",
   "execution_count": 13,
   "id": "eb2ff3d1-0204-403e-bfcd-e217fceeb4f6",
   "metadata": {},
   "outputs": [
    {
     "name": "stdout",
     "output_type": "stream",
     "text": [
      "Filename: M3_0008/2d_ad_7_M3real_TARG102_2.fits\n",
      "No.    Name      Ver    Type      Cards   Dimensions   Format\n",
      "  0  PRIMARY       1 PrimaryHDU      67   ()      \n",
      "  1                1 ImageHDU         7   (4096, 1)   float64   \n",
      "  2  UNCERT        1 ImageHDU         9   (4096, 1)   float64   \n",
      "  3  BITMASK       1 ImageHDU        10   (4096, 1)   int32 (rescales to uint32)   \n",
      "  4  WAVE          1 ImageHDU         8   (4096, 1)   float64   \n",
      "  5  SKY           1 ImageHDU         8   (4096, 1)   float64   \n",
      "  6  SKYERR        1 ImageHDU         8   (4096, 1)   float64   \n"
     ]
    }
   ],
   "source": [
    "from astropy.io import fits\n",
    "from astropy import units as u\n",
    "specn = fits.open('M3_0008/2d_ad_7_M3real_TARG102_2.fits')\n",
    "specn.info()"
   ]
  },
  {
   "cell_type": "code",
   "execution_count": 14,
   "id": "6308d242-b584-4be9-b00d-721d90c2384d",
   "metadata": {
    "scrolled": true
   },
   "outputs": [
    {
     "data": {
      "text/plain": [
       "'M3stand'"
      ]
     },
     "execution_count": 14,
     "metadata": {},
     "output_type": "execute_result"
    }
   ],
   "source": [
    "specn[0].header['OBJNAME']"
   ]
  },
  {
   "cell_type": "code",
   "execution_count": 15,
   "id": "30348917-b820-474e-aac4-2a743a0c1cc1",
   "metadata": {},
   "outputs": [
    {
     "name": "stdout",
     "output_type": "stream",
     "text": [
      "0.752028169417512 km / s\n",
      "0.10465544074828821 km / s\n"
     ]
    }
   ],
   "source": [
    "from astropy.time import Time\n",
    "from astropy.coordinates import SkyCoord, EarthLocation\n",
    "apo1 = EarthLocation.of_site('apo')  # the easiest way... but requires internet 32° 46' 49\"\n",
    "apo = EarthLocation.from_geodetic(lat= +3.2780361000000E+01*u.deg, lon= -1.0582041700000E+02*u.deg, height=2788*u.m)\n",
    "sc = SkyCoord(ra=205.527825*u.deg, dec=28.3489306*u.deg) # 252.1430053126 -2.6812434853\n",
    "barycorr = sc.radial_velocity_correction('barycentric',obstime=Time('2025-04-01'), location=apo1)  \n",
    "print(barycorr.to(u.km/u.s))\n",
    "heliocorr = sc.radial_velocity_correction('heliocentric', obstime=Time('2025-04-01T10:13:34.677065'), location=apo1)  # '2024-06-29T06:17:58.914809'\n",
    "print(heliocorr.to(u.km/u.s)) "
   ]
  },
  {
   "cell_type": "code",
   "execution_count": 8,
   "id": "c4553d66-a331-4747-bb6d-e290c4d74176",
   "metadata": {},
   "outputs": [
    {
     "data": {
      "text/latex": [
       "$(-1463998.7, -5166633.7, 3435014) \\; \\mathrm{m}$"
      ],
      "text/plain": [
       "<EarthLocation (-1463998.7009965, -5166633.73441486, 3435013.97233452) m>"
      ]
     },
     "execution_count": 8,
     "metadata": {},
     "output_type": "execute_result"
    }
   ],
   "source": [
    "apo"
   ]
  },
  {
   "cell_type": "code",
   "execution_count": 7,
   "id": "ee975ffb-7a6f-494e-a654-ce0260e1b6df",
   "metadata": {},
   "outputs": [
    {
     "data": {
      "text/latex": [
       "$(-1463969.3, -5166673.3, 3434985.7) \\; \\mathrm{m}$"
      ],
      "text/plain": [
       "<EarthLocation (-1463969.30185172, -5166673.34223433, 3434985.71204565) m>"
      ]
     },
     "execution_count": 7,
     "metadata": {},
     "output_type": "execute_result"
    }
   ],
   "source": [
    "apo1"
   ]
  },
  {
   "cell_type": "code",
   "execution_count": 11,
   "id": "1147c1b9-38bb-4af9-96bb-b7fc4ef75445",
   "metadata": {},
   "outputs": [
    {
     "name": "stdout",
     "output_type": "stream",
     "text": [
      "32.780361 deg\n",
      "-105.820417 deg\n"
     ]
    }
   ],
   "source": [
    "longitude = +3.2780361000000E+01*u.deg\n",
    "latitude = -1.0582041700000E+02*u.deg\n",
    "print(longitude)\n",
    "print(latitude)"
   ]
  },
  {
   "cell_type": "code",
   "execution_count": 6,
   "id": "714a9cd4-13ca-42e5-a9fc-dacfc76ad7d0",
   "metadata": {},
   "outputs": [
    {
     "data": {
      "text/latex": [
       "$205.55277\\mathrm{{}^{\\circ}}$"
      ],
      "text/plain": [
       "<Quantity 205.5527667 deg>"
      ]
     },
     "execution_count": 6,
     "metadata": {},
     "output_type": "execute_result"
    }
   ],
   "source": [
    "205.5527667*u.deg"
   ]
  },
  {
   "cell_type": "code",
   "execution_count": 13,
   "id": "303a4a8a-1b97-4626-97ab-d8d7c1558ae0",
   "metadata": {},
   "outputs": [
    {
     "name": "stdout",
     "output_type": "stream",
     "text": [
      "\n",
      "----- HELCORR.PRO - DEBUG INFO - START ----\n",
      "(obs_long (East positive),obs_lat,obs_alt) Observatory coordinates [deg,m]:  32.780361 -105.820417 2788\n",
      "(ra,dec) Object coordinates (for epoch 2000.0) [deg]:  205.5527667 28.3448333\n",
      "(ra,dec) Object coordinates (precessed to epoch 2025.336073) [deg]:  205.8444973754791 28.217733497665655\n",
      "(ut) Universal time (middle of exposure) [hrs]:  10.226299200206995\n",
      "(jd) Julian date (middle of exposure) (JD):  2460766.9260958\n",
      "(hjd) Heliocentric Julian date (middle of exposure) (HJD):  2460766.930770128\n",
      "(gmst) Greenwich mean sidereal time [hrs]:  22.8948199658181\n",
      "(lmst) Local mean sidereal time [hrs]:  1.0801773658181446\n",
      "(dlat) Latitude correction [deg]:  -364.4496639287899\n",
      "(lat) Geocentric latitude of observer [deg]:  -105.921653017758\n",
      "(r) Distance of observer from center of earth [m]:  6361184.592384854\n",
      "(v) Rotational velocity of earth at the position of the observer [km/s]:  0.46386495025958174\n",
      "(vdiurnal) Projected earth rotation and earth-moon revolution [km/s]:  0.018779846415388848\n",
      "(vbar) Barycentric velocity [km/s]:  0.2892827272090388\n",
      "(vhel) Heliocentric velocity [km/s]:  0.29867068760640514\n",
      "(corr) Vdiurnal+vbar [km/s]:  0.3080625736244276\n",
      "----- HELCORR.PRO - DEBUG INFO - END -----\n",
      "\n",
      "Barycentric correction [km/s]:  0.3080625736244276\n",
      "Heliocentric Julian day:  2460766.930770128\n"
     ]
    }
   ],
   "source": [
    "from __future__ import print_function, division\n",
    "from PyAstronomy import pyasl\n",
    "\n",
    "# Coordinates of European Southern Observatory\n",
    "# (Coordinates of UT1)\n",
    "longitude = 32.780361\n",
    "latitude = -105.820417 \n",
    "altitude = 2788 \n",
    "\n",
    "# Coordinates of HD 12345 (J2000)\n",
    "ra2000 = 205.5527667\n",
    "dec2000 = 28.3448333\n",
    "\n",
    "# (Mid-)Time of observation\n",
    "jd = 2460766.9260958 #2450528.2335\n",
    "\n",
    "# Calculate barycentric correction (debug=True show\n",
    "# various intermediate results)\n",
    "corr, hjd = pyasl.helcorr(longitude, latitude, altitude, \\\n",
    "            ra2000, dec2000, jd, debug=True)\n",
    "\n",
    "print(\"Barycentric correction [km/s]: \", corr)\n",
    "print(\"Heliocentric Julian day: \", hjd)"
   ]
  }
 ],
 "metadata": {
  "kernelspec": {
   "display_name": "Python 3 (ipykernel)",
   "language": "python",
   "name": "python3"
  },
  "language_info": {
   "codemirror_mode": {
    "name": "ipython",
    "version": 3
   },
   "file_extension": ".py",
   "mimetype": "text/x-python",
   "name": "python",
   "nbconvert_exporter": "python",
   "pygments_lexer": "ipython3",
   "version": "3.12.5"
  }
 },
 "nbformat": 4,
 "nbformat_minor": 5
}
