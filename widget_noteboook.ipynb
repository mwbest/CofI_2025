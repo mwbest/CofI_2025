{
 "cells": [
  {
   "cell_type": "markdown",
   "id": "9d0869ee-664e-4394-a10b-a41a507ca316",
   "metadata": {},
   "source": [
    "# Imports"
   ]
  },
  {
   "cell_type": "code",
   "execution_count": 1,
   "id": "b511e712-01a1-4bf0-9850-49e967a091ea",
   "metadata": {},
   "outputs": [],
   "source": [
    "from PyQt5 import QtWidgets # Mandatory Linux OS like Ubuntu\n",
    "%matplotlib qt\n",
    "from cofi_reduction import CofiReductionWidget,stacker,AstroAnalysis"
   ]
  },
  {
   "cell_type": "markdown",
   "id": "5958de91-e8b5-4b97-b600-8908e2f0967c",
   "metadata": {},
   "source": [
    "# Reduction"
   ]
  },
  {
   "cell_type": "code",
   "execution_count": 12,
   "id": "cbf0963d-94a6-4e8a-84c0-7056df628281",
   "metadata": {},
   "outputs": [
    {
     "data": {
      "application/vnd.jupyter.widget-view+json": {
       "model_id": "c660ef23208f4c199de1f0dbd6f26953",
       "version_major": 2,
       "version_minor": 0
      },
      "text/plain": [
       "HTML(value='\\n<style>\\n:root {\\n    --jp-widgets-font-family: \\'Montserrat\\', sans-serif;\\n    --cofi-primary-…"
      ]
     },
     "metadata": {},
     "output_type": "display_data"
    },
    {
     "data": {
      "application/vnd.jupyter.widget-view+json": {
       "model_id": "51b2c057711d4dce974ad8f678023a59",
       "version_major": 2,
       "version_minor": 0
      },
      "text/plain": [
       "VBox(children=(HTML(value=\"<h1 class='cofi-main-title'>CofI Reduction Interface</h1>\"), Tab(children=(VBox(chi…"
      ]
     },
     "metadata": {},
     "output_type": "display_data"
    }
   ],
   "source": [
    "reduction_widget = CofiReductionWidget(display_enabled=True)\n",
    "# Display the widget\n",
    "reduction_widget.show()\n",
    "\n",
    "# folder path: Star_JH-21Y252\n",
    "# Star: 7,8, or 9 are your masksM3real.0008.fits\n",
    "# KMS file path: kms/kosmos.36.M3new.kms\n",
    "# Bais file numbers: 11,12,13,14,15,16\n",
    "# Dark file numbers: 17,18,19\n",
    "# Flat file numbers: 1,2,3,4,5\n",
    "# Arcs file numbers: 6\n",
    "# Filter slits ID: TARG101,TARG102,TARG106,TARG107"
   ]
  },
  {
   "cell_type": "markdown",
   "id": "95d0e0c8-f0ab-4fae-92a5-891339794ffe",
   "metadata": {},
   "source": [
    "# Stack spectra"
   ]
  },
  {
   "cell_type": "code",
   "execution_count": 7,
   "id": "58d176f7-273f-4c44-824e-6dd378f201c8",
   "metadata": {},
   "outputs": [],
   "source": [
    "# Example of how to put your files in a list. Then copy pest a list in the path slot stack away.\n",
    "\n",
    "files1 = ['M3_7_1d_extractions/2d_ad_6_M3real_TARG101_3.fits',\n",
    "          'M3_8_1d_extractions/2d_ad_5_M3real_TARG101_3.fits',\n",
    "          'M3_9_1d_extractions/2d_ad_5_M3real_TARG101_3.fits'\n",
    "        ]\n",
    "files2 = ['M3_7_1d_extractions/2d_ad_6_M3real_TARG102_1.fits',\n",
    "          'M3_8_1d_extractions/2d_ad_5_M3real_TARG102_1.fits',\n",
    "          'M3_9_1d_extractions/2d_ad_5_M3real_TARG102_1.fits'\n",
    "         ]\n",
    "\n",
    "files3 = ['M3_7_1d_extractions/2d_ad_5_M3real_TARG106_0.fits',\n",
    "          'M3_8_1d_extractions/2d_ad_5_M3real_TARG106_0.fits',\n",
    "          'M3_9_1d_extractions/2d_ad_5_M3real_TARG106_0.fits'\n",
    "         ]\n",
    "\n",
    "files4 = ['M3_7_1d_extractions/2d_ad_6_M3real_TARG107_2.fits',\n",
    "          'M3_8_1d_extractions/2d_ad_5_M3real_TARG107_2.fits',\n",
    "          'M3_9_1d_extractions/2d_ad_5_M3real_TARG107_2.fits'\n",
    "         ]"
   ]
  },
  {
   "cell_type": "code",
   "execution_count": 6,
   "id": "051a1723-46ef-4a94-8605-52fe520f4e9c",
   "metadata": {},
   "outputs": [
    {
     "data": {
      "application/vnd.jupyter.widget-view+json": {
       "model_id": "72115d72d3f145f0a49c38d149ae74a0",
       "version_major": 2,
       "version_minor": 0
      },
      "text/plain": [
       "HBox(children=(Text(value='', description=\"Files' paths\", placeholder='e.g [file1.fits,file2.fits,file3.fits]'…"
      ]
     },
     "metadata": {},
     "output_type": "display_data"
    },
    {
     "data": {
      "application/vnd.jupyter.widget-view+json": {
       "model_id": "92f369fdd4ac483f8a2ab84767662a05",
       "version_major": 2,
       "version_minor": 0
      },
      "text/plain": [
       "Output()"
      ]
     },
     "metadata": {},
     "output_type": "display_data"
    }
   ],
   "source": [
    "stacker()"
   ]
  },
  {
   "cell_type": "markdown",
   "id": "fbaa5e80-5fef-4502-a971-b0dd81cf9490",
   "metadata": {},
   "source": [
    "# RV Analysis"
   ]
  },
  {
   "cell_type": "code",
   "execution_count": 2,
   "id": "b6597504-daf6-4dce-b493-f364cb80690a",
   "metadata": {},
   "outputs": [
    {
     "data": {
      "application/vnd.jupyter.widget-view+json": {
       "model_id": "836d2ab9600647d9a80468a8767eae22",
       "version_major": 2,
       "version_minor": 0
      },
      "text/plain": [
       "VBox(children=(HBox(children=(Text(value='', description='FITS Path:', layout=Layout(width='400px'), placehold…"
      ]
     },
     "metadata": {},
     "output_type": "display_data"
    },
    {
     "data": {
      "application/vnd.jupyter.widget-view+json": {
       "model_id": "e377decc21514f07ae17f94552ea7c7a",
       "version_major": 2,
       "version_minor": 0
      },
      "text/plain": [
       "Output()"
      ]
     },
     "metadata": {},
     "output_type": "display_data"
    }
   ],
   "source": [
    "analyzer = AstroAnalysis()"
   ]
  },
  {
   "cell_type": "code",
   "execution_count": 3,
   "id": "1bb48ecc-0bf2-4674-a27e-5b9257a522e4",
   "metadata": {},
   "outputs": [
    {
     "data": {
      "application/vnd.jupyter.widget-view+json": {
       "model_id": "6b42348efc2a45a7868a4d85b65a3cd2",
       "version_major": 2,
       "version_minor": 0
      },
      "text/plain": [
       "VBox(children=(Dropdown(description='Star ID:', options=('TARG107.',), value='TARG107.'), RadioButtons(descrip…"
      ]
     },
     "metadata": {},
     "output_type": "display_data"
    }
   ],
   "source": [
    "analyzer.calculate_radial_velocity('stacked_rv_analysis/stacked_M3.csv')"
   ]
  },
  {
   "cell_type": "markdown",
   "id": "81797012-57e5-46b2-b969-9487ba31767f",
   "metadata": {},
   "source": [
    "## Bartcentric correction"
   ]
  },
  {
   "cell_type": "code",
   "execution_count": null,
   "id": "f57580dc-7713-4d7d-8b32-e408f5f7d2ca",
   "metadata": {},
   "outputs": [],
   "source": [
    "specn = fits.open('stacked_M3/stacked_M3_TARG102.fits')\n",
    "specn.info()"
   ]
  },
  {
   "cell_type": "code",
   "execution_count": null,
   "id": "9d7451e7-1ebb-498d-9d71-7e14d436436f",
   "metadata": {},
   "outputs": [],
   "source": [
    "specn[0].header"
   ]
  },
  {
   "cell_type": "code",
   "execution_count": null,
   "id": "326a3e8c-1a6a-42ec-934c-9dc243e4c788",
   "metadata": {},
   "outputs": [],
   "source": [
    "from astropy.time import Time\n",
    "from astropy.coordinates import SkyCoord, EarthLocation\n",
    "apo1 = EarthLocation.of_site('apo')  # the easiest way... but requires internet 32° 46' 49\"\n",
    "# apo = EarthLocation.from_geodetic(lat= +3.2780361000000E+01*u.deg, lon= -1.0582041700000E+02*u.deg, height=2788*u.m)\n",
    "sc = SkyCoord(ra=205.5527667*u.deg, dec=28.3448333*u.deg) # 252.1430053126 -2.6812434853\n",
    "barycorr = sc.radial_velocity_correction('barycentric',obstime=Time('2025-04-01'), location=apo1)  \n",
    "print(barycorr.to(u.km/u.s))\n",
    "heliocorr = sc.radial_velocity_correction('heliocentric', obstime=Time('2025-04-01T09:54:55.692033'), location=apo1)  # '2024-06-29T06:17:58.914809'\n",
    "print(heliocorr.to(u.km/u.s))"
   ]
  }
 ],
 "metadata": {
  "kernelspec": {
   "display_name": "Python 3 (ipykernel)",
   "language": "python",
   "name": "python3"
  },
  "language_info": {
   "codemirror_mode": {
    "name": "ipython",
    "version": 3
   },
   "file_extension": ".py",
   "mimetype": "text/x-python",
   "name": "python",
   "nbconvert_exporter": "python",
   "pygments_lexer": "ipython3",
   "version": "3.12.5"
  },
  "widgets": {
   "application/vnd.jupyter.widget-state+json": {
    "state": {
     "00a20ab5770f423e907c7462847dfc8f": {
      "model_module": "@jupyter-widgets/controls",
      "model_module_version": "2.0.0",
      "model_name": "CheckboxStyleModel",
      "state": {
       "description_width": ""
      }
     },
     "00d66974e2d74f3da7914a220edaae54": {
      "model_module": "@jupyter-widgets/base",
      "model_module_version": "2.0.0",
      "model_name": "LayoutModel",
      "state": {}
     },
     "0133c133c5114695b061de36caff49d3": {
      "model_module": "@jupyter-widgets/controls",
      "model_module_version": "2.0.0",
      "model_name": "DescriptionStyleModel",
      "state": {
       "description_width": "initial"
      }
     },
     "01ef8407a295462998c55bc73dc1e847": {
      "model_module": "@jupyter-widgets/base",
      "model_module_version": "2.0.0",
      "model_name": "LayoutModel",
      "state": {}
     },
     "029e6bb358a746e99b1168325a605de8": {
      "model_module": "@jupyter-widgets/controls",
      "model_module_version": "2.0.0",
      "model_name": "HTMLModel",
      "state": {
       "layout": "IPY_MODEL_c29b76bc79a742cc849c60c9d694cc9c",
       "style": "IPY_MODEL_49867828da484056a7b8df98858a3e40",
       "value": "<h4>Log / Output (from processor):</h4>"
      }
     },
     "02adde81b0e142709f63743914c850df": {
      "model_module": "@jupyter-widgets/base",
      "model_module_version": "2.0.0",
      "model_name": "LayoutModel",
      "state": {
       "display": "none",
       "margin": "0 0 0 25px",
       "padding": "8px"
      }
     },
     "03107932f9214baa839067591b75005c": {
      "model_module": "@jupyter-widgets/base",
      "model_module_version": "2.0.0",
      "model_name": "LayoutModel",
      "state": {}
     },
     "03184cda17c345678502cd69da78455c": {
      "model_module": "@jupyter-widgets/base",
      "model_module_version": "2.0.0",
      "model_name": "LayoutModel",
      "state": {
       "margin": "0 0 0 20px"
      }
     },
     "03d67da0a30e4cc890ca17dfcc86110e": {
      "model_module": "@jupyter-widgets/output",
      "model_module_version": "1.0.0",
      "model_name": "OutputModel",
      "state": {
       "_dom_classes": [
        "interactive-processor-area"
       ],
       "layout": "IPY_MODEL_09c868f435ff44689e1c80b67223d1a1"
      }
     },
     "03f313b6dbc94c669aeafde044768edc": {
      "model_module": "@jupyter-widgets/base",
      "model_module_version": "2.0.0",
      "model_name": "LayoutModel",
      "state": {}
     },
     "04b305b9e654408fa2850e0c5415427a": {
      "model_module": "@jupyter-widgets/base",
      "model_module_version": "2.0.0",
      "model_name": "LayoutModel",
      "state": {}
     },
     "0538f33a82bf4727a193fb749006afc7": {
      "model_module": "@jupyter-widgets/controls",
      "model_module_version": "2.0.0",
      "model_name": "DescriptionStyleModel",
      "state": {
       "description_width": "initial"
      }
     },
     "056a9c0d886c4ab4a3043f00fc0223da": {
      "model_module": "@jupyter-widgets/controls",
      "model_module_version": "2.0.0",
      "model_name": "CheckboxModel",
      "state": {
       "description": "Wavelength Calibration",
       "disabled": false,
       "layout": "IPY_MODEL_5f272c62ea0f47aba54f47f6bd465c6c",
       "style": "IPY_MODEL_a5cd3dc996164c2ca1046cc2d9cd103b",
       "value": false
      }
     },
     "0597fd2a149d4edda0ad13ddcad57ece": {
      "model_module": "@jupyter-widgets/base",
      "model_module_version": "2.0.0",
      "model_name": "LayoutModel",
      "state": {}
     },
     "05989af932da4cf8a5a9a22dea9f6211": {
      "model_module": "@jupyter-widgets/controls",
      "model_module_version": "2.0.0",
      "model_name": "TextStyleModel",
      "state": {
       "description_width": "initial",
       "font_size": null,
       "text_color": null
      }
     },
     "059bf2886f9e44d1a10fa4010678ecf8": {
      "model_module": "@jupyter-widgets/controls",
      "model_module_version": "2.0.0",
      "model_name": "DescriptionStyleModel",
      "state": {
       "description_width": "initial"
      }
     },
     "05ee261ba5814f1882c1694ef9eee1f5": {
      "model_module": "@jupyter-widgets/controls",
      "model_module_version": "2.0.0",
      "model_name": "VBoxModel",
      "state": {
       "children": [
        "IPY_MODEL_fb53827111c0497b95738bf5814bcecf",
        "IPY_MODEL_12af8935bafa45cebc60a1ec4d2dd80e",
        "IPY_MODEL_933e0b0c4609442d83e2bab257475c9c"
       ],
       "layout": "IPY_MODEL_a1732ed06a774a29899c4736869afa58"
      }
     },
     "05ee4ead15574bb8834bf8051680b58c": {
      "model_module": "@jupyter-widgets/controls",
      "model_module_version": "2.0.0",
      "model_name": "CheckboxStyleModel",
      "state": {
       "description_width": ""
      }
     },
     "063dad123cc94863a943b598f1c491cf": {
      "model_module": "@jupyter-widgets/controls",
      "model_module_version": "2.0.0",
      "model_name": "TextModel",
      "state": {
       "_dom_classes": [
        "cofi-input-widget"
       ],
       "description": "ID Wavelength File:",
       "layout": "IPY_MODEL_7f4b2c3255b14c19be06f4e030f36d02",
       "placeholder": "Optional",
       "style": "IPY_MODEL_9fab1ccc2bc64e089126f2c9a9d0fbe7",
       "value": "None"
      }
     },
     "06e765273dbd4293aa9bf4579d47f577": {
      "model_module": "@jupyter-widgets/controls",
      "model_module_version": "2.0.0",
      "model_name": "TextModel",
      "state": {
       "_dom_classes": [
        "cofi-input-widget"
       ],
       "description": "Trace Model:",
       "layout": "IPY_MODEL_7f4b2c3255b14c19be06f4e030f36d02",
       "placeholder": "Optional",
       "style": "IPY_MODEL_abf064b92fde484f9d16395739b52942",
       "value": "None"
      }
     },
     "072cb67e7cd647ea856840011aafe787": {
      "model_module": "@jupyter-widgets/controls",
      "model_module_version": "2.0.0",
      "model_name": "TextStyleModel",
      "state": {
       "description_width": "initial",
       "font_size": null,
       "text_color": null
      }
     },
     "07c033ab1a1c4be1ab43c4ee2afc1755": {
      "model_module": "@jupyter-widgets/controls",
      "model_module_version": "2.0.0",
      "model_name": "TextStyleModel",
      "state": {
       "description_width": "initial",
       "font_size": null,
       "text_color": null
      }
     },
     "07f05675867244be87e472f136f22258": {
      "model_module": "@jupyter-widgets/controls",
      "model_module_version": "2.0.0",
      "model_name": "CheckboxStyleModel",
      "state": {
       "description_width": ""
      }
     },
     "08100e13a177450ea5290b78299638cb": {
      "model_module": "@jupyter-widgets/controls",
      "model_module_version": "2.0.0",
      "model_name": "FloatTextModel",
      "state": {
       "_dom_classes": [
        "cofi-input-widget"
       ],
       "description": "Sigma Reject:",
       "layout": "IPY_MODEL_7f4b2c3255b14c19be06f4e030f36d02",
       "step": null,
       "style": "IPY_MODEL_059bf2886f9e44d1a10fa4010678ecf8",
       "value": 5
      }
     },
     "085387817a1a4fa9814d39f3042bdd57": {
      "model_module": "@jupyter-widgets/controls",
      "model_module_version": "2.0.0",
      "model_name": "ButtonModel",
      "state": {
       "_dom_classes": [
        "custom-button"
       ],
       "description": "Reset Filter",
       "icon": "refresh",
       "layout": "IPY_MODEL_7f4b2c3255b14c19be06f4e030f36d02",
       "style": "IPY_MODEL_cff28489ac5b4c729bab4ad1b81a354c",
       "tooltip": null
      }
     },
     "08de4a9269214cc387d421d83b7c3eea": {
      "model_module": "@jupyter-widgets/base",
      "model_module_version": "2.0.0",
      "model_name": "LayoutModel",
      "state": {}
     },
     "096bc564ab704ccbaa382c7e8913d42c": {
      "model_module": "@jupyter-widgets/base",
      "model_module_version": "2.0.0",
      "model_name": "LayoutModel",
      "state": {}
     },
     "09c868f435ff44689e1c80b67223d1a1": {
      "model_module": "@jupyter-widgets/base",
      "model_module_version": "2.0.0",
      "model_name": "LayoutModel",
      "state": {
       "border_bottom": "1px solid #ace",
       "border_left": "1px solid #ace",
       "border_right": "1px solid #ace",
       "border_top": "1px solid #ace",
       "min_height": "auto",
       "padding": "10px"
      }
     },
     "0b20979d81d84f798cc57fd3070b577f": {
      "model_module": "@jupyter-widgets/controls",
      "model_module_version": "2.0.0",
      "model_name": "CheckboxStyleModel",
      "state": {
       "description_width": ""
      }
     },
     "0b824eef53ba415b9dc9f2714d49044b": {
      "model_module": "@jupyter-widgets/base",
      "model_module_version": "2.0.0",
      "model_name": "LayoutModel",
      "state": {
       "border_bottom": "1px solid #aec",
       "border_left": "1px solid #aec",
       "border_right": "1px solid #aec",
       "border_top": "1px solid #aec",
       "min_height": "auto",
       "padding": "10px"
      }
     },
     "0be66c3900f2405db3dda05286dd4153": {
      "model_module": "@jupyter-widgets/controls",
      "model_module_version": "2.0.0",
      "model_name": "CheckboxStyleModel",
      "state": {
       "description_width": ""
      }
     },
     "0c3f5d73044e4967b2c6e6cd743d644a": {
      "model_module": "@jupyter-widgets/controls",
      "model_module_version": "2.0.0",
      "model_name": "IntTextModel",
      "state": {
       "_dom_classes": [
        "cofi-input-widget"
       ],
       "description": "Threads:",
       "layout": "IPY_MODEL_7f4b2c3255b14c19be06f4e030f36d02",
       "step": 1,
       "style": "IPY_MODEL_eea5565b03cc4e74b5eff67676def773"
      }
     },
     "0c4fa4d681e34de7be37994bf84cc1bb": {
      "model_module": "@jupyter-widgets/controls",
      "model_module_version": "2.0.0",
      "model_name": "VBoxModel",
      "state": {
       "children": [
        "IPY_MODEL_244a08f97ac446cd8e004fb985fc2827"
       ],
       "layout": "IPY_MODEL_313378b76c6e41ff8c80936411470b21"
      }
     },
     "0c841a26a7f64509b480f4fa2b9d8969": {
      "model_module": "@jupyter-widgets/controls",
      "model_module_version": "2.0.0",
      "model_name": "TextModel",
      "state": {
       "_dom_classes": [
        "cofi-input-widget"
       ],
       "description": "Bkg. Regions:",
       "layout": "IPY_MODEL_7f4b2c3255b14c19be06f4e030f36d02",
       "placeholder": "e.g., [[-15,-7],[7,15]]",
       "style": "IPY_MODEL_c875764534e74d269d10e7f6d0236aa3",
       "value": "None"
      }
     },
     "0c9cf1a94a3948488a50f026e46d2436": {
      "model_module": "@jupyter-widgets/base",
      "model_module_version": "2.0.0",
      "model_name": "LayoutModel",
      "state": {}
     },
     "0cf5b6f2df5c42ada3d8e095e2205560": {
      "model_module": "@jupyter-widgets/base",
      "model_module_version": "2.0.0",
      "model_name": "LayoutModel",
      "state": {}
     },
     "0d923014003540d4aed471ad86018fd7": {
      "model_module": "@jupyter-widgets/controls",
      "model_module_version": "2.0.0",
      "model_name": "CheckboxModel",
      "state": {
       "_dom_classes": [
        "cofi-input-widget"
       ],
       "description": "Apply bias",
       "disabled": false,
       "layout": "IPY_MODEL_e14673e58a5f4321b244723fb1d63b63",
       "style": "IPY_MODEL_1e24b66adc0b49c1864b07646e4cde8d",
       "value": false
      }
     },
     "0d98aaecb8994bca9ee923bde6f69201": {
      "model_module": "@jupyter-widgets/controls",
      "model_module_version": "2.0.0",
      "model_name": "AccordionModel",
      "state": {
       "children": [
        "IPY_MODEL_d51463cf8fdc4c91963942ca41a5e44c"
       ],
       "layout": "IPY_MODEL_12f6fec84f314699881add46cc87b59f",
       "titles": [
        "Advanced Parameters"
       ]
      }
     },
     "0db5f5c2b9584ef5a098257f68792a8d": {
      "model_module": "@jupyter-widgets/controls",
      "model_module_version": "2.0.0",
      "model_name": "CheckboxModel",
      "state": {
       "_dom_classes": [
        "cofi-input-widget"
       ],
       "description": "Apply dark",
       "disabled": false,
       "layout": "IPY_MODEL_eddf69f0772c419b8cd1eace5af78911",
       "style": "IPY_MODEL_50a22a4aa7024cbd883024632dce2c63",
       "value": false
      }
     },
     "0e0f3eff88cd4c0a98e9f812d8c79371": {
      "model_module": "@jupyter-widgets/controls",
      "model_module_version": "2.0.0",
      "model_name": "HTMLModel",
      "state": {
       "layout": "IPY_MODEL_c75de9acdac8425c9eaabd40ccb0c01e",
       "style": "IPY_MODEL_dcd9ae6272b240f8b50da8b67cf8b3eb",
       "value": "\n         <div class='help-section-text'>\n               <h5>Checking the Lamp Shift Value</h5>\n               <p><b>What it is:</b> It checks how much the arc has shifted relative to the lamp's reference solution from KOSMOS. This indicates the shift value you should use for wavelength calibration with your specific lamp (Ne, Ar, or Kr). We usually use Ne, which is the default in the notebook, but for users of Ar or Kr, this step is crucial.</p>\n               <p><b>GUI Interaction:</b> Click <b>\"Shift check\"</b> to view the plot comparison.</p>\n               <p>If you are using a lamp type other than the default (e.g., Ar or Kr instead of Ne) or a different reference file than <code>'KOSMOS/KOSMOS_red_waves.fits'</code>, run <b>\"Shift check\"</b> before performing wavelength calibration. This also means that you need to make the necessary changes in the <b>Advanced Parameters</b> as follows:</p>\n               <ul>\n                     <li><code>WaveCal_spec</code> (<code>lamp_spec_file</code>, path to the reference FITS WaveCal file, e.g., <code>'KOSMOS/KOSMOS_red_waves.fits'</code>).</li>\n                     <li><code>XMM Shift Multiplier</code> (<code>shift_multiplier</code>, multiplier to convert XMM mask coordinates to an initial pixel shift guess).</li>\n               </ul>\n               <p>Once you have achieved the desired shift, these values and the file will be used in the wavelength calibration. Make sure you save them somewhere because the widget will revert to its default settings if you rerun the cell.</p> \n         </div>\n        "
      }
     },
     "0eb02b6edfe847a98d037f4f7f8d5f72": {
      "model_module": "@jupyter-widgets/controls",
      "model_module_version": "2.0.0",
      "model_name": "CheckboxModel",
      "state": {
       "_dom_classes": [
        "cofi-input-widget"
       ],
       "description": "ID Fit Peaks",
       "disabled": false,
       "layout": "IPY_MODEL_e228ff1cfb444644994e7aa8fbbc081d",
       "style": "IPY_MODEL_4d0a1652ac88425d86fac67ad7fee578",
       "value": true
      }
     },
     "0eb68a7ff3284302b4b772d76a034259": {
      "model_module": "@jupyter-widgets/controls",
      "model_module_version": "2.0.0",
      "model_name": "TextStyleModel",
      "state": {
       "description_width": "initial",
       "font_size": null,
       "text_color": null
      }
     },
     "0eb84d5f0fe8464787e4af2c16dff0b9": {
      "model_module": "@jupyter-widgets/controls",
      "model_module_version": "2.0.0",
      "model_name": "TextStyleModel",
      "state": {
       "description_width": "initial",
       "font_size": null,
       "text_color": null
      }
     },
     "0ee0d7049a62474cad4d96735a08dc25": {
      "model_module": "@jupyter-widgets/controls",
      "model_module_version": "2.0.0",
      "model_name": "AccordionModel",
      "state": {
       "children": [
        "IPY_MODEL_2f57e4f87a604506b5a52c3d2b1c90ee"
       ],
       "layout": "IPY_MODEL_3acce1d9f18049d19539faa96c59899f",
       "titles": [
        "Advanced Parameters"
       ]
      }
     },
     "0f94c57505cc42d58f2dabe7eb577f2a": {
      "model_module": "@jupyter-widgets/controls",
      "model_module_version": "2.0.0",
      "model_name": "DescriptionStyleModel",
      "state": {
       "description_width": "initial"
      }
     },
     "10a1492237494fd7ad4eba43cf0140c6": {
      "model_module": "@jupyter-widgets/base",
      "model_module_version": "2.0.0",
      "model_name": "LayoutModel",
      "state": {}
     },
     "10d65fc8ab7f484394203ddfe14ad682": {
      "model_module": "@jupyter-widgets/controls",
      "model_module_version": "2.0.0",
      "model_name": "DescriptionStyleModel",
      "state": {
       "description_width": "initial"
      }
     },
     "10f8bdc096334ed797fc38fdbc87ff28": {
      "model_module": "@jupyter-widgets/controls",
      "model_module_version": "2.0.0",
      "model_name": "DescriptionStyleModel",
      "state": {
       "description_width": "initial"
      }
     },
     "11305ab77df24fa3be901be0ab3a9f0a": {
      "model_module": "@jupyter-widgets/base",
      "model_module_version": "2.0.0",
      "model_name": "LayoutModel",
      "state": {}
     },
     "113f1181afe143008ce07bb887faa1bc": {
      "model_module": "@jupyter-widgets/base",
      "model_module_version": "2.0.0",
      "model_name": "LayoutModel",
      "state": {}
     },
     "119d23f715414bf094330aa5b6ca4511": {
      "model_module": "@jupyter-widgets/controls",
      "model_module_version": "2.0.0",
      "model_name": "HTMLStyleModel",
      "state": {
       "description_width": "",
       "font_size": null,
       "text_color": null
      }
     },
     "11d7be4a0a994242b45b9232d1b6c418": {
      "model_module": "@jupyter-widgets/controls",
      "model_module_version": "2.0.0",
      "model_name": "ButtonStyleModel",
      "state": {
       "font_family": null,
       "font_size": null,
       "font_style": null,
       "font_variant": null,
       "font_weight": null,
       "text_color": null,
       "text_decoration": null
      }
     },
     "1283e8655f4b43a89014d2ae32cdc54a": {
      "model_module": "@jupyter-widgets/controls",
      "model_module_version": "2.0.0",
      "model_name": "DescriptionStyleModel",
      "state": {
       "description_width": "initial"
      }
     },
     "12af8935bafa45cebc60a1ec4d2dd80e": {
      "model_module": "@jupyter-widgets/controls",
      "model_module_version": "2.0.0",
      "model_name": "TextModel",
      "state": {
       "_dom_classes": [
        "cofi-input-widget"
       ],
       "description": "Arc Frames:",
       "layout": "IPY_MODEL_7f4b2c3255b14c19be06f4e030f36d02",
       "placeholder": "e.g., 23,24",
       "style": "IPY_MODEL_6153c151462e4b189a08014a132af6ec",
       "value": "7"
      }
     },
     "12d6ffd90ff6461896fa39908c89c8c5": {
      "model_module": "@jupyter-widgets/controls",
      "model_module_version": "2.0.0",
      "model_name": "TextStyleModel",
      "state": {
       "description_width": "initial",
       "font_size": null,
       "text_color": null
      }
     },
     "12ef512de4c142dc8f6827140f051cb5": {
      "model_module": "@jupyter-widgets/controls",
      "model_module_version": "2.0.0",
      "model_name": "TextModel",
      "state": {
       "_dom_classes": [
        "cofi-input-widget"
       ],
       "description": "Trace Channel:",
       "layout": "IPY_MODEL_7f4b2c3255b14c19be06f4e030f36d02",
       "placeholder": "Optional",
       "style": "IPY_MODEL_cea6ca951b254618af29cd45da8480bd"
      }
     },
     "12f6fec84f314699881add46cc87b59f": {
      "model_module": "@jupyter-widgets/base",
      "model_module_version": "2.0.0",
      "model_name": "LayoutModel",
      "state": {}
     },
     "1345b0b76aad4d14af4af1db35deb148": {
      "model_module": "@jupyter-widgets/controls",
      "model_module_version": "2.0.0",
      "model_name": "ButtonStyleModel",
      "state": {
       "font_family": null,
       "font_size": null,
       "font_style": null,
       "font_variant": null,
       "font_weight": null,
       "text_color": null,
       "text_decoration": null
      }
     },
     "136069defbca4c2381db292185711796": {
      "model_module": "@jupyter-widgets/controls",
      "model_module_version": "2.0.0",
      "model_name": "HTMLStyleModel",
      "state": {
       "description_width": "",
       "font_size": null,
       "text_color": null
      }
     },
     "14d9590f592e450c87856c186e8e6dc1": {
      "model_module": "@jupyter-widgets/controls",
      "model_module_version": "2.0.0",
      "model_name": "HTMLModel",
      "state": {
       "layout": "IPY_MODEL_320a3581113546c8a087ec382b669f93",
       "style": "IPY_MODEL_25d1d9ab7a6f41ce9839ad7ce07eb4b3",
       "value": "<h3 class='sub-tab-title'>Compute Master Flat</h3>"
      }
     },
     "15aae58e53a944b6a0371f88dc14d1a3": {
      "model_module": "@jupyter-widgets/controls",
      "model_module_version": "2.0.0",
      "model_name": "TabModel",
      "state": {
       "children": [
        "IPY_MODEL_a20ec60f21dc456087532f92399615bf",
        "IPY_MODEL_ceac46f7494d4912bff23a9c169ffdcb"
       ],
       "layout": "IPY_MODEL_af5f87731d094027877ff9710002506a",
       "selected_index": 0,
       "titles": [
        "Find Slits",
        "Filter Targets"
       ]
      }
     },
     "15ea95634b914400800f15e65d8fe7e1": {
      "model_module": "@jupyter-widgets/controls",
      "model_module_version": "2.0.0",
      "model_name": "ButtonStyleModel",
      "state": {
       "font_family": null,
       "font_size": null,
       "font_style": null,
       "font_variant": null,
       "font_weight": null,
       "text_color": null,
       "text_decoration": null
      }
     },
     "1655f114ac4042e7a4c4e4736038608a": {
      "model_module": "@jupyter-widgets/controls",
      "model_module_version": "2.0.0",
      "model_name": "CheckboxModel",
      "state": {
       "_dom_classes": [
        "cofi-input-widget"
       ],
       "description": "Apply darks",
       "disabled": false,
       "layout": "IPY_MODEL_8e98497980a34147be584dda067d845a",
       "style": "IPY_MODEL_0be66c3900f2405db3dda05286dd4153",
       "value": false
      }
     },
     "16618cd91ab54998938e3d41cba0be37": {
      "model_module": "@jupyter-widgets/base",
      "model_module_version": "2.0.0",
      "model_name": "LayoutModel",
      "state": {
       "display": "none",
       "margin": "0 0 0 25px",
       "padding": "8px"
      }
     },
     "17aff0cbfb8c4021a4a3460ca95b00a4": {
      "model_module": "@jupyter-widgets/controls",
      "model_module_version": "2.0.0",
      "model_name": "HTMLModel",
      "state": {
       "layout": "IPY_MODEL_d2ec989486c44dedaa0390f43e61c5e8",
       "style": "IPY_MODEL_389a98c47c0949628f1f5eb14364afaa",
       "value": "<h4>Default Parameters for 1D Extraction:</h4>"
      }
     },
     "17fd66e8eb154aadb77a2be3f55ae5ed": {
      "model_module": "@jupyter-widgets/controls",
      "model_module_version": "2.0.0",
      "model_name": "DescriptionStyleModel",
      "state": {
       "description_width": "initial"
      }
     },
     "18087c08f5ce4a0995545a09764b250f": {
      "model_module": "@jupyter-widgets/controls",
      "model_module_version": "2.0.0",
      "model_name": "ButtonModel",
      "state": {
       "_dom_classes": [
        "custom-button",
        "run-button"
       ],
       "description": "Find Slits",
       "icon": "search",
       "layout": "IPY_MODEL_7f4b2c3255b14c19be06f4e030f36d02",
       "style": "IPY_MODEL_865fb16ad10141ad84daa46e9991163d",
       "tooltip": null
      }
     },
     "181c549669fe41dd8f82cc43fc8a5453": {
      "model_module": "@jupyter-widgets/controls",
      "model_module_version": "2.0.0",
      "model_name": "VBoxModel",
      "state": {
       "children": [
        "IPY_MODEL_aa23907822054d0d9795aecc94d801e1"
       ],
       "layout": "IPY_MODEL_5841ea8042a94dadbb1f17a659d67721"
      }
     },
     "186f4c18b8ec42df8746128bb1c54f93": {
      "model_module": "@jupyter-widgets/base",
      "model_module_version": "2.0.0",
      "model_name": "LayoutModel",
      "state": {}
     },
     "196ae6efa3894fb7a826d3ca3f08c132": {
      "model_module": "@jupyter-widgets/base",
      "model_module_version": "2.0.0",
      "model_name": "LayoutModel",
      "state": {}
     },
     "19877e29257b463dba76f107a4e18761": {
      "model_module": "@jupyter-widgets/controls",
      "model_module_version": "2.0.0",
      "model_name": "HTMLStyleModel",
      "state": {
       "description_width": "",
       "font_size": null,
       "text_color": null
      }
     },
     "1a190076a2914e66a25de38c6490fbc4": {
      "model_module": "@jupyter-widgets/base",
      "model_module_version": "2.0.0",
      "model_name": "LayoutModel",
      "state": {}
     },
     "1a5ff0fcb11849a18dd85be44c116c09": {
      "model_module": "@jupyter-widgets/controls",
      "model_module_version": "2.0.0",
      "model_name": "VBoxModel",
      "state": {
       "children": [
        "IPY_MODEL_17aff0cbfb8c4021a4a3460ca95b00a4",
        "IPY_MODEL_34dbbee99a1945d19b441595b7d97862"
       ],
       "layout": "IPY_MODEL_11305ab77df24fa3be901be0ab3a9f0a"
      }
     },
     "1b184b57773b42f4a9b5bb285cd83641": {
      "model_module": "@jupyter-widgets/base",
      "model_module_version": "2.0.0",
      "model_name": "LayoutModel",
      "state": {}
     },
     "1b290766c793432b83e798b6820ce741": {
      "model_module": "@jupyter-widgets/controls",
      "model_module_version": "2.0.0",
      "model_name": "HBoxModel",
      "state": {
       "children": [
        "IPY_MODEL_9cca98d02fc04280917cbb60dae4c507",
        "IPY_MODEL_88f8858a2d464797bf55c569cb1dc012",
        "IPY_MODEL_a060b19deb5f4a6f93448c55873063b7"
       ],
       "layout": "IPY_MODEL_e42e08fdba8541659b05fda2661099e4"
      }
     },
     "1b49f3bec8e94e44a82e00e6ec945fbb": {
      "model_module": "@jupyter-widgets/controls",
      "model_module_version": "2.0.0",
      "model_name": "ButtonStyleModel",
      "state": {
       "font_family": null,
       "font_size": null,
       "font_style": null,
       "font_variant": null,
       "font_weight": null,
       "text_color": null,
       "text_decoration": null
      }
     },
     "1b5bccb2082644c4b80ff61c3ba0ba29": {
      "model_module": "@jupyter-widgets/controls",
      "model_module_version": "2.0.0",
      "model_name": "CheckboxModel",
      "state": {
       "_dom_classes": [
        "cofi-input-widget"
       ],
       "description": "ID Enable Plots",
       "disabled": false,
       "layout": "IPY_MODEL_c9d5b348a1534f7e8502bdedb4296e2b",
       "style": "IPY_MODEL_5a891c5ce4a64f008a634c79dccc4626",
       "value": true
      }
     },
     "1b8b26fef1f34fcfa2f1e08b0bbae2f2": {
      "model_module": "@jupyter-widgets/controls",
      "model_module_version": "2.0.0",
      "model_name": "CheckboxStyleModel",
      "state": {
       "description_width": ""
      }
     },
     "1c42bdf46f694d8785b08119498198af": {
      "model_module": "@jupyter-widgets/controls",
      "model_module_version": "2.0.0",
      "model_name": "TextStyleModel",
      "state": {
       "description_width": "initial",
       "font_size": null,
       "text_color": null
      }
     },
     "1c945732cc7d405e92abb7aabf5dc2ac": {
      "model_module": "@jupyter-widgets/controls",
      "model_module_version": "2.0.0",
      "model_name": "TextModel",
      "state": {
       "_dom_classes": [
        "cofi-input-widget"
       ],
       "description": "Trace sc0:",
       "layout": "IPY_MODEL_7f4b2c3255b14c19be06f4e030f36d02",
       "placeholder": "Optional",
       "style": "IPY_MODEL_eee0ad8933cf4059906ea58df3a78973"
      }
     },
     "1ca617ee1a574d71ad984681e2c637bc": {
      "model_module": "@jupyter-widgets/base",
      "model_module_version": "2.0.0",
      "model_name": "LayoutModel",
      "state": {}
     },
     "1e07b7f5db5f4195a10bfccdaf9d2255": {
      "model_module": "@jupyter-widgets/controls",
      "model_module_version": "2.0.0",
      "model_name": "TextStyleModel",
      "state": {
       "description_width": "initial",
       "font_size": null,
       "text_color": null
      }
     },
     "1e24b66adc0b49c1864b07646e4cde8d": {
      "model_module": "@jupyter-widgets/controls",
      "model_module_version": "2.0.0",
      "model_name": "CheckboxStyleModel",
      "state": {
       "description_width": ""
      }
     },
     "1e3a088da68b498ca019b527ecb33016": {
      "model_module": "@jupyter-widgets/base",
      "model_module_version": "2.0.0",
      "model_name": "LayoutModel",
      "state": {}
     },
     "1e763daca1964f8082437d8135f4a2bc": {
      "model_module": "@jupyter-widgets/controls",
      "model_module_version": "2.0.0",
      "model_name": "IntTextModel",
      "state": {
       "_dom_classes": [
        "cofi-input-widget"
       ],
       "description": "Pixels to skip (FindSlits):",
       "layout": "IPY_MODEL_7f4b2c3255b14c19be06f4e030f36d02",
       "step": 1,
       "style": "IPY_MODEL_870ec4797a604aeda220771eac9fdb58",
       "value": 50
      }
     },
     "1e91317e6e77449da3abb63aac82f89b": {
      "model_module": "@jupyter-widgets/base",
      "model_module_version": "2.0.0",
      "model_name": "LayoutModel",
      "state": {}
     },
     "1f52c031e6604410a454e4c2148884be": {
      "model_module": "@jupyter-widgets/controls",
      "model_module_version": "2.0.0",
      "model_name": "FloatTextModel",
      "state": {
       "_dom_classes": [
        "cofi-input-widget"
       ],
       "description": "FindPeak Smooth:",
       "layout": "IPY_MODEL_7f4b2c3255b14c19be06f4e030f36d02",
       "step": null,
       "style": "IPY_MODEL_2745f176771b48bbaf92aa0cb70fcdac",
       "value": 5
      }
     },
     "207596da159b4db7979a267404980c2a": {
      "model_module": "@jupyter-widgets/controls",
      "model_module_version": "2.0.0",
      "model_name": "TextModel",
      "state": {
       "_dom_classes": [
        "cofi-input-widget"
       ],
       "description": "Specified channel if multi-channel:",
       "layout": "IPY_MODEL_7f4b2c3255b14c19be06f4e030f36d02",
       "placeholder": "int, default= None",
       "style": "IPY_MODEL_624963d257004c0d902bf9625c0371eb"
      }
     },
     "20771adb2d3c48f8a7f1cfa297dc26e9": {
      "model_module": "@jupyter-widgets/controls",
      "model_module_version": "2.0.0",
      "model_name": "HTMLStyleModel",
      "state": {
       "description_width": "",
       "font_size": null,
       "text_color": null
      }
     },
     "207da8fe252b460b9a27bf60f1c95262": {
      "model_module": "@jupyter-widgets/controls",
      "model_module_version": "2.0.0",
      "model_name": "TextStyleModel",
      "state": {
       "description_width": "initial",
       "font_size": null,
       "text_color": null
      }
     },
     "20f594ac7c1c4d8daa2ea6161b3f6911": {
      "model_module": "@jupyter-widgets/controls",
      "model_module_version": "2.0.0",
      "model_name": "FloatTextModel",
      "state": {
       "_dom_classes": [
        "cofi-input-widget"
       ],
       "description": "Sigma Reject:",
       "layout": "IPY_MODEL_7f4b2c3255b14c19be06f4e030f36d02",
       "step": null,
       "style": "IPY_MODEL_7561fd12fbb94caa972d72f952614a87",
       "value": 5
      }
     },
     "21269cb0d7934e88ab4afd30de0ec560": {
      "model_module": "@jupyter-widgets/controls",
      "model_module_version": "2.0.0",
      "model_name": "VBoxModel",
      "state": {
       "children": [
        "IPY_MODEL_5754863c9471425c8deab9ac09d35c4d",
        "IPY_MODEL_e2985f2e96de4249983ed0b083ee7534",
        "IPY_MODEL_b14467cce0f74048b93ec6ab6b261c1c",
        "IPY_MODEL_1b290766c793432b83e798b6820ce741",
        "IPY_MODEL_3b267f93c32243879afcc052ef1c060e",
        "IPY_MODEL_44a36b3223ad44d3b05c722bfd2ba77f",
        "IPY_MODEL_8164a134508d4c718ae15783357f6df7",
        "IPY_MODEL_9813386843e04831a686cbfb642a30c4",
        "IPY_MODEL_cf59194923aa4da58289b7863a666a6d",
        "IPY_MODEL_063dad123cc94863a943b598f1c491cf",
        "IPY_MODEL_f7877adb02b74487b29700f55da91396"
       ],
       "layout": "IPY_MODEL_096bc564ab704ccbaa382c7e8913d42c"
      }
     },
     "215f0a1949964cdc8f5c228b3693ee65": {
      "model_module": "@jupyter-widgets/controls",
      "model_module_version": "2.0.0",
      "model_name": "VBoxModel",
      "state": {
       "_dom_classes": [
        "cofi-guide-container"
       ],
       "children": [
        "IPY_MODEL_f04225bbaded46ce86f8f276057907bf",
        "IPY_MODEL_9bfadbc942994b9fa4f028ef437b70c4",
        "IPY_MODEL_498889bd1eaf49a88aa3184405c59838",
        "IPY_MODEL_2f3682dd04494a19ad245959e4912cc3",
        "IPY_MODEL_f0fb836e63bf45ef9647d50a6938aed3",
        "IPY_MODEL_6efd39c88c1a4e41bfeec496fae4a449",
        "IPY_MODEL_8ec8917d59544e7a83ef7b668f0de57b",
        "IPY_MODEL_181c549669fe41dd8f82cc43fc8a5453",
        "IPY_MODEL_9071d7901bfe4ad1be79540ba263f3c6",
        "IPY_MODEL_0c4fa4d681e34de7be37994bf84cc1bb",
        "IPY_MODEL_31ed780f55664d1eb24a1b8e0f781040",
        "IPY_MODEL_f56b0fa9f93942748cb1ad2651c1ad59",
        "IPY_MODEL_768c7f10206048929bababa4e1fc2626",
        "IPY_MODEL_90d30da5ecf448b5a16f3c6ce4d71a25",
        "IPY_MODEL_e1078e08bfb1434eb15083db28dc39aa",
        "IPY_MODEL_4d425bbe52464fa397596a2a8229fc41",
        "IPY_MODEL_697cad495d5844c7b25559b2da929087",
        "IPY_MODEL_93fab71673454dd1b2749f92adea2bd1",
        "IPY_MODEL_b399f0a560c541ea8ce6e5269ec7c0a2",
        "IPY_MODEL_67da7f180d624cf1bff4141d15dae68a",
        "IPY_MODEL_faea106ec38f4b4481a7af633cb26a96",
        "IPY_MODEL_7cf98c85b8b84fdf98d32e9c2c9e6f2f",
        "IPY_MODEL_f22d56bc56554fb791c55ba80cadcd89",
        "IPY_MODEL_306ccd9c4a464c16aff017b810fdf07d",
        "IPY_MODEL_790e3f9c2d804b7684a6b9bfbf022e72",
        "IPY_MODEL_571a2065bfd04dfe9ec822b08dd33e0c",
        "IPY_MODEL_056a9c0d886c4ab4a3043f00fc0223da",
        "IPY_MODEL_23e4236d8e254a3181de3a62f3f55728",
        "IPY_MODEL_a629cde6ff314a92985b9d1bf1975f3d",
        "IPY_MODEL_7b92d1da9c554970872b071208a2098d",
        "IPY_MODEL_4b970e92218e4d1b8d913428488889a0",
        "IPY_MODEL_e32f3e87bea54cc88c9f9347b24466ff",
        "IPY_MODEL_c7fc5ac7ea534b589dbabeefe2391d64",
        "IPY_MODEL_c2e88d963e6e40c6aedc26275cbe58d0"
       ],
       "layout": "IPY_MODEL_3e4f22a668b24c019a34fd197b30bfa2"
      }
     },
     "21805e6747f549e8bc0075db9536c442": {
      "model_module": "@jupyter-widgets/controls",
      "model_module_version": "2.0.0",
      "model_name": "HTMLModel",
      "state": {
       "layout": "IPY_MODEL_0c9cf1a94a3948488a50f026e46d2436",
       "style": "IPY_MODEL_20771adb2d3c48f8a7f1cfa297dc26e9",
       "value": "<h3 class='sub-tab-title'>Load Observation Data</h3>"
      }
     },
     "222b971423624813a84a98db38563ba1": {
      "model_module": "@jupyter-widgets/controls",
      "model_module_version": "2.0.0",
      "model_name": "TextModel",
      "state": {
       "_dom_classes": [
        "cofi-input-widget"
       ],
       "description": "Flat Frame for Slits:",
       "layout": "IPY_MODEL_7f4b2c3255b14c19be06f4e030f36d02",
       "placeholder": "e.g., 21",
       "style": "IPY_MODEL_364c5bcef4c449f69ba2434760d0c1ce",
       "value": "22"
      }
     },
     "229d94746f8d42eda5e55495c1c08cac": {
      "model_module": "@jupyter-widgets/base",
      "model_module_version": "2.0.0",
      "model_name": "LayoutModel",
      "state": {}
     },
     "2314fe87917647e7bf1b256193162c9a": {
      "model_module": "@jupyter-widgets/controls",
      "model_module_version": "2.0.0",
      "model_name": "HTMLStyleModel",
      "state": {
       "description_width": "",
       "font_size": null,
       "text_color": null
      }
     },
     "23343a98bb7649dc8b880928ab722199": {
      "model_module": "@jupyter-widgets/controls",
      "model_module_version": "2.0.0",
      "model_name": "CheckboxModel",
      "state": {
       "_dom_classes": [
        "cofi-input-widget"
       ],
       "description": "Flat littrow",
       "disabled": false,
       "layout": "IPY_MODEL_812ba8e5019e4b7391a6a3232faa5b71",
       "style": "IPY_MODEL_07f05675867244be87e472f136f22258",
       "value": false
      }
     },
     "2378b6488597438e8a981ca2d2ea6563": {
      "model_module": "@jupyter-widgets/base",
      "model_module_version": "2.0.0",
      "model_name": "LayoutModel",
      "state": {}
     },
     "2389c7129ea8482088bafbb61a029c43": {
      "model_module": "@jupyter-widgets/base",
      "model_module_version": "2.0.0",
      "model_name": "LayoutModel",
      "state": {}
     },
     "23b15db31b1a415ca6988693df71d51d": {
      "model_module": "@jupyter-widgets/controls",
      "model_module_version": "2.0.0",
      "model_name": "FileUploadModel",
      "state": {
       "_dom_classes": [
        "cofi-input-widget"
       ],
       "accept": ".txt",
       "description": "Upload Log File",
       "description_allow_html": false,
       "layout": "IPY_MODEL_7f4b2c3255b14c19be06f4e030f36d02",
       "style": "IPY_MODEL_15ea95634b914400800f15e65d8fe7e1"
      }
     },
     "23e4236d8e254a3181de3a62f3f55728": {
      "model_module": "@jupyter-widgets/controls",
      "model_module_version": "2.0.0",
      "model_name": "VBoxModel",
      "state": {
       "children": [
        "IPY_MODEL_c445acce96f9406bb389a8f2188b9a32"
       ],
       "layout": "IPY_MODEL_4a578bcaeeeb407ca98b8ba77832a181"
      }
     },
     "243753052a72490e8ec79a4421f17624": {
      "model_module": "@jupyter-widgets/controls",
      "model_module_version": "2.0.0",
      "model_name": "DescriptionStyleModel",
      "state": {
       "description_width": "initial"
      }
     },
     "244a08f97ac446cd8e004fb985fc2827": {
      "model_module": "@jupyter-widgets/controls",
      "model_module_version": "2.0.0",
      "model_name": "HTMLModel",
      "state": {
       "layout": "IPY_MODEL_229d94746f8d42eda5e55495c1c08cac",
       "style": "IPY_MODEL_7006fcb8e9ce4a0fb434a8504bf32ac5",
       "value": "\n        <div class='help-section-text'>\n            <h5>Master Dark Creation</h5>\n            <p><b>What it is:</b> A Master Dark frame is used to remove 'dark current' – signal generated by thermal electrons in the CCD that accumulates over time, even in the absence of light. It's dependent on exposure time and CCD temperature.</p>\n            <p><b>GUI Interaction:</b> Enter dark frame numbers (e.g., <code>94,95,96</code>) in \"Dark Frames:\" and click \"Compute Dark\".</p>\n            \n        </div>\n        "
      }
     },
     "25cad4b4e18e46d6bf82773e23d152e4": {
      "model_module": "@jupyter-widgets/controls",
      "model_module_version": "2.0.0",
      "model_name": "CheckboxStyleModel",
      "state": {
       "description_width": ""
      }
     },
     "25d1d9ab7a6f41ce9839ad7ce07eb4b3": {
      "model_module": "@jupyter-widgets/controls",
      "model_module_version": "2.0.0",
      "model_name": "HTMLStyleModel",
      "state": {
       "description_width": "",
       "font_size": null,
       "text_color": null
      }
     },
     "2660bd8b0a334af8894c891ee9ccfd92": {
      "model_module": "@jupyter-widgets/controls",
      "model_module_version": "2.0.0",
      "model_name": "CheckboxStyleModel",
      "state": {
       "description_width": ""
      }
     },
     "269a244f37884b8aa20d25f1bec752fa": {
      "model_module": "@jupyter-widgets/controls",
      "model_module_version": "2.0.0",
      "model_name": "IntTextModel",
      "state": {
       "_dom_classes": [
        "cofi-input-widget"
       ],
       "description": "Trace HDU:",
       "layout": "IPY_MODEL_82ebe5b588a54c56be6db8a7697d575c",
       "step": 1,
       "style": "IPY_MODEL_468bce9877c244939ac37803e090c44c",
       "value": 1
      }
     },
     "26e88104474341b6b42f26e1fa6dbb9c": {
      "model_module": "@jupyter-widgets/base",
      "model_module_version": "2.0.0",
      "model_name": "LayoutModel",
      "state": {
       "display": "none",
       "margin": "0 0 0 25px",
       "padding": "8px"
      }
     },
     "2745f176771b48bbaf92aa0cb70fcdac": {
      "model_module": "@jupyter-widgets/controls",
      "model_module_version": "2.0.0",
      "model_name": "DescriptionStyleModel",
      "state": {
       "description_width": "initial"
      }
     },
     "278165b537fe4c87ac285f7d8ef9c507": {
      "model_module": "@jupyter-widgets/base",
      "model_module_version": "2.0.0",
      "model_name": "LayoutModel",
      "state": {}
     },
     "2783e1bac85244989045712ca8878d24": {
      "model_module": "@jupyter-widgets/base",
      "model_module_version": "2.0.0",
      "model_name": "LayoutModel",
      "state": {}
     },
     "279b331cfb284ea8886bb7d0ac805637": {
      "model_module": "@jupyter-widgets/controls",
      "model_module_version": "2.0.0",
      "model_name": "TextStyleModel",
      "state": {
       "description_width": "initial",
       "font_size": null,
       "text_color": null
      }
     },
     "2854987b67db438d9b28e2baa46b88be": {
      "model_module": "@jupyter-widgets/controls",
      "model_module_version": "2.0.0",
      "model_name": "CheckboxModel",
      "state": {
       "_dom_classes": [
        "cofi-input-widget"
       ],
       "description": "FindPeak Plot",
       "disabled": false,
       "layout": "IPY_MODEL_dc00778c46034d3eaa85612aa66b1e3c",
       "style": "IPY_MODEL_3e44faad008b4b62b6490d43ac0a2926",
       "value": false
      }
     },
     "294c1915721f45309822a5e6bf005735": {
      "model_module": "@jupyter-widgets/controls",
      "model_module_version": "2.0.0",
      "model_name": "FloatTextModel",
      "state": {
       "_dom_classes": [
        "cofi-input-widget"
       ],
       "description": "Skyline Thresh:",
       "layout": "IPY_MODEL_7f4b2c3255b14c19be06f4e030f36d02",
       "step": null,
       "style": "IPY_MODEL_82551d995f5b47c19475dfa092cd4114",
       "value": 10
      }
     },
     "2a640eb2c0044695a9bcb689e4de0212": {
      "model_module": "@jupyter-widgets/controls",
      "model_module_version": "2.0.0",
      "model_name": "VBoxModel",
      "state": {
       "children": [
        "IPY_MODEL_a4865d1a037649ac9411a34bbca00682",
        "IPY_MODEL_1a5ff0fcb11849a18dd85be44c116c09",
        "IPY_MODEL_fadd6b0e0c684ceca7ee80c92d9ab616",
        "IPY_MODEL_f99995ca0a6b41709494b8861c18b491",
        "IPY_MODEL_c05200854b194fd3be872d733c0dd77e",
        "IPY_MODEL_935df8b81d814395a79f74c769a86982",
        "IPY_MODEL_9f9cedd683c54709af0fb416409eef1c",
        "IPY_MODEL_4130bb582f9b48c683e3b69bd6b64efe",
        "IPY_MODEL_c360332037c046cd96c5a1b14553f220"
       ],
       "layout": "IPY_MODEL_8220d2be7c9b4ef1bf7f684c1447d415"
      }
     },
     "2a786b1505c44b1fa6043a6ddc58104e": {
      "model_module": "@jupyter-widgets/base",
      "model_module_version": "2.0.0",
      "model_name": "LayoutModel",
      "state": {}
     },
     "2a963140c81c40eeb03ea5d7003d7b36": {
      "model_module": "@jupyter-widgets/base",
      "model_module_version": "2.0.0",
      "model_name": "LayoutModel",
      "state": {}
     },
     "2aac0e2aa61c4735960143680435b6ba": {
      "model_module": "@jupyter-widgets/controls",
      "model_module_version": "2.0.0",
      "model_name": "CheckboxStyleModel",
      "state": {
       "description_width": ""
      }
     },
     "2ac746327d3643e1b4442cfbf1ba47a0": {
      "model_module": "@jupyter-widgets/controls",
      "model_module_version": "2.0.0",
      "model_name": "TextModel",
      "state": {
       "_dom_classes": [
        "cofi-input-widget"
       ],
       "description": "Values:",
       "layout": "IPY_MODEL_7f4b2c3255b14c19be06f4e030f36d02",
       "placeholder": "e.g., 6,7,9",
       "style": "IPY_MODEL_635700c8ba6e4a5e90c6d4e062ba3787",
       "value": "TARG101,TARG102,TARG103,TARG104,TARG105,TARG106"
      }
     },
     "2b39bd28894f4637a6c2e08a51d2309d": {
      "model_module": "@jupyter-widgets/base",
      "model_module_version": "2.0.0",
      "model_name": "LayoutModel",
      "state": {}
     },
     "2bda3ffcc4224d839518790aefdeb300": {
      "model_module": "@jupyter-widgets/base",
      "model_module_version": "2.0.0",
      "model_name": "LayoutModel",
      "state": {}
     },
     "2c5b96fdbc204ecf8dd1bd0b0d8ed4b4": {
      "model_module": "@jupyter-widgets/controls",
      "model_module_version": "2.0.0",
      "model_name": "CheckboxStyleModel",
      "state": {
       "description_width": ""
      }
     },
     "2cc21251637a477facdab4f53c8789d6": {
      "model_module": "@jupyter-widgets/controls",
      "model_module_version": "2.0.0",
      "model_name": "TextStyleModel",
      "state": {
       "description_width": "initial",
       "font_size": null,
       "text_color": null
      }
     },
     "2e993250b604453e83470e0286094690": {
      "model_module": "@jupyter-widgets/controls",
      "model_module_version": "2.0.0",
      "model_name": "VBoxModel",
      "state": {
       "children": [
        "IPY_MODEL_3e4ec5f12cb4456a9f516c6499c61c75",
        "IPY_MODEL_a093469bdd954c3eb321ce69e73d50f6",
        "IPY_MODEL_1e763daca1964f8082437d8135f4a2bc",
        "IPY_MODEL_59f099bac73a4cb7aeadbf8931315306"
       ],
       "layout": "IPY_MODEL_1ca617ee1a574d71ad984681e2c637bc"
      }
     },
     "2eb96f9a23f9436c92f7e61f725ac5b3": {
      "model_module": "@jupyter-widgets/base",
      "model_module_version": "2.0.0",
      "model_name": "LayoutModel",
      "state": {}
     },
     "2edf75f2cba540bda9e0ec9b095ae3d5": {
      "model_module": "@jupyter-widgets/base",
      "model_module_version": "2.0.0",
      "model_name": "LayoutModel",
      "state": {
       "margin": "0 0 0 20px"
      }
     },
     "2f3682dd04494a19ad245959e4912cc3": {
      "model_module": "@jupyter-widgets/controls",
      "model_module_version": "2.0.0",
      "model_name": "VBoxModel",
      "state": {
       "children": [
        "IPY_MODEL_c8dfad1c443841c385b1090f1acc373a"
       ],
       "layout": "IPY_MODEL_26e88104474341b6b42f26e1fa6dbb9c"
      }
     },
     "2f57e4f87a604506b5a52c3d2b1c90ee": {
      "model_module": "@jupyter-widgets/controls",
      "model_module_version": "2.0.0",
      "model_name": "VBoxModel",
      "state": {
       "children": [
        "IPY_MODEL_e7b0ad046fe046bb9de3c08e1d9402aa",
        "IPY_MODEL_20f594ac7c1c4d8daa2ea6161b3f6911",
        "IPY_MODEL_7cfcb4614b2b42e08a7d001c2cd51d4a",
        "IPY_MODEL_93422274a64842c299e77b01134a828b",
        "IPY_MODEL_ebd7888abe1e4c90af53f795613c8d17",
        "IPY_MODEL_afd81d5035f9471886fc4583dd333f98"
       ],
       "layout": "IPY_MODEL_472f90069e2543939f44e658370c87f6"
      }
     },
     "2fa498578ec9425d83e33b78f588e738": {
      "model_module": "@jupyter-widgets/controls",
      "model_module_version": "2.0.0",
      "model_name": "DescriptionStyleModel",
      "state": {
       "description_width": "initial"
      }
     },
     "2fc17c4d6b76490f85b59616299eb9f1": {
      "model_module": "@jupyter-widgets/controls",
      "model_module_version": "2.0.0",
      "model_name": "CheckboxModel",
      "state": {
       "_dom_classes": [
        "cofi-input-widget"
       ],
       "description": "ID Interactive",
       "disabled": false,
       "layout": "IPY_MODEL_4ae757db69364cc898da2c57edd6fadf",
       "style": "IPY_MODEL_d324023383ea4e7f8f917e5b2bc77b5e",
       "value": false
      }
     },
     "304723078ecc4f248de458321fe1423e": {
      "model_module": "@jupyter-widgets/controls",
      "model_module_version": "2.0.0",
      "model_name": "DescriptionStyleModel",
      "state": {
       "description_width": "initial"
      }
     },
     "306ccd9c4a464c16aff017b810fdf07d": {
      "model_module": "@jupyter-widgets/controls",
      "model_module_version": "2.0.0",
      "model_name": "VBoxModel",
      "state": {
       "children": [
        "IPY_MODEL_54c2c8d4e1d648928ccc18d69625d40b"
       ],
       "layout": "IPY_MODEL_573dee8ed0484c7da9ac53165554aa9b"
      }
     },
     "3071ca51574348cf8a732686a3c4a7f3": {
      "model_module": "@jupyter-widgets/controls",
      "model_module_version": "2.0.0",
      "model_name": "VBoxModel",
      "state": {
       "children": [
        "IPY_MODEL_3c668224d9cf4dccb3e2c2f37fbb56ed",
        "IPY_MODEL_d73f99ec864148629a8c3aa7caec01db",
        "IPY_MODEL_7edbd07d71bd4655b8016eca5af6fc65",
        "IPY_MODEL_df46babf420d47d49dd1c955b24aa884",
        "IPY_MODEL_328e690b4d6d4ce79d11f95f9da4a19d",
        "IPY_MODEL_d0d62a1c7a444c74945d3bf4ae6d6870",
        "IPY_MODEL_e58885701b9249e894c3bc1c2fcc3e97",
        "IPY_MODEL_5da03f4589834795811e14be54a26d5f",
        "IPY_MODEL_7b346fc22501464cad5989ce9a9a0cc3",
        "IPY_MODEL_f313e4d4a1004b07a30116cb9f9cabb4",
        "IPY_MODEL_a6568612100d4e3ab402c3bcdadf3c34"
       ],
       "layout": "IPY_MODEL_e38719a899ba489686cf92b173c9bcf2"
      }
     },
     "30d9ff4c6304478aae6cb5d807309852": {
      "model_module": "@jupyter-widgets/controls",
      "model_module_version": "2.0.0",
      "model_name": "ButtonModel",
      "state": {
       "_dom_classes": [
        "custom-button"
       ],
       "description": "Read Folder",
       "icon": "folder-open",
       "layout": "IPY_MODEL_7f4b2c3255b14c19be06f4e030f36d02",
       "style": "IPY_MODEL_fc9a20d4875247e9a24ec70af48debd6",
       "tooltip": null
      }
     },
     "313378b76c6e41ff8c80936411470b21": {
      "model_module": "@jupyter-widgets/base",
      "model_module_version": "2.0.0",
      "model_name": "LayoutModel",
      "state": {
       "display": "none",
       "margin": "0 0 0 25px",
       "padding": "8px"
      }
     },
     "31c5d49104d046f2bd3edba406343079": {
      "model_module": "@jupyter-widgets/base",
      "model_module_version": "2.0.0",
      "model_name": "LayoutModel",
      "state": {}
     },
     "31ed780f55664d1eb24a1b8e0f781040": {
      "model_module": "@jupyter-widgets/controls",
      "model_module_version": "2.0.0",
      "model_name": "CheckboxModel",
      "state": {
       "description": "Master Flat Creation",
       "disabled": false,
       "layout": "IPY_MODEL_6d964e4a37ee400f84bd83420c0e51fd",
       "style": "IPY_MODEL_90524c0a17ee453f963910111a529ed7",
       "value": false
      }
     },
     "320a3581113546c8a087ec382b669f93": {
      "model_module": "@jupyter-widgets/base",
      "model_module_version": "2.0.0",
      "model_name": "LayoutModel",
      "state": {}
     },
     "328e690b4d6d4ce79d11f95f9da4a19d": {
      "model_module": "@jupyter-widgets/controls",
      "model_module_version": "2.0.0",
      "model_name": "TextModel",
      "state": {
       "_dom_classes": [
        "cofi-input-widget"
       ],
       "description": "FindPeak sc0:",
       "layout": "IPY_MODEL_7f4b2c3255b14c19be06f4e030f36d02",
       "placeholder": "Optional",
       "style": "IPY_MODEL_6f8fb5d0742a4f289bc99275317256cd"
      }
     },
     "32982d25d0a64277bcda65c2ee888566": {
      "model_module": "@jupyter-widgets/base",
      "model_module_version": "2.0.0",
      "model_name": "LayoutModel",
      "state": {}
     },
     "329980c51dfd44c6aa0a5a9b74469007": {
      "model_module": "@jupyter-widgets/controls",
      "model_module_version": "2.0.0",
      "model_name": "HTMLModel",
      "state": {
       "layout": "IPY_MODEL_3591b49ca0cf44ca9a01df0d92581999",
       "style": "IPY_MODEL_d1acdd838c344c28b11c773af5000042",
       "value": "<h3 class='sub-tab-title'>Filter Slits & Update Headers</h3>"
      }
     },
     "32ac6a2f25e442b5a4a5c68054d89dc7": {
      "model_module": "@jupyter-widgets/controls",
      "model_module_version": "2.0.0",
      "model_name": "TextModel",
      "state": {
       "_dom_classes": [
        "cofi-input-widget"
       ],
       "description": "Trace Model Type:",
       "layout": "IPY_MODEL_7f4b2c3255b14c19be06f4e030f36d02",
       "style": "IPY_MODEL_b834f027a411441a885353704b4f7d32",
       "value": "Polynomial1D"
      }
     },
     "33871d9556a342f092e8c3a54a0ec88d": {
      "model_module": "@jupyter-widgets/controls",
      "model_module_version": "2.0.0",
      "model_name": "CheckboxModel",
      "state": {
       "_dom_classes": [
        "cofi-input-widget"
       ],
       "description": "Display indivitual flats",
       "disabled": false,
       "layout": "IPY_MODEL_53c1bc0c4eac47cf92a891942a85d833",
       "style": "IPY_MODEL_2aac0e2aa61c4735960143680435b6ba",
       "value": false
      }
     },
     "3466d6172a6347738e9990aebf961624": {
      "model_module": "@jupyter-widgets/controls",
      "model_module_version": "2.0.0",
      "model_name": "VBoxModel",
      "state": {
       "children": [
        "IPY_MODEL_0c841a26a7f64509b480f4fa2b9d8969",
        "IPY_MODEL_45152107771745a381f7edec3deeef9f",
        "IPY_MODEL_c674dfc5175044bca90dadd2b8abf3f7",
        "IPY_MODEL_df756e7003a149fda4a251b58e34b0d2",
        "IPY_MODEL_8472e56790e84dc493a9523df78931e3",
        "IPY_MODEL_0c3f5d73044e4967b2c6e6cd743d644a"
       ],
       "layout": "IPY_MODEL_db61de6d9bc747519b899c61bd0adebe"
      }
     },
     "34dbbee99a1945d19b441595b7d97862": {
      "model_module": "@jupyter-widgets/controls",
      "model_module_version": "2.0.0",
      "model_name": "AccordionModel",
      "state": {
       "children": [
        "IPY_MODEL_3466d6172a6347738e9990aebf961624",
        "IPY_MODEL_f9a10b6fb7ea4fb88fcd36f1faf87d3a",
        "IPY_MODEL_8873418f3616495186276d8fc9035eb3",
        "IPY_MODEL_674ed5820a8e415791b4bdb0a2c5b015",
        "IPY_MODEL_9bb57bfa18874b648e3bb88afa05287e"
       ],
       "layout": "IPY_MODEL_70685e9cecca48c98a4f08a481b69df6",
       "titles": [
        "Extraction & Plotting",
        "Trace Class Parameters",
        "FindPeak Parameters",
        "Trace Method Parameters",
        "Skyline Parameters"
       ]
      }
     },
     "34e5879e968a4461807b998770bc0b36": {
      "model_module": "@jupyter-widgets/base",
      "model_module_version": "2.0.0",
      "model_name": "LayoutModel",
      "state": {}
     },
     "357b12d283b3471985d0380e6e1525aa": {
      "model_module": "@jupyter-widgets/controls",
      "model_module_version": "2.0.0",
      "model_name": "AccordionModel",
      "state": {
       "children": [
        "IPY_MODEL_f13e95b8b5b04b99adff50eb25db04c4"
       ],
       "layout": "IPY_MODEL_ea484e63b591480593b51811f06d97ea",
       "titles": [
        "Advanced Parameters"
       ]
      }
     },
     "3591b49ca0cf44ca9a01df0d92581999": {
      "model_module": "@jupyter-widgets/base",
      "model_module_version": "2.0.0",
      "model_name": "LayoutModel",
      "state": {}
     },
     "364c5bcef4c449f69ba2434760d0c1ce": {
      "model_module": "@jupyter-widgets/controls",
      "model_module_version": "2.0.0",
      "model_name": "TextStyleModel",
      "state": {
       "description_width": "initial",
       "font_size": null,
       "text_color": null
      }
     },
     "36898635039a40eba75ce95d083092c6": {
      "model_module": "@jupyter-widgets/controls",
      "model_module_version": "2.0.0",
      "model_name": "TextStyleModel",
      "state": {
       "description_width": "initial",
       "font_size": null,
       "text_color": null
      }
     },
     "36ec8473bf0b463d831e9716f231acbd": {
      "model_module": "@jupyter-widgets/base",
      "model_module_version": "2.0.0",
      "model_name": "LayoutModel",
      "state": {}
     },
     "37e56eb4c51c4a9291d40eec3d55e0f2": {
      "model_module": "@jupyter-widgets/controls",
      "model_module_version": "2.0.0",
      "model_name": "TextModel",
      "state": {
       "_dom_classes": [
        "cofi-input-widget"
       ],
       "description": "Folder Path:",
       "layout": "IPY_MODEL_7f4b2c3255b14c19be06f4e030f36d02",
       "placeholder": "e.g., UT230909",
       "style": "IPY_MODEL_64d5602254c4472399f167a1e33bdb36",
       "value": "Star_JH-223705"
      }
     },
     "383c3943c30b4c67a8e4d7a8b74666af": {
      "model_module": "@jupyter-widgets/controls",
      "model_module_version": "2.0.0",
      "model_name": "TextModel",
      "state": {
       "_dom_classes": [
        "cofi-input-widget"
       ],
       "description": "Trace Method srows:",
       "layout": "IPY_MODEL_7f4b2c3255b14c19be06f4e030f36d02",
       "placeholder": "Optional",
       "style": "IPY_MODEL_07c033ab1a1c4be1ab43c4ee2afc1755",
       "value": "None"
      }
     },
     "389a98c47c0949628f1f5eb14364afaa": {
      "model_module": "@jupyter-widgets/controls",
      "model_module_version": "2.0.0",
      "model_name": "HTMLStyleModel",
      "state": {
       "description_width": "",
       "font_size": null,
       "text_color": null
      }
     },
     "398a09cf0c7542d6a6ccd6461e79b4da": {
      "model_module": "@jupyter-widgets/controls",
      "model_module_version": "2.0.0",
      "model_name": "ButtonModel",
      "state": {
       "_dom_classes": [
        "custom-button",
        "run-button"
       ],
       "description": "Setup & Run 2D Extraction",
       "icon": "layer-group",
       "layout": "IPY_MODEL_7f4b2c3255b14c19be06f4e030f36d02",
       "style": "IPY_MODEL_639aae6099a14cda8c525247cbd0a849",
       "tooltip": null
      }
     },
     "39aec184642a4c42bd26a4f65f6dbc17": {
      "model_module": "@jupyter-widgets/base",
      "model_module_version": "2.0.0",
      "model_name": "LayoutModel",
      "state": {}
     },
     "3acce1d9f18049d19539faa96c59899f": {
      "model_module": "@jupyter-widgets/base",
      "model_module_version": "2.0.0",
      "model_name": "LayoutModel",
      "state": {}
     },
     "3b267f93c32243879afcc052ef1c060e": {
      "model_module": "@jupyter-widgets/controls",
      "model_module_version": "2.0.0",
      "model_name": "HBoxModel",
      "state": {
       "children": [
        "IPY_MODEL_1b5bccb2082644c4b80ff61c3ba0ba29",
        "IPY_MODEL_9185336409a848e7b90857d7507ae3a2"
       ],
       "layout": "IPY_MODEL_73542a77dfba48bc9a8f6b33c7d21409"
      }
     },
     "3b474dfbe09940a59a521cfb59fbd7ff": {
      "model_module": "@jupyter-widgets/base",
      "model_module_version": "2.0.0",
      "model_name": "LayoutModel",
      "state": {
       "margin": "0 0 0 20px"
      }
     },
     "3b6c9a32402f46859558d91c25d94065": {
      "model_module": "@jupyter-widgets/base",
      "model_module_version": "2.0.0",
      "model_name": "LayoutModel",
      "state": {}
     },
     "3c668224d9cf4dccb3e2c2f37fbb56ed": {
      "model_module": "@jupyter-widgets/controls",
      "model_module_version": "2.0.0",
      "model_name": "FloatTextModel",
      "state": {
       "_dom_classes": [
        "cofi-input-widget"
       ],
       "description": "FindPeak Thresh:",
       "layout": "IPY_MODEL_7f4b2c3255b14c19be06f4e030f36d02",
       "step": null,
       "style": "IPY_MODEL_e349231dcd3f4e8aa16b68c3eb4c2763",
       "value": 10
      }
     },
     "3d78e6f044874facbd0693d3e8055e14": {
      "model_module": "@jupyter-widgets/controls",
      "model_module_version": "2.0.0",
      "model_name": "VBoxModel",
      "state": {
       "children": [
        "IPY_MODEL_21805e6747f549e8bc0075db9536c442",
        "IPY_MODEL_37e56eb4c51c4a9291d40eec3d55e0f2",
        "IPY_MODEL_d2b35b45161b47f89e6332cf83149fea",
        "IPY_MODEL_30d9ff4c6304478aae6cb5d807309852",
        "IPY_MODEL_b6303f24c4e94a6fa8b297ffbedc4124",
        "IPY_MODEL_ee9c2fe1d1664aab8c1347f39fa4feed",
        "IPY_MODEL_23b15db31b1a415ca6988693df71d51d",
        "IPY_MODEL_d1c2b4ef565547cc86933bc78bce6449"
       ],
       "layout": "IPY_MODEL_cf0db4209cc949a3895961aa4299129e"
      }
     },
     "3da0c286e37244999642e035a47060cd": {
      "model_module": "@jupyter-widgets/base",
      "model_module_version": "2.0.0",
      "model_name": "LayoutModel",
      "state": {}
     },
     "3e44faad008b4b62b6490d43ac0a2926": {
      "model_module": "@jupyter-widgets/controls",
      "model_module_version": "2.0.0",
      "model_name": "CheckboxStyleModel",
      "state": {
       "description_width": ""
      }
     },
     "3e4c9a70d72245cbb530aa4a99043242": {
      "model_module": "@jupyter-widgets/controls",
      "model_module_version": "2.0.0",
      "model_name": "CheckboxStyleModel",
      "state": {
       "description_width": ""
      }
     },
     "3e4ec5f12cb4456a9f516c6499c61c75": {
      "model_module": "@jupyter-widgets/controls",
      "model_module_version": "2.0.0",
      "model_name": "FloatTextModel",
      "state": {
       "_dom_classes": [
        "cofi-input-widget"
       ],
       "description": "Smooth Radius (FindSlits):",
       "layout": "IPY_MODEL_7f4b2c3255b14c19be06f4e030f36d02",
       "step": null,
       "style": "IPY_MODEL_71b845db20894f548e14dbc34bb9d224",
       "value": 3
      }
     },
     "3e4f22a668b24c019a34fd197b30bfa2": {
      "model_module": "@jupyter-widgets/base",
      "model_module_version": "2.0.0",
      "model_name": "LayoutModel",
      "state": {
       "padding": "10px"
      }
     },
     "3efabe102d414ca187632fe8eddc2285": {
      "model_module": "@jupyter-widgets/controls",
      "model_module_version": "2.0.0",
      "model_name": "VBoxModel",
      "state": {
       "children": [
        "IPY_MODEL_d063b2dcdfae4be6875fab944634c6d2",
        "IPY_MODEL_e2b819f0208e4d639bc1b9f1a5d5e961",
        "IPY_MODEL_357b12d283b3471985d0380e6e1525aa",
        "IPY_MODEL_94e10bc178484cd9aecc820c2432f962"
       ],
       "layout": "IPY_MODEL_71768212a6114875bfc57e6517978268"
      }
     },
     "3f1ad26cefa24d8e849e86c6ddadf4ee": {
      "model_module": "@jupyter-widgets/base",
      "model_module_version": "2.0.0",
      "model_name": "LayoutModel",
      "state": {}
     },
     "4001ed19d4ab4a5c96ab60043904d94f": {
      "model_module": "@jupyter-widgets/controls",
      "model_module_version": "2.0.0",
      "model_name": "CheckboxStyleModel",
      "state": {
       "description_width": ""
      }
     },
     "400fe0821a0342be8288f91dfbbe4cf6": {
      "model_module": "@jupyter-widgets/base",
      "model_module_version": "2.0.0",
      "model_name": "LayoutModel",
      "state": {}
     },
     "406fa679154746c99786127a195406cd": {
      "model_module": "@jupyter-widgets/controls",
      "model_module_version": "2.0.0",
      "model_name": "CheckboxStyleModel",
      "state": {
       "description_width": ""
      }
     },
     "40c45e07493c40afadbeb46bc4616255": {
      "model_module": "@jupyter-widgets/base",
      "model_module_version": "2.0.0",
      "model_name": "LayoutModel",
      "state": {}
     },
     "4130bb582f9b48c683e3b69bd6b64efe": {
      "model_module": "@jupyter-widgets/controls",
      "model_module_version": "2.0.0",
      "model_name": "HTMLModel",
      "state": {
       "layout": "IPY_MODEL_9b3cf19fc267437d9434e65f722e1dcb",
       "style": "IPY_MODEL_48b1509911814b18a7dd37076d65f678",
       "value": "<h4>Log / Output (from processor):</h4>"
      }
     },
     "41e0e3a0899049d8baeb55b61f94fcc1": {
      "model_module": "@jupyter-widgets/controls",
      "model_module_version": "2.0.0",
      "model_name": "FloatTextModel",
      "state": {
       "_dom_classes": [
        "cofi-input-widget"
       ],
       "description": "S/N Min (for Norm):",
       "layout": "IPY_MODEL_7f4b2c3255b14c19be06f4e030f36d02",
       "step": null,
       "style": "IPY_MODEL_f6ab34b9a142491e85e089aa561d6a7d",
       "value": 50
      }
     },
     "41e480caf17e4bfebdaf8c651f52e6b6": {
      "model_module": "@jupyter-widgets/controls",
      "model_module_version": "2.0.0",
      "model_name": "CheckboxStyleModel",
      "state": {
       "description_width": ""
      }
     },
     "41f94f6e8b774dee8e3ba5102c367e91": {
      "model_module": "@jupyter-widgets/base",
      "model_module_version": "2.0.0",
      "model_name": "LayoutModel",
      "state": {
       "margin": "0 0 0 20px"
      }
     },
     "42551737970146039bc19b6e7d62e15a": {
      "model_module": "@jupyter-widgets/controls",
      "model_module_version": "2.0.0",
      "model_name": "VBoxModel",
      "state": {
       "children": [
        "IPY_MODEL_294c1915721f45309822a5e6bf005735",
        "IPY_MODEL_dd4af341e2c34daa877d628bc90b7971",
        "IPY_MODEL_6297976410194747b35465c98415d7ab",
        "IPY_MODEL_be636e8e2d734865b7d2fd8ab2f83785",
        "IPY_MODEL_8ee948e9074c4f89b93ae94473b68feb",
        "IPY_MODEL_a8b3ff494e9947f2a3c76a51b8433976"
       ],
       "layout": "IPY_MODEL_8e60dfed38bf450abdaa889961665c01"
      }
     },
     "429be81a150d4dd99911a74aa7f49ac6": {
      "model_module": "@jupyter-widgets/controls",
      "model_module_version": "2.0.0",
      "model_name": "TextModel",
      "state": {
       "_dom_classes": [
        "cofi-input-widget"
       ],
       "description": "FindPeak Method:",
       "layout": "IPY_MODEL_7f4b2c3255b14c19be06f4e030f36d02",
       "style": "IPY_MODEL_cae6959160ed465f9eb23f257812c9b4",
       "value": "linear"
      }
     },
     "434da340a6f5492bb57c941704aad5fe": {
      "model_module": "@jupyter-widgets/controls",
      "model_module_version": "2.0.0",
      "model_name": "FloatTextModel",
      "state": {
       "_dom_classes": [
        "cofi-input-widget"
       ],
       "description": "Sigma Reject:",
       "layout": "IPY_MODEL_7f4b2c3255b14c19be06f4e030f36d02",
       "step": null,
       "style": "IPY_MODEL_5a1f3927ae1c493698b16adcf1ab3a5d",
       "value": 5
      }
     },
     "437c8724e23445eb94a7114622d578f4": {
      "model_module": "@jupyter-widgets/base",
      "model_module_version": "2.0.0",
      "model_name": "LayoutModel",
      "state": {}
     },
     "4419cb79d0c14371a7c66187d99d74b3": {
      "model_module": "@jupyter-widgets/base",
      "model_module_version": "2.0.0",
      "model_name": "LayoutModel",
      "state": {}
     },
     "4477e62c02f041cfb0730b7add477553": {
      "model_module": "@jupyter-widgets/base",
      "model_module_version": "2.0.0",
      "model_name": "LayoutModel",
      "state": {}
     },
     "44a36b3223ad44d3b05c722bfd2ba77f": {
      "model_module": "@jupyter-widgets/controls",
      "model_module_version": "2.0.0",
      "model_name": "HBoxModel",
      "state": {
       "children": [
        "IPY_MODEL_9d092c58dc794fa48d9b653f0bbf58ba",
        "IPY_MODEL_82a2d417d41b46868069106cf0ff6042"
       ],
       "layout": "IPY_MODEL_5a6024e6804e42f5ab6cb4e184122505"
      }
     },
     "44af6b96cda84da89ff0776d440f04fb": {
      "model_module": "@jupyter-widgets/controls",
      "model_module_version": "2.0.0",
      "model_name": "CheckboxModel",
      "state": {
       "_dom_classes": [
        "cofi-input-widget"
       ],
       "description": "Returns a list",
       "disabled": false,
       "layout": "IPY_MODEL_03107932f9214baa839067591b75005c",
       "style": "IPY_MODEL_00a20ab5770f423e907c7462847dfc8f",
       "value": false
      }
     },
     "45152107771745a381f7edec3deeef9f": {
      "model_module": "@jupyter-widgets/controls",
      "model_module_version": "2.0.0",
      "model_name": "CheckboxModel",
      "state": {
       "_dom_classes": [
        "cofi-input-widget"
       ],
       "description": "Fit Profile",
       "disabled": false,
       "layout": "IPY_MODEL_e5716ebeb8ad4ff88bc4a2efa79c049c",
       "style": "IPY_MODEL_c5f3e93df6f24c5bb931ea3985239e80",
       "value": false
      }
     },
     "4536cd3dce7f4b329359f5b3171c03ba": {
      "model_module": "@jupyter-widgets/controls",
      "model_module_version": "2.0.0",
      "model_name": "HTMLModel",
      "state": {
       "layout": "IPY_MODEL_f0d43faeadd740e6ab8dbb6e1f5bd5bd",
       "style": "IPY_MODEL_9075a8fba7604c4bb133260489699cfe",
       "value": "<h1 class='cofi-main-title'>CofI Reduction Interface</h1>"
      }
     },
     "45fbd9ec76bb4d0db83e9c2969d015d9": {
      "model_module": "@jupyter-widgets/base",
      "model_module_version": "2.0.0",
      "model_name": "LayoutModel",
      "state": {}
     },
     "468bce9877c244939ac37803e090c44c": {
      "model_module": "@jupyter-widgets/controls",
      "model_module_version": "2.0.0",
      "model_name": "DescriptionStyleModel",
      "state": {
       "description_width": ""
      }
     },
     "469e6e5672f5423da1cb2369fd14fe75": {
      "model_module": "@jupyter-widgets/base",
      "model_module_version": "2.0.0",
      "model_name": "LayoutModel",
      "state": {}
     },
     "46b2df93224a40cab5fed4a630d77a92": {
      "model_module": "@jupyter-widgets/controls",
      "model_module_version": "2.0.0",
      "model_name": "TextStyleModel",
      "state": {
       "description_width": "initial",
       "font_size": null,
       "text_color": null
      }
     },
     "46c4d15fbe3345df98c9411b8b076f28": {
      "model_module": "@jupyter-widgets/controls",
      "model_module_version": "2.0.0",
      "model_name": "TextStyleModel",
      "state": {
       "description_width": "initial",
       "font_size": null,
       "text_color": null
      }
     },
     "46c78d9378a64539ae90dfe481549353": {
      "model_module": "@jupyter-widgets/controls",
      "model_module_version": "2.0.0",
      "model_name": "CheckboxModel",
      "state": {
       "_dom_classes": [
        "cofi-input-widget"
       ],
       "description": "ID Sky Lines",
       "disabled": false,
       "layout": "IPY_MODEL_714be03e1f2b466c94dc4487509d8814",
       "style": "IPY_MODEL_66c8f66cabdd43bcbc6f597fc2ea1f6a",
       "value": false
      }
     },
     "471341d8582e4374a8ad58a2780b52e9": {
      "model_module": "@jupyter-widgets/controls",
      "model_module_version": "2.0.0",
      "model_name": "TextModel",
      "state": {
       "_dom_classes": [
        "cofi-input-widget"
       ],
       "description": "Cosmic Ray Algo:",
       "layout": "IPY_MODEL_7f4b2c3255b14c19be06f4e030f36d02",
       "style": "IPY_MODEL_551d021e8ffc48adb83a4d96f5303560",
       "value": "lacosmic"
      }
     },
     "472f90069e2543939f44e658370c87f6": {
      "model_module": "@jupyter-widgets/base",
      "model_module_version": "2.0.0",
      "model_name": "LayoutModel",
      "state": {}
     },
     "47b0b6bcb96d4f36a1c271e1a6176306": {
      "model_module": "@jupyter-widgets/controls",
      "model_module_version": "2.0.0",
      "model_name": "FloatTextModel",
      "state": {
       "_dom_classes": [
        "cofi-input-widget"
       ],
       "description": "Seeing (for solve):",
       "layout": "IPY_MODEL_7f4b2c3255b14c19be06f4e030f36d02",
       "step": null,
       "style": "IPY_MODEL_2fa498578ec9425d83e33b78f588e738",
       "value": 2
      }
     },
     "486f8dad3625421cb13cb9a165c236b1": {
      "model_module": "@jupyter-widgets/controls",
      "model_module_version": "2.0.0",
      "model_name": "HTMLStyleModel",
      "state": {
       "description_width": "",
       "font_size": null,
       "text_color": null
      }
     },
     "48b1509911814b18a7dd37076d65f678": {
      "model_module": "@jupyter-widgets/controls",
      "model_module_version": "2.0.0",
      "model_name": "HTMLStyleModel",
      "state": {
       "description_width": "",
       "font_size": null,
       "text_color": null
      }
     },
     "49867828da484056a7b8df98858a3e40": {
      "model_module": "@jupyter-widgets/controls",
      "model_module_version": "2.0.0",
      "model_name": "HTMLStyleModel",
      "state": {
       "description_width": "",
       "font_size": null,
       "text_color": null
      }
     },
     "498889bd1eaf49a88aa3184405c59838": {
      "model_module": "@jupyter-widgets/controls",
      "model_module_version": "2.0.0",
      "model_name": "CheckboxModel",
      "state": {
       "description": "📁 Data Input",
       "disabled": false,
       "indent": false,
       "layout": "IPY_MODEL_36ec8473bf0b463d831e9716f231acbd",
       "style": "IPY_MODEL_fc190f08e3fc4680b99b3230c84049ca",
       "value": false
      }
     },
     "499bc573092e4c0c8bb58b460acc80da": {
      "model_module": "@jupyter-widgets/controls",
      "model_module_version": "2.0.0",
      "model_name": "HTMLStyleModel",
      "state": {
       "description_width": "",
       "font_size": null,
       "text_color": null
      }
     },
     "49e0c09aba734c5da9d7f32b2a9a227e": {
      "model_module": "@jupyter-widgets/controls",
      "model_module_version": "2.0.0",
      "model_name": "TextModel",
      "state": {
       "_dom_classes": [
        "cofi-input-widget"
       ],
       "description": "KMS File:",
       "layout": "IPY_MODEL_7f4b2c3255b14c19be06f4e030f36d02",
       "placeholder": "path/to/mask.kms",
       "style": "IPY_MODEL_dbf12f67147e4fcfa89bebe2bd82da5c",
       "value": "march_2025_kms/kosmos.38.M5new (Copy).kms"
      }
     },
     "4a070064d3d546969fc8979cd01d5c89": {
      "model_module": "@jupyter-widgets/controls",
      "model_module_version": "2.0.0",
      "model_name": "HBoxModel",
      "state": {
       "children": [
        "IPY_MODEL_eb083e9def32468a90492be9ae80530a",
        "IPY_MODEL_9d7f6fb1bfed49b0baf54fe1e3221754"
       ],
       "layout": "IPY_MODEL_b4199c0e7e894f81992d2bfc66e679dc"
      }
     },
     "4a578bcaeeeb407ca98b8ba77832a181": {
      "model_module": "@jupyter-widgets/base",
      "model_module_version": "2.0.0",
      "model_name": "LayoutModel",
      "state": {
       "display": "none",
       "margin": "0 0 0 25px",
       "padding": "8px"
      }
     },
     "4a7d4964f2084650a6e0f89c5d99eb1a": {
      "model_module": "@jupyter-widgets/controls",
      "model_module_version": "2.0.0",
      "model_name": "TextModel",
      "state": {
       "_dom_classes": [
        "cofi-input-widget"
       ],
       "description": "Skyline File:",
       "layout": "IPY_MODEL_7f4b2c3255b14c19be06f4e030f36d02",
       "style": "IPY_MODEL_ecda2b3820e74a91822577329d14da52",
       "value": "new_wave_lamp/skyline.dat"
      }
     },
     "4add57c0633248b199beec39e1bceeb0": {
      "model_module": "@jupyter-widgets/controls",
      "model_module_version": "2.0.0",
      "model_name": "TextStyleModel",
      "state": {
       "description_width": "initial",
       "font_size": null,
       "text_color": null
      }
     },
     "4ae757db69364cc898da2c57edd6fadf": {
      "model_module": "@jupyter-widgets/base",
      "model_module_version": "2.0.0",
      "model_name": "LayoutModel",
      "state": {}
     },
     "4b970e92218e4d1b8d913428488889a0": {
      "model_module": "@jupyter-widgets/controls",
      "model_module_version": "2.0.0",
      "model_name": "CheckboxModel",
      "state": {
       "description": "2D Spectral Extraction",
       "disabled": false,
       "layout": "IPY_MODEL_41f94f6e8b774dee8e3ba5102c367e91",
       "style": "IPY_MODEL_6946833ccc7a4d82971bedb28f20cea3",
       "value": false
      }
     },
     "4bf603d2e8b641298f71f8d0b7703209": {
      "model_module": "@jupyter-widgets/base",
      "model_module_version": "2.0.0",
      "model_name": "LayoutModel",
      "state": {}
     },
     "4c4a25eb52b945ecaeca3c7281668ff0": {
      "model_module": "@jupyter-widgets/controls",
      "model_module_version": "2.0.0",
      "model_name": "DescriptionStyleModel",
      "state": {
       "description_width": "initial"
      }
     },
     "4caab392807348c5af66f46a124ad772": {
      "model_module": "@jupyter-widgets/controls",
      "model_module_version": "2.0.0",
      "model_name": "TextModel",
      "state": {
       "_dom_classes": [
        "cofi-input-widget"
       ],
       "description": "FindPeak sc0:",
       "layout": "IPY_MODEL_7f4b2c3255b14c19be06f4e030f36d02",
       "placeholder": "Optional",
       "style": "IPY_MODEL_c88e623987a24ccc9deaf4fec74e559a"
      }
     },
     "4d0a1652ac88425d86fac67ad7fee578": {
      "model_module": "@jupyter-widgets/controls",
      "model_module_version": "2.0.0",
      "model_name": "CheckboxStyleModel",
      "state": {
       "description_width": ""
      }
     },
     "4d425bbe52464fa397596a2a8229fc41": {
      "model_module": "@jupyter-widgets/controls",
      "model_module_version": "2.0.0",
      "model_name": "VBoxModel",
      "state": {
       "children": [
        "IPY_MODEL_c1d5535d83894c318ef0198306146948"
       ],
       "layout": "IPY_MODEL_aebbfc915b824201963a75a02ae9f642"
      }
     },
     "4d7c9e002571421e844e659ab6b1535e": {
      "model_module": "@jupyter-widgets/controls",
      "model_module_version": "2.0.0",
      "model_name": "VBoxModel",
      "state": {
       "children": [
        "IPY_MODEL_5f03b63e128045d8b3631f7c22f21386",
        "IPY_MODEL_fc1ed1bef9cc41f6acfed7c1111a5404",
        "IPY_MODEL_53884b8916854ffd95a8342ab1128244",
        "IPY_MODEL_552fa64292a44262b1bba5182f7dd7db",
        "IPY_MODEL_6ba7d5e19ea8470fb52253080bbb7e66",
        "IPY_MODEL_5fc1902b6780438ba4b51adeb04c597f",
        "IPY_MODEL_d536b98ec23d41a084477b26c26c0ac1",
        "IPY_MODEL_4e8d8806c892401dbcbeb68773c729fe",
        "IPY_MODEL_b677b15aa7a4465997914dbca6fd473d",
        "IPY_MODEL_52634f5f064942dca001194f8fb59eb0",
        "IPY_MODEL_8e3a5bd600df4b4fa9c8b7855779aa1d",
        "IPY_MODEL_fd185f1707ad4b85b38078731ccd5a23",
        "IPY_MODEL_06e765273dbd4293aa9bf4579d47f577",
        "IPY_MODEL_269a244f37884b8aa20d25f1bec752fa",
        "IPY_MODEL_86d9d66f58464b2fbad1289892ad208d"
       ],
       "layout": "IPY_MODEL_66a3d6f5ff7541d0be80a018b7024e54"
      }
     },
     "4d7cbc6d01d34a16b041f57842a22f5d": {
      "model_module": "@jupyter-widgets/base",
      "model_module_version": "2.0.0",
      "model_name": "LayoutModel",
      "state": {}
     },
     "4d8199ae2fe6450f97635e7e072ecb23": {
      "model_module": "@jupyter-widgets/controls",
      "model_module_version": "2.0.0",
      "model_name": "DescriptionStyleModel",
      "state": {
       "description_width": "initial"
      }
     },
     "4e8d8806c892401dbcbeb68773c729fe": {
      "model_module": "@jupyter-widgets/controls",
      "model_module_version": "2.0.0",
      "model_name": "TextModel",
      "state": {
       "_dom_classes": [
        "cofi-input-widget"
       ],
       "description": "Trace Rows:",
       "layout": "IPY_MODEL_7f4b2c3255b14c19be06f4e030f36d02",
       "placeholder": "Optional",
       "style": "IPY_MODEL_1c42bdf46f694d8785b08119498198af",
       "value": "None"
      }
     },
     "4ec294e8902b449ebe3be5f484808025": {
      "model_module": "@jupyter-widgets/base",
      "model_module_version": "2.0.0",
      "model_name": "LayoutModel",
      "state": {}
     },
     "4ecd56112a3b417db377766273c120fb": {
      "model_module": "@jupyter-widgets/controls",
      "model_module_version": "2.0.0",
      "model_name": "CheckboxStyleModel",
      "state": {
       "description_width": ""
      }
     },
     "4fe7f17565944a65bab9820f1d08652d": {
      "model_module": "@jupyter-widgets/controls",
      "model_module_version": "2.0.0",
      "model_name": "CheckboxModel",
      "state": {
       "description": "Use Gaussian Fit",
       "disabled": false,
       "layout": "IPY_MODEL_5a19fecca5724a42ac452201ae3e1890",
       "style": "IPY_MODEL_9f3473bc7ca447a7961f72d16d0a204e",
       "value": true
      }
     },
     "50192243dfac4445a14bb56fc693aba1": {
      "model_module": "@jupyter-widgets/controls",
      "model_module_version": "2.0.0",
      "model_name": "HTMLStyleModel",
      "state": {
       "description_width": "",
       "font_size": null,
       "text_color": null
      }
     },
     "5083f3d28bc7446e99147a4111a38452": {
      "model_module": "@jupyter-widgets/controls",
      "model_module_version": "2.0.0",
      "model_name": "FloatTextModel",
      "state": {
       "_dom_classes": [
        "cofi-input-widget"
       ],
       "description": "Skyline Thresh:",
       "layout": "IPY_MODEL_7f4b2c3255b14c19be06f4e030f36d02",
       "step": null,
       "style": "IPY_MODEL_17fd66e8eb154aadb77a2be3f55ae5ed",
       "value": 12
      }
     },
     "5098d2bfebaa4c7f9b187ac3a197c70b": {
      "model_module": "@jupyter-widgets/controls",
      "model_module_version": "2.0.0",
      "model_name": "AccordionModel",
      "state": {
       "children": [
        "IPY_MODEL_dc757ba95f6a476d846e3489ac48a249"
       ],
       "layout": "IPY_MODEL_5bab12cbb7074cf19ab9f7ad6ad4a15a",
       "titles": [
        "Advanced Parameters"
       ]
      }
     },
     "50a22a4aa7024cbd883024632dce2c63": {
      "model_module": "@jupyter-widgets/controls",
      "model_module_version": "2.0.0",
      "model_name": "CheckboxStyleModel",
      "state": {
       "description_width": ""
      }
     },
     "50af6d4e24554b2bb12c657a0d6c09e1": {
      "model_module": "@jupyter-widgets/output",
      "model_module_version": "1.0.0",
      "model_name": "OutputModel",
      "state": {
       "_dom_classes": [
        "custom-output-area"
       ],
       "layout": "IPY_MODEL_b0bdce0fec4a43129734051150aa0cd0",
       "outputs": [
        {
         "name": "stdout",
         "output_type": "stream",
         "text": "⚙️ Applying settings from log file: M5real0009__log_2025-06-17.txt\n⚠️ Could not set widget for 'num' with value '9'. Error: 'str' object has no attribute 'value'\n⚠️ Could not set widget for 'bias' with value 'None'. Error: 'NoneType' object has no attribute 'value'\n⚠️ Could not set widget for 'dark' with value 'None'. Error: 'NoneType' object has no attribute 'value'\n⚠️ Could not set widget for 'flat' with value 'None'. Error: 'NoneType' object has no attribute 'value'\nℹ️ Log parameter 'display' has no corresponding widget. Skipping.\n⚠️ Could not set widget for 'channel' with value 'None'. Error: The 'value' trait of a Text instance expected a unicode string, not the NoneType None.\n⚠️ Could not set widget for 'scat' with value 'None'. Error: The 'value' trait of a Text instance expected a unicode string, not the NoneType None.\n⚠️ Could not set widget for 'badpix' with value 'None'. Error: The 'value' trait of a Text instance expected a unicode string, not the NoneType None.\n⚠️ Could not set widget for 'ext' with value '0'. Error: 'int' object has no attribute 'value'\n⚠️ Could not set widget for 'wref' with value 'None'. Error: The 'value' trait of a Text instance expected a unicode string, not the NoneType None.\n⚠️ Could not set widget for 'orders' with value 'None'. Error: The 'value' trait of a Text instance expected a unicode string, not the NoneType None.\n⚠️ Could not set widget for 'disp' with value 'None'. Error: The 'value' trait of a Text instance expected a unicode string, not the NoneType None.\n⚠️ Could not set widget for 'xmin' with value 'None'. Error: The 'value' trait of a Text instance expected a unicode string, not the NoneType None.\n⚠️ Could not set widget for 'xmax' with value 'None'. Error: The 'value' trait of a Text instance expected a unicode string, not the NoneType None.\n⚠️ Could not set widget for 'nskip' with value 'None'. Error: The 'value' trait of a Text instance expected a unicode string, not the NoneType None.\n⚠️ Could not set widget for 'rows' with value 'None'. Error: The 'value' trait of a Text instance expected a unicode string, not the NoneType None.\n⚠️ Could not set widget for 'trace_file' with value 'None'. Error: The 'value' trait of a Text instance expected a unicode string, not the NoneType None.\n⚠️ Could not set widget for 'trace_spectrum' with value 'None'. Error: The 'value' trait of a Text instance expected a unicode string, not the NoneType None.\n⚠️ Could not set widget for 'trace_inst' with value 'None'. Error: The 'value' trait of a Text instance expected a unicode string, not the NoneType None.\n⚠️ Could not set widget for 'trace_model' with value 'None'. Error: The 'value' trait of a Text instance expected a unicode string, not the NoneType None.\n⚠️ Could not set widget for 'trace_sc0' with value 'None'. Error: The 'value' trait of a Text instance expected a unicode string, not the NoneType None.\n⚠️ Could not set widget for 'trace_rows' with value 'None'. Error: The 'value' trait of a Text instance expected a unicode string, not the NoneType None.\n⚠️ Could not set widget for 'trace_channel' with value 'None'. Error: The 'value' trait of a Text instance expected a unicode string, not the NoneType None.\n⚠️ Could not set widget for 'extract2d_rows' with value 'None'. Error: The 'value' trait of a Text instance expected a unicode string, not the NoneType None.\n⚠️ Could not set widget for 'findpeak_sc0' with value 'None'. Error: The 'value' trait of a Text instance expected a unicode string, not the NoneType None.\n⚠️ Could not set widget for 'findpeak_width' with value 'None'. Error: The 'value' trait of a Text instance expected a unicode string, not the NoneType None.\n⚠️ Could not set widget for 'skyline_rows' with value 'None'. Error: The 'value' trait of a Text instance expected a unicode string, not the NoneType None.\n⚠️ Could not set widget for 'trace_class_file' with value 'None'. Error: The 'value' trait of a Text instance expected a unicode string, not the NoneType None.\n⚠️ Could not set widget for 'trace_class_spectrum' with value 'None'. Error: The 'value' trait of a Text instance expected a unicode string, not the NoneType None.\n⚠️ Could not set widget for 'trace_class_model' with value 'None'. Error: The 'value' trait of a Text instance expected a unicode string, not the NoneType None.\n⚠️ Could not set widget for 'trace_class_sc0' with value 'None'. Error: 'str' object has no attribute 'value'\n⚠️ Could not set widget for 'trace_class_rows' with value 'None'. Error: The 'value' trait of a Text instance expected a unicode string, not the NoneType None.\n⚠️ Could not set widget for 'trace_class_channel' with value 'None'. Error: 'str' object has no attribute 'value'\n⚠️ Could not set widget for 'trace_method_srows' with value 'None'. Error: The 'value' trait of a Text instance expected a unicode string, not the NoneType None.\n⚠️ Could not set widget for 'trace_method_sc0' with value 'None'. Error: The 'value' trait of a Text instance expected a unicode string, not the NoneType None.\n⚠️ Could not set widget for 'trace_method_rad'. Invalid value 'None'. Error: float() argument must be a string or a real number, not 'NoneType'\n⚠️ Could not set widget for 'trace_method_index' with value 'None'. Error: The 'value' trait of a Text instance expected a unicode string, not the NoneType None.\n⚠️ Could not set widget for 'extract_medfilt' with value 'None'. Error: The 'value' trait of a Text instance expected a unicode string, not the NoneType None.\n⚠️ Could not set widget for 'extract_back' with value 'None'. Error: The 'value' trait of a Text instance expected a unicode string, not the NoneType None.\n⚠️ Could not set widget for 'extract_nout' with value 'None'. Error: The 'value' trait of a Text instance expected a unicode string, not the NoneType None.\nApplied 98 parameter(s) to the UI.\n✅ Settings successfully applied from log file.\nℹ️ Note: You may need to re-run steps like 'Read Folder' and 'Find Slits' manually.\n"
        }
       ]
      }
     },
     "50db38ecf5824e60aee50363528e6abc": {
      "model_module": "@jupyter-widgets/base",
      "model_module_version": "2.0.0",
      "model_name": "LayoutModel",
      "state": {}
     },
     "51bfe7511a5a4d3c88efbd62eb7cc526": {
      "model_module": "@jupyter-widgets/controls",
      "model_module_version": "2.0.0",
      "model_name": "HTMLStyleModel",
      "state": {
       "description_width": "",
       "font_size": null,
       "text_color": null
      }
     },
     "525ad5928b1d4e868d82081632da9939": {
      "model_module": "@jupyter-widgets/controls",
      "model_module_version": "2.0.0",
      "model_name": "IntTextModel",
      "state": {
       "_dom_classes": [
        "cofi-input-widget"
       ],
       "description": "Trace Radius:",
       "layout": "IPY_MODEL_7f4b2c3255b14c19be06f4e030f36d02",
       "step": 1,
       "style": "IPY_MODEL_0f94c57505cc42d58f2dabe7eb577f2a",
       "value": 5
      }
     },
     "52634f5f064942dca001194f8fb59eb0": {
      "model_module": "@jupyter-widgets/controls",
      "model_module_version": "2.0.0",
      "model_name": "TextModel",
      "state": {
       "_dom_classes": [
        "cofi-input-widget"
       ],
       "description": "Trace Instrument:",
       "layout": "IPY_MODEL_7f4b2c3255b14c19be06f4e030f36d02",
       "placeholder": "Optional",
       "style": "IPY_MODEL_dd871b65bc1846908e9e155a371eabe9",
       "value": "None"
      }
     },
     "5275a49e0072452f9920fa250e84f679": {
      "model_module": "@jupyter-widgets/controls",
      "model_module_version": "2.0.0",
      "model_name": "TextModel",
      "state": {
       "_dom_classes": [
        "cofi-input-widget"
       ],
       "description": "Trace Method sc0:",
       "layout": "IPY_MODEL_7f4b2c3255b14c19be06f4e030f36d02",
       "placeholder": "Optional",
       "style": "IPY_MODEL_279b331cfb284ea8886bb7d0ac805637"
      }
     },
     "53884b8916854ffd95a8342ab1128244": {
      "model_module": "@jupyter-widgets/controls",
      "model_module_version": "2.0.0",
      "model_name": "TextModel",
      "state": {
       "_dom_classes": [
        "cofi-input-widget"
       ],
       "description": "Trace Type:",
       "layout": "IPY_MODEL_7f4b2c3255b14c19be06f4e030f36d02",
       "style": "IPY_MODEL_b4f6ec87f8304791865a06b51d91508e",
       "value": "Polynomial1D"
      }
     },
     "53c1bc0c4eac47cf92a891942a85d833": {
      "model_module": "@jupyter-widgets/base",
      "model_module_version": "2.0.0",
      "model_name": "LayoutModel",
      "state": {}
     },
     "541a902c81184749aeaf15e58bafcf20": {
      "model_module": "@jupyter-widgets/controls",
      "model_module_version": "2.0.0",
      "model_name": "HTMLStyleModel",
      "state": {
       "description_width": "",
       "font_size": null,
       "text_color": null
      }
     },
     "542fdc73f0e2459b926e41ba47907e34": {
      "model_module": "@jupyter-widgets/base",
      "model_module_version": "2.0.0",
      "model_name": "LayoutModel",
      "state": {}
     },
     "5490366727694ce4aa9937360509e464": {
      "model_module": "@jupyter-widgets/controls",
      "model_module_version": "2.0.0",
      "model_name": "HTMLModel",
      "state": {
       "layout": "IPY_MODEL_9c372dd5b42347ac95e8c60b78e825bc",
       "style": "IPY_MODEL_486f8dad3625421cb13cb9a165c236b1",
       "value": "\n        <div class='help-section-text'>\n            <h5>2D Spectral Extraction</h5>\n            <p><b>What it is:</b> This step takes the fully reduced 2D science frame (<code>self.reduced_frame</code>) and extracts the individual 2D spectrum (a \"slitlet\") for each targeted object. Crucially, the wavelength solution derived from the arc lamps is applied during this process, so the output 2D spectra are wavelength-calibrated.</p>\n            <p><b>GUI Actions:</b> In Tab 5, after \"Run Reduction\" is complete, click the \"Extract Spectrum 2D\" button.</p>\n            <p><b>Details & Process:</b>\n            <br/>The widget calls <code>processor.multi_extract2d(...)</code> which is based on the <code>multi_extract2d</code> function in the KOSMOS notebook: <code>out=multi_extract2d(red,trace,targets,imcr,display=t, linear=False)</code>.\n            <br/>Inside <code>processor.multi_extract2d</code>:\n            <ol>\n                <li><b>Initial Cutouts:</b> <code>out = trace.extract2d(imcr, display=self.display)</code> uses the slit traces (<code>self.trace</code>) to cut out the regions corresponding to each target from the reduced science image (<code>self.reduced_frame</code>, which is <code>imcr</code>).</li>\n                <li><b>Wavelength Adjustment Choice (Interactive UI in <code>param_area</code> of Tab 3):</b> A dropdown appears: \"Adjustment Choice:\" with options ('2D wavelength adjustment', 'No 2D wavelength adjustment').</li>\n                <li>For each extracted 2D slitlet (<code>o</code>) and its target information (<code>targ</code>):\n                    <ul>\n                        <li>Load Wavelength Solution: <code>wav = spectra.WaveCal(f'./CofIwav_{targ[\"ID\"]}.fits')</code> (loads the <code>.fits</code> file saved during Wavelength Calibration).</li>\n                        <li>Apply Solution: <code>wav.add_wave(o)</code> maps pixels to wavelengths.</li>\n                        <li><b>If \"2D wavelength adjustment\" was chosen by user:</b>\n                            <ul>\n                                <li>A new trace (<code>trace1</code>) is defined.</li>\n                                <li><code>trace1.findpeak(o, thresh=_thresh, ...)</code> finds the object's peak within the slitlet to guide sky line identification. (<code>_thresh</code> comes from <code>paramwidget1</code> or method defaults).</li>\n                                <li><code>wav.skyline(o, thresh=_thresh, rows=rows, plot=plot_enabled(display_obj), linear=_linear)</code> uses known night sky emission lines present in the science data itself to perform a final adjustment to the wavelength solution. <code>rows</code> are defined to exclude the object. <code>_linear</code> from <code>paramwidget1</code>. Plots may appear if display is on.</li>\n                                <li>The wavelength solution is re-applied: <code>wav.add_wave(o)</code>.</li>\n                                <li>Image is wavelength-rectified: <code>o = wav.correct(o, o.wave[nrows // 2])</code>.</li>\n                                <li>The 2D spectrum is saved: <code>o.write(f'{name}_{targ[\"ID\"]}_2d.fits')</code>.</li>\n                            </ul>\n                        </li>\n                        <li><b>If \"No 2D wavelength adjustment\" was chosen:</b>\n                            <ul>\n                                <li>Image is wavelength-rectified using the existing solution: <code>o = wav.correct(o, o.wave[nrows // 2])</code>.</li>\n                                <li>The 2D spectrum is saved: <code>o.write(f'{name}_{targ[\"ID\"]}_not_adjusted_2d.fits')</code>. A diagnostic plot of a central row might be generated.</li>\n                            </ul>\n                        </li>\n                    </ul>\n                </li>\n            </ol>\n            </p>\n            <p><b>Widget State:</b> The collection of these final, wavelength-calibrated 2D extracted spectra is stored as <code>self.spec2d_out</code> by a callback mechanism.\n            <br/><b>Parameters:</b> Settings for <code>findpeak</code>, <code>skyline</code> (thresholds, radii, polynomial degrees, linearity) within this step are configurable via \"Tab 6: Parameters\" under \"Customize Multi Extract 2D Parameters\".</p>\n        </div>\n        "
      }
     },
     "54c23fd5ec0141c6ba9baf468b3ca272": {
      "model_module": "@jupyter-widgets/base",
      "model_module_version": "2.0.0",
      "model_name": "LayoutModel",
      "state": {
       "margin": "0 0 0 20px"
      }
     },
     "54c2c8d4e1d648928ccc18d69625d40b": {
      "model_module": "@jupyter-widgets/controls",
      "model_module_version": "2.0.0",
      "model_name": "HTMLModel",
      "state": {
       "layout": "IPY_MODEL_2783e1bac85244989045712ca8878d24",
       "style": "IPY_MODEL_cd5617f68356413dbbcadbce3551ffb1",
       "value": "\n        <div class='help-section-text'>\n            <h4>Purpose:</h4>\n            <p>This tab is the core of the spectroscopic data processing pipeline. It handles the wavelength calibration of your instrument setup using arc lamp spectra, the reduction of your raw science images (applying calibrations and cosmic ray cleaning), and finally, the extraction of 2D and 1D spectra for your selected science targets.</p>\n            <h4>General Workflow & GUI Elements for this Tab:</h4>\n            <p>Ensure that master calibration frames (Tab 3) have been computed and that slit/target definitions, including the XMM/YMM header update for arcs (Tab 4), are complete before proceeding with this tab.</p>\n            <ol>\n                <li><b>Click \"Wavelength calibration\" button:</b> This performs detailed wavelength calibration for each selected slit using the prepared 2D arc spectra (<code>self.arcec</code>). The results (wavelength solution files) are saved to disk.</li>\n                <li><b>Provide Science Frame Input:</b>\n                    <ul>\n                        <li><b>Science Frame (text input):</b> Enter the file number of your raw science exposure that you wish to process. Example: <code>20</code>.</li>\n                    </ul>\n                </li>\n                <li><b>Click \"Run Reduction\" button:</b> This applies calibrations (bias, dark, flat if available and configured) and cosmic ray rejection to the specified science frame.</li>\n                <li><b>Click \"Extract Spectrum 2D\" button:</b> This takes the reduced science frame and, using the slit traces and wavelength solutions, extracts individual 2D wavelength-calibrated spectra for each target.</li>\n                <li><b>Click \"Extract Spectrum 1D\" button:</b> This processes the 2D extracted spectra to produce final 1D spectra (flux vs. wavelength) for each target, including sky subtraction.</li>\n            </ol>\n            <p>Detailed explanations for these critical operations are in the expandable sections below.</p>\n            <p><b>Parameter Area (within Tab 5 and other output areas):</b> The 2D and 1D extraction steps will display their own interactive controls (dropdowns for choices, buttons for confirmation) in the parameter areas (<code>self.param_area</code>, <code>self.param_area_1</code>, <code>self.param_area_2</code>) and provide feedback in        <code>self.output_area_1</code> and <code>self.output_area</code> when Tab 5 is active.</p>\n            <p><b>Advanced Parameters:</b> The detailed numerical parameters governing these processes (e.g., fit degrees, thresholds, line lists) can be fine-tuned in \"Tab 6: Parameters\".</p>\n        </div>\n        "
      }
     },
     "550830a9e7994da383a2f87e412e18ac": {
      "model_module": "@jupyter-widgets/controls",
      "model_module_version": "2.0.0",
      "model_name": "TextModel",
      "state": {
       "_dom_classes": [
        "cofi-input-widget"
       ],
       "description": "Lamp Line List (ID):",
       "layout": "IPY_MODEL_7f4b2c3255b14c19be06f4e030f36d02",
       "style": "IPY_MODEL_841ad33f6bfa42c08a899db1b2d0cbf0",
       "value": "new_wave_lamp/old_neon_red_center.dat"
      }
     },
     "551d021e8ffc48adb83a4d96f5303560": {
      "model_module": "@jupyter-widgets/controls",
      "model_module_version": "2.0.0",
      "model_name": "TextStyleModel",
      "state": {
       "description_width": "initial",
       "font_size": null,
       "text_color": null
      }
     },
     "552fa64292a44262b1bba5182f7dd7db": {
      "model_module": "@jupyter-widgets/controls",
      "model_module_version": "2.0.0",
      "model_name": "IntTextModel",
      "state": {
       "_dom_classes": [
        "cofi-input-widget"
       ],
       "description": "Trace Radius:",
       "layout": "IPY_MODEL_7f4b2c3255b14c19be06f4e030f36d02",
       "step": 1,
       "style": "IPY_MODEL_e01b602cf9684708b703a3b62126c52b",
       "value": 5
      }
     },
     "55c101eab8534677b831beae215a2e6b": {
      "model_module": "@jupyter-widgets/controls",
      "model_module_version": "2.0.0",
      "model_name": "DescriptionStyleModel",
      "state": {
       "description_width": "initial"
      }
     },
     "5636547d01684517b75dba66a4de1d00": {
      "model_module": "@jupyter-widgets/controls",
      "model_module_version": "2.0.0",
      "model_name": "TabModel",
      "state": {
       "children": [
        "IPY_MODEL_3efabe102d414ca187632fe8eddc2285",
        "IPY_MODEL_5e1284b0a33449d295877e3564c32ec7",
        "IPY_MODEL_911ba0bbe8fa4f37b95232c0d5fede49",
        "IPY_MODEL_05ee261ba5814f1882c1694ef9eee1f5"
       ],
       "layout": "IPY_MODEL_3f1ad26cefa24d8e849e86c6ddadf4ee",
       "selected_index": 0,
       "titles": [
        "Bias",
        "Dark",
        "Flat",
        "Arcs"
       ]
      }
     },
     "563b82d127a34e66b89c18e501bfecdd": {
      "model_module": "@jupyter-widgets/controls",
      "model_module_version": "2.0.0",
      "model_name": "CheckboxStyleModel",
      "state": {
       "description_width": ""
      }
     },
     "565bfbc3e6cf498c8e7d036449465858": {
      "model_module": "@jupyter-widgets/base",
      "model_module_version": "2.0.0",
      "model_name": "LayoutModel",
      "state": {}
     },
     "56a16f00276f413bbb392d39c7937767": {
      "model_module": "@jupyter-widgets/controls",
      "model_module_version": "2.0.0",
      "model_name": "CheckboxStyleModel",
      "state": {
       "description_width": ""
      }
     },
     "571a2065bfd04dfe9ec822b08dd33e0c": {
      "model_module": "@jupyter-widgets/controls",
      "model_module_version": "2.0.0",
      "model_name": "VBoxModel",
      "state": {
       "children": [
        "IPY_MODEL_0e0f3eff88cd4c0a98e9f812d8c79371"
       ],
       "layout": "IPY_MODEL_7d0da60b474349e6a6249b0fff34fae9"
      }
     },
     "5722404fc9eb41f88977330828eabf26": {
      "model_module": "@jupyter-widgets/base",
      "model_module_version": "2.0.0",
      "model_name": "LayoutModel",
      "state": {}
     },
     "573dee8ed0484c7da9ac53165554aa9b": {
      "model_module": "@jupyter-widgets/base",
      "model_module_version": "2.0.0",
      "model_name": "LayoutModel",
      "state": {
       "display": "none",
       "margin": "0 0 0 25px",
       "padding": "8px"
      }
     },
     "5754863c9471425c8deab9ac09d35c4d": {
      "model_module": "@jupyter-widgets/controls",
      "model_module_version": "2.0.0",
      "model_name": "FloatTextModel",
      "state": {
       "_dom_classes": [
        "cofi-input-widget"
       ],
       "description": "ID Max Shift:",
       "layout": "IPY_MODEL_7f4b2c3255b14c19be06f4e030f36d02",
       "step": null,
       "style": "IPY_MODEL_10f8bdc096334ed797fc38fdbc87ff28",
       "value": 10000000000
      }
     },
     "58203fa26e134469bc4c251701403733": {
      "model_module": "@jupyter-widgets/controls",
      "model_module_version": "2.0.0",
      "model_name": "CheckboxModel",
      "state": {
       "_dom_classes": [
        "cofi-input-widget"
       ],
       "description": "Trim flats",
       "disabled": false,
       "layout": "IPY_MODEL_59304004d7f442fa8369d1dd59cb5c1b",
       "style": "IPY_MODEL_ec1f4ca684634eaf87c8039edae4c791",
       "value": false
      }
     },
     "5841ea8042a94dadbb1f17a659d67721": {
      "model_module": "@jupyter-widgets/base",
      "model_module_version": "2.0.0",
      "model_name": "LayoutModel",
      "state": {
       "display": "none",
       "margin": "0 0 0 25px",
       "padding": "8px"
      }
     },
     "58720febf94f4c90b96bbc6e0c55386c": {
      "model_module": "@jupyter-widgets/controls",
      "model_module_version": "2.0.0",
      "model_name": "ButtonModel",
      "state": {
       "_dom_classes": [
        "custom-button",
        "run-button"
       ],
       "description": "Compute Flat",
       "icon": "cogs",
       "layout": "IPY_MODEL_7f4b2c3255b14c19be06f4e030f36d02",
       "style": "IPY_MODEL_1b49f3bec8e94e44a82e00e6ec945fbb",
       "tooltip": null
      }
     },
     "58b74ded828243f7b4c6f8df7d92aa33": {
      "model_module": "@jupyter-widgets/controls",
      "model_module_version": "2.0.0",
      "model_name": "CheckboxModel",
      "state": {
       "_dom_classes": [
        "cofi-input-widget"
       ],
       "description": "Apply flats",
       "disabled": false,
       "layout": "IPY_MODEL_437c8724e23445eb94a7114622d578f4",
       "style": "IPY_MODEL_9c9aa3ee75c744f8b98ca4cacf3c0700",
       "value": false
      }
     },
     "5919a542346a405ab0670f2c7792d5c9": {
      "model_module": "@jupyter-widgets/controls",
      "model_module_version": "2.0.0",
      "model_name": "IntTextModel",
      "state": {
       "_dom_classes": [
        "cofi-input-widget"
       ],
       "description": "Arc lines position:",
       "layout": "IPY_MODEL_7f4b2c3255b14c19be06f4e030f36d02",
       "step": 1,
       "style": "IPY_MODEL_7815b11cce5f441e800c43584ec5306a",
       "value": 19
      }
     },
     "59304004d7f442fa8369d1dd59cb5c1b": {
      "model_module": "@jupyter-widgets/base",
      "model_module_version": "2.0.0",
      "model_name": "LayoutModel",
      "state": {}
     },
     "59f099bac73a4cb7aeadbf8931315306": {
      "model_module": "@jupyter-widgets/controls",
      "model_module_version": "2.0.0",
      "model_name": "TextModel",
      "state": {
       "_dom_classes": [
        "cofi-input-widget"
       ],
       "description": "spectra center location (if known):",
       "layout": "IPY_MODEL_7f4b2c3255b14c19be06f4e030f36d02",
       "style": "IPY_MODEL_1e07b7f5db5f4195a10bfccdaf9d2255"
      }
     },
     "5a19fecca5724a42ac452201ae3e1890": {
      "model_module": "@jupyter-widgets/base",
      "model_module_version": "2.0.0",
      "model_name": "LayoutModel",
      "state": {}
     },
     "5a1f3927ae1c493698b16adcf1ab3a5d": {
      "model_module": "@jupyter-widgets/controls",
      "model_module_version": "2.0.0",
      "model_name": "DescriptionStyleModel",
      "state": {
       "description_width": "initial"
      }
     },
     "5a6024e6804e42f5ab6cb4e184122505": {
      "model_module": "@jupyter-widgets/base",
      "model_module_version": "2.0.0",
      "model_name": "LayoutModel",
      "state": {}
     },
     "5a891c5ce4a64f008a634c79dccc4626": {
      "model_module": "@jupyter-widgets/controls",
      "model_module_version": "2.0.0",
      "model_name": "CheckboxStyleModel",
      "state": {
       "description_width": ""
      }
     },
     "5bab12cbb7074cf19ab9f7ad6ad4a15a": {
      "model_module": "@jupyter-widgets/base",
      "model_module_version": "2.0.0",
      "model_name": "LayoutModel",
      "state": {}
     },
     "5c1d7742a30b43ce91e8892dc3063483": {
      "model_module": "@jupyter-widgets/controls",
      "model_module_version": "2.0.0",
      "model_name": "CheckboxStyleModel",
      "state": {
       "description_width": ""
      }
     },
     "5c8e5084fac34263a827126d7ecab007": {
      "model_module": "@jupyter-widgets/controls",
      "model_module_version": "2.0.0",
      "model_name": "VBoxModel",
      "state": {
       "children": [
        "IPY_MODEL_cb821809bff54172b9d34836c593401b",
        "IPY_MODEL_fa12517707144e3e95563523686cfbd2",
        "IPY_MODEL_471341d8582e4374a8ad58a2780b52e9",
        "IPY_MODEL_86f77b1531a8429b87e9cc873bb104dc",
        "IPY_MODEL_c6b409552f9342768c2d456d35661323",
        "IPY_MODEL_0d98aaecb8994bca9ee923bde6f69201",
        "IPY_MODEL_fc5bca15e0ff479fa30a3bfcc994be92"
       ],
       "layout": "IPY_MODEL_cbe3c3329cb443f69857fdc09cf0245b"
      }
     },
     "5cc352d523cd42bfb4865c15a98fe257": {
      "model_module": "@jupyter-widgets/controls",
      "model_module_version": "2.0.0",
      "model_name": "CheckboxStyleModel",
      "state": {
       "description_width": ""
      }
     },
     "5da03f4589834795811e14be54a26d5f": {
      "model_module": "@jupyter-widgets/controls",
      "model_module_version": "2.0.0",
      "model_name": "IntTextModel",
      "state": {
       "_dom_classes": [
        "cofi-input-widget"
       ],
       "description": "FindPeak Bundle:",
       "layout": "IPY_MODEL_7f4b2c3255b14c19be06f4e030f36d02",
       "step": 1,
       "style": "IPY_MODEL_ed623ce128d1436292042a1046842588",
       "value": 10000
      }
     },
     "5e02d72e7e7349429c70c171d7d33122": {
      "model_module": "@jupyter-widgets/controls",
      "model_module_version": "2.0.0",
      "model_name": "AccordionModel",
      "state": {
       "children": [
        "IPY_MODEL_21269cb0d7934e88ab4afd30de0ec560"
       ],
       "layout": "IPY_MODEL_1e3a088da68b498ca019b527ecb33016",
       "titles": [
        "Advanced Identify Parameters"
       ]
      }
     },
     "5e1284b0a33449d295877e3564c32ec7": {
      "model_module": "@jupyter-widgets/controls",
      "model_module_version": "2.0.0",
      "model_name": "VBoxModel",
      "state": {
       "children": [
        "IPY_MODEL_d0a1698825da4d5c8ed34d86135847be",
        "IPY_MODEL_bf07ca6aa8f0413e8adac07905c34ab3",
        "IPY_MODEL_0ee0d7049a62474cad4d96735a08dc25",
        "IPY_MODEL_b58034128a7f4e36bce07e6a4886bc35"
       ],
       "layout": "IPY_MODEL_2a963140c81c40eeb03ea5d7003d7b36"
      }
     },
     "5e645d7651af4a66ac2655652b1e1d55": {
      "model_module": "@jupyter-widgets/controls",
      "model_module_version": "2.0.0",
      "model_name": "TextModel",
      "state": {
       "_dom_classes": [
        "cofi-input-widget"
       ],
       "description": "Flat Frames:",
       "layout": "IPY_MODEL_7f4b2c3255b14c19be06f4e030f36d02",
       "placeholder": "e.g., 21,22",
       "style": "IPY_MODEL_b8ddc6e9d97547d9ac90a0d7acc582e0",
       "value": "1,2,3"
      }
     },
     "5e831e2ec2174e9785f5757f0a438f6a": {
      "model_module": "@jupyter-widgets/base",
      "model_module_version": "2.0.0",
      "model_name": "LayoutModel",
      "state": {}
     },
     "5ef7c02edcce4dd3b7ef8d98747abc6c": {
      "model_module": "@jupyter-widgets/controls",
      "model_module_version": "2.0.0",
      "model_name": "TextModel",
      "state": {
       "_dom_classes": [
        "cofi-input-widget"
       ],
       "description": "Trace Rows:",
       "layout": "IPY_MODEL_7f4b2c3255b14c19be06f4e030f36d02",
       "placeholder": "Optional",
       "style": "IPY_MODEL_12d6ffd90ff6461896fa39908c89c8c5",
       "value": "None"
      }
     },
     "5f03b63e128045d8b3631f7c22f21386": {
      "model_module": "@jupyter-widgets/controls",
      "model_module_version": "2.0.0",
      "model_name": "IntTextModel",
      "state": {
       "_dom_classes": [
        "cofi-input-widget"
       ],
       "description": "Trace Degree:",
       "layout": "IPY_MODEL_7f4b2c3255b14c19be06f4e030f36d02",
       "step": 1,
       "style": "IPY_MODEL_f45e6d9606724f578ebd9ae1462e3b8d",
       "value": 3
      }
     },
     "5f1496927df84c7ea360c318f2378cfc": {
      "model_module": "@jupyter-widgets/controls",
      "model_module_version": "2.0.0",
      "model_name": "DescriptionStyleModel",
      "state": {
       "description_width": "initial"
      }
     },
     "5f272c62ea0f47aba54f47f6bd465c6c": {
      "model_module": "@jupyter-widgets/base",
      "model_module_version": "2.0.0",
      "model_name": "LayoutModel",
      "state": {
       "margin": "0 0 0 20px"
      }
     },
     "5f83523685e14e8992a1589640fdb24e": {
      "model_module": "@jupyter-widgets/controls",
      "model_module_version": "2.0.0",
      "model_name": "TextStyleModel",
      "state": {
       "description_width": "initial",
       "font_size": null,
       "text_color": null
      }
     },
     "5faeb5e077c74c0f93f75ebcdd81e269": {
      "model_module": "@jupyter-widgets/base",
      "model_module_version": "2.0.0",
      "model_name": "LayoutModel",
      "state": {}
     },
     "5fb5cb8ad88141b9a476cde7218298ba": {
      "model_module": "@jupyter-widgets/controls",
      "model_module_version": "2.0.0",
      "model_name": "CheckboxModel",
      "state": {
       "_dom_classes": [
        "cofi-input-widget"
       ],
       "description": "Trace Method Verbose",
       "disabled": false,
       "layout": "IPY_MODEL_78e3b7c0e94a4fdc8a00269312f12d8b",
       "style": "IPY_MODEL_4001ed19d4ab4a5c96ab60043904d94f",
       "value": false
      }
     },
     "5fc1902b6780438ba4b51adeb04c597f": {
      "model_module": "@jupyter-widgets/controls",
      "model_module_version": "2.0.0",
      "model_name": "IntTextModel",
      "state": {
       "_dom_classes": [
        "cofi-input-widget"
       ],
       "description": "Trace Pix0:",
       "layout": "IPY_MODEL_7f4b2c3255b14c19be06f4e030f36d02",
       "step": 1,
       "style": "IPY_MODEL_d2b1a6d7911e4762b7cffbdff174932c"
      }
     },
     "5fe14bdd9f1942a28c032817258572bc": {
      "model_module": "@jupyter-widgets/controls",
      "model_module_version": "2.0.0",
      "model_name": "DropdownModel",
      "state": {
       "_dom_classes": [
        "cofi-input-widget"
       ],
       "_options_labels": [
        "Index",
        "ID",
        "Name"
       ],
       "description": "Filter By:",
       "index": 1,
       "layout": "IPY_MODEL_7f4b2c3255b14c19be06f4e030f36d02",
       "style": "IPY_MODEL_eb12e9e5aa60483ca4ca50da6dadd37b"
      }
     },
     "602d22efd6ee460eb7052233435664b5": {
      "model_module": "@jupyter-widgets/controls",
      "model_module_version": "2.0.0",
      "model_name": "TextStyleModel",
      "state": {
       "description_width": "initial",
       "font_size": null,
       "text_color": null
      }
     },
     "6052918c3ca24968b66299e9827d8ffb": {
      "model_module": "@jupyter-widgets/base",
      "model_module_version": "2.0.0",
      "model_name": "LayoutModel",
      "state": {
       "margin": "0 0 0 20px"
      }
     },
     "60b31721d4bf4f11a4ccf741b38a8b34": {
      "model_module": "@jupyter-widgets/controls",
      "model_module_version": "2.0.0",
      "model_name": "IntTextModel",
      "state": {
       "_dom_classes": [
        "cofi-input-widget"
       ],
       "description": "Trace Skip:",
       "layout": "IPY_MODEL_7f4b2c3255b14c19be06f4e030f36d02",
       "step": 1,
       "style": "IPY_MODEL_cb1153ea98c9476497549dd5c4a04fd5",
       "value": 20
      }
     },
     "60e677142b0b43d89710819e2a52db4e": {
      "model_module": "@jupyter-widgets/controls",
      "model_module_version": "2.0.0",
      "model_name": "ButtonStyleModel",
      "state": {
       "font_family": null,
       "font_size": null,
       "font_style": null,
       "font_variant": null,
       "font_weight": null,
       "text_color": null,
       "text_decoration": null
      }
     },
     "612992df9b8c41198e94a94990613c04": {
      "model_module": "@jupyter-widgets/controls",
      "model_module_version": "2.0.0",
      "model_name": "TextStyleModel",
      "state": {
       "description_width": "initial",
       "font_size": null,
       "text_color": null
      }
     },
     "6153c151462e4b189a08014a132af6ec": {
      "model_module": "@jupyter-widgets/controls",
      "model_module_version": "2.0.0",
      "model_name": "TextStyleModel",
      "state": {
       "description_width": "initial",
       "font_size": null,
       "text_color": null
      }
     },
     "61b2bcf2419e4f7da8787531e053f2c0": {
      "model_module": "@jupyter-widgets/controls",
      "model_module_version": "2.0.0",
      "model_name": "DescriptionStyleModel",
      "state": {
       "description_width": "initial"
      }
     },
     "61d13bb002674baaab953feed9d3ae7c": {
      "model_module": "@jupyter-widgets/base",
      "model_module_version": "2.0.0",
      "model_name": "LayoutModel",
      "state": {}
     },
     "6205375cfbf543a0b7b53030507ac5e4": {
      "model_module": "@jupyter-widgets/controls",
      "model_module_version": "2.0.0",
      "model_name": "TextModel",
      "state": {
       "_dom_classes": [
        "cofi-input-widget"
       ],
       "description": "Extract Rows:",
       "layout": "IPY_MODEL_7f4b2c3255b14c19be06f4e030f36d02",
       "placeholder": "Optional",
       "style": "IPY_MODEL_8d0d16511fe54a80bb1b11518944a4ea",
       "value": "None"
      }
     },
     "624963d257004c0d902bf9625c0371eb": {
      "model_module": "@jupyter-widgets/controls",
      "model_module_version": "2.0.0",
      "model_name": "TextStyleModel",
      "state": {
       "description_width": "initial",
       "font_size": null,
       "text_color": null
      }
     },
     "6291dd7f71034e6a80eb1802e74a7851": {
      "model_module": "@jupyter-widgets/controls",
      "model_module_version": "2.0.0",
      "model_name": "CheckboxModel",
      "state": {
       "_dom_classes": [
        "cofi-input-widget"
       ],
       "description": "Skyline Interactive",
       "disabled": false,
       "layout": "IPY_MODEL_f53a7d2660034961bb754ce6e6366ed0",
       "style": "IPY_MODEL_406fa679154746c99786127a195406cd",
       "value": true
      }
     },
     "6297976410194747b35465c98415d7ab": {
      "model_module": "@jupyter-widgets/controls",
      "model_module_version": "2.0.0",
      "model_name": "TextModel",
      "state": {
       "_dom_classes": [
        "cofi-input-widget"
       ],
       "description": "Skyline Rows:",
       "layout": "IPY_MODEL_7f4b2c3255b14c19be06f4e030f36d02",
       "placeholder": "Optional",
       "style": "IPY_MODEL_f4f147295eeb47cab8ba871b82bf3a11",
       "value": "None"
      }
     },
     "6307223fffe7429cb5d44eea583b4871": {
      "model_module": "@jupyter-widgets/controls",
      "model_module_version": "2.0.0",
      "model_name": "IntTextModel",
      "state": {
       "_dom_classes": [
        "cofi-input-widget"
       ],
       "description": "Extract Buffer:",
       "layout": "IPY_MODEL_7f4b2c3255b14c19be06f4e030f36d02",
       "step": 1,
       "style": "IPY_MODEL_304723078ecc4f248de458321fe1423e"
      }
     },
     "635700c8ba6e4a5e90c6d4e062ba3787": {
      "model_module": "@jupyter-widgets/controls",
      "model_module_version": "2.0.0",
      "model_name": "TextStyleModel",
      "state": {
       "description_width": "initial",
       "font_size": null,
       "text_color": null
      }
     },
     "639aae6099a14cda8c525247cbd0a849": {
      "model_module": "@jupyter-widgets/controls",
      "model_module_version": "2.0.0",
      "model_name": "ButtonStyleModel",
      "state": {
       "font_family": null,
       "font_size": null,
       "font_style": null,
       "font_variant": null,
       "font_weight": null,
       "text_color": null,
       "text_decoration": null
      }
     },
     "63c8e88399434f90915a1415632d5ec3": {
      "model_module": "@jupyter-widgets/controls",
      "model_module_version": "2.0.0",
      "model_name": "AccordionModel",
      "state": {
       "children": [
        "IPY_MODEL_4d7c9e002571421e844e659ab6b1535e",
        "IPY_MODEL_3071ca51574348cf8a732686a3c4a7f3",
        "IPY_MODEL_42551737970146039bc19b6e7d62e15a",
        "IPY_MODEL_b0ecd8f93bad440eb5f10b1c3ca1adc8"
       ],
       "layout": "IPY_MODEL_4bf603d2e8b641298f71f8d0b7703209",
       "titles": [
        "Trace Parameters",
        "FindPeak Parameters",
        "Skyline Parameters",
        "Extraction Parameters"
       ]
      }
     },
     "63d16d8dbda347afb8b5c7f1d18544f0": {
      "model_module": "@jupyter-widgets/controls",
      "model_module_version": "2.0.0",
      "model_name": "IntTextModel",
      "state": {
       "_dom_classes": [
        "cofi-input-widget"
       ],
       "description": "Trace Pix0:",
       "layout": "IPY_MODEL_7f4b2c3255b14c19be06f4e030f36d02",
       "step": 1,
       "style": "IPY_MODEL_1283e8655f4b43a89014d2ae32cdc54a"
      }
     },
     "64b842b9b5c04a2e9d2db31981e3772b": {
      "model_module": "@jupyter-widgets/base",
      "model_module_version": "2.0.0",
      "model_name": "LayoutModel",
      "state": {}
     },
     "64d5602254c4472399f167a1e33bdb36": {
      "model_module": "@jupyter-widgets/controls",
      "model_module_version": "2.0.0",
      "model_name": "TextStyleModel",
      "state": {
       "description_width": "initial",
       "font_size": null,
       "text_color": null
      }
     },
     "650954e4ffc44791800c8ac9460b104f": {
      "model_module": "@jupyter-widgets/controls",
      "model_module_version": "2.0.0",
      "model_name": "TextStyleModel",
      "state": {
       "description_width": "initial",
       "font_size": null,
       "text_color": null
      }
     },
     "650ac9659db94379a6ec60ae054416f6": {
      "model_module": "@jupyter-widgets/controls",
      "model_module_version": "2.0.0",
      "model_name": "TextModel",
      "state": {
       "_dom_classes": [
        "cofi-input-widget"
       ],
       "description": "FindPeak Width:",
       "layout": "IPY_MODEL_7f4b2c3255b14c19be06f4e030f36d02",
       "placeholder": "Optional",
       "style": "IPY_MODEL_46b2df93224a40cab5fed4a630d77a92"
      }
     },
     "659e83eb03f44638b45f6800a44ca096": {
      "model_module": "@jupyter-widgets/controls",
      "model_module_version": "2.0.0",
      "model_name": "DescriptionStyleModel",
      "state": {
       "description_width": "initial"
      }
     },
     "663583a5d6d7488dbdc6058237b13792": {
      "model_module": "@jupyter-widgets/controls",
      "model_module_version": "2.0.0",
      "model_name": "IntTextModel",
      "state": {
       "_dom_classes": [
        "cofi-input-widget"
       ],
       "description": "Trace Sigma Degree:",
       "layout": "IPY_MODEL_7f4b2c3255b14c19be06f4e030f36d02",
       "step": 1,
       "style": "IPY_MODEL_4c4a25eb52b945ecaeca3c7281668ff0",
       "value": 3
      }
     },
     "668fa015e4644c8aa3436d5c06ded298": {
      "model_module": "@jupyter-widgets/controls",
      "model_module_version": "2.0.0",
      "model_name": "CheckboxStyleModel",
      "state": {
       "description_width": ""
      }
     },
     "66a3d6f5ff7541d0be80a018b7024e54": {
      "model_module": "@jupyter-widgets/base",
      "model_module_version": "2.0.0",
      "model_name": "LayoutModel",
      "state": {}
     },
     "66c8f66cabdd43bcbc6f597fc2ea1f6a": {
      "model_module": "@jupyter-widgets/controls",
      "model_module_version": "2.0.0",
      "model_name": "CheckboxStyleModel",
      "state": {
       "description_width": ""
      }
     },
     "670f9830620b4e58872b34be126723d2": {
      "model_module": "@jupyter-widgets/base",
      "model_module_version": "2.0.0",
      "model_name": "LayoutModel",
      "state": {}
     },
     "674ed5820a8e415791b4bdb0a2c5b015": {
      "model_module": "@jupyter-widgets/controls",
      "model_module_version": "2.0.0",
      "model_name": "VBoxModel",
      "state": {
       "children": [
        "IPY_MODEL_60b31721d4bf4f11a4ccf741b38a8b34",
        "IPY_MODEL_f4ebc9fef4204971b5c07388e84a47f5",
        "IPY_MODEL_915ecb7889b144e59d0dced981dbacd5",
        "IPY_MODEL_5275a49e0072452f9920fa250e84f679",
        "IPY_MODEL_383c3943c30b4c67a8e4d7a8b74666af",
        "IPY_MODEL_86ef21b122c548c2a60aef305b618b9b",
        "IPY_MODEL_e89e97cebab440b394cbca271f2fe4d5",
        "IPY_MODEL_5fb5cb8ad88141b9a476cde7218298ba"
       ],
       "layout": "IPY_MODEL_a035e341ffc54e9eaae1c1f260a03ba5"
      }
     },
     "679d82cc2398417a9700677a061affc8": {
      "model_module": "@jupyter-widgets/controls",
      "model_module_version": "2.0.0",
      "model_name": "HTMLStyleModel",
      "state": {
       "description_width": "",
       "font_size": null,
       "text_color": null
      }
     },
     "67da7f180d624cf1bff4141d15dae68a": {
      "model_module": "@jupyter-widgets/controls",
      "model_module_version": "2.0.0",
      "model_name": "VBoxModel",
      "state": {
       "children": [
        "IPY_MODEL_f97b80a90f5e4d93bd0a63b37d15f82c"
       ],
       "layout": "IPY_MODEL_02adde81b0e142709f63743914c850df"
      }
     },
     "68a2c70da6394b1d8fd00809579ef887": {
      "model_module": "@jupyter-widgets/controls",
      "model_module_version": "2.0.0",
      "model_name": "DescriptionStyleModel",
      "state": {
       "description_width": "initial"
      }
     },
     "6941e4c234a54c69b9936678b94187aa": {
      "model_module": "@jupyter-widgets/controls",
      "model_module_version": "2.0.0",
      "model_name": "TextStyleModel",
      "state": {
       "description_width": "initial",
       "font_size": null,
       "text_color": null
      }
     },
     "6946833ccc7a4d82971bedb28f20cea3": {
      "model_module": "@jupyter-widgets/controls",
      "model_module_version": "2.0.0",
      "model_name": "CheckboxStyleModel",
      "state": {
       "description_width": ""
      }
     },
     "697cad495d5844c7b25559b2da929087": {
      "model_module": "@jupyter-widgets/controls",
      "model_module_version": "2.0.0",
      "model_name": "CheckboxModel",
      "state": {
       "description": "Slit Identification & Referencing",
       "disabled": false,
       "layout": "IPY_MODEL_efff7c15d8494f3183602ab411cef7a4",
       "style": "IPY_MODEL_91197f95682f4ef793c2cdd6f9e205b4",
       "value": false
      }
     },
     "69abacffcdd24428b792040ea8d9a125": {
      "model_module": "@jupyter-widgets/controls",
      "model_module_version": "2.0.0",
      "model_name": "HTMLModel",
      "state": {
       "layout": "IPY_MODEL_cc97e3f2ca1d42b3aa4f497114bc76fa",
       "style": "IPY_MODEL_e45123e45adc43169af1089b3904d5fd",
       "value": "<h3 class='sub-tab-title'>2D Spectral Extraction</h3>"
      }
     },
     "69caa191962c4511af0952ebb7662cb8": {
      "model_module": "@jupyter-widgets/controls",
      "model_module_version": "2.0.0",
      "model_name": "CheckboxStyleModel",
      "state": {
       "description_width": ""
      }
     },
     "6a0bd02c707747cf950fb83a2eecbffb": {
      "model_module": "@jupyter-widgets/controls",
      "model_module_version": "2.0.0",
      "model_name": "DropdownModel",
      "state": {
       "_dom_classes": [
        "cofi-input-widget"
       ],
       "_options_labels": [
        "median",
        "mean",
        "reject"
       ],
       "description": "Combine Type:",
       "index": 0,
       "layout": "IPY_MODEL_7f4b2c3255b14c19be06f4e030f36d02",
       "style": "IPY_MODEL_10d65fc8ab7f484394203ddfe14ad682"
      }
     },
     "6a3121c4f4c646e583869ff177f476e4": {
      "model_module": "@jupyter-widgets/base",
      "model_module_version": "2.0.0",
      "model_name": "LayoutModel",
      "state": {}
     },
     "6a5b8d31699346538b3787ea0717a802": {
      "model_module": "@jupyter-widgets/controls",
      "model_module_version": "2.0.0",
      "model_name": "CheckboxStyleModel",
      "state": {
       "description_width": ""
      }
     },
     "6a5cfd3fe0a940f09160f0f394abcd38": {
      "model_module": "@jupyter-widgets/controls",
      "model_module_version": "2.0.0",
      "model_name": "CheckboxStyleModel",
      "state": {
       "description_width": ""
      }
     },
     "6abf2856ddc248ca85d5fb056dc767e1": {
      "model_module": "@jupyter-widgets/controls",
      "model_module_version": "2.0.0",
      "model_name": "TextStyleModel",
      "state": {
       "description_width": "initial",
       "font_size": null,
       "text_color": null
      }
     },
     "6b1df84a7afd488a9151258c6257e56c": {
      "model_module": "@jupyter-widgets/controls",
      "model_module_version": "2.0.0",
      "model_name": "DescriptionStyleModel",
      "state": {
       "description_width": "initial"
      }
     },
     "6ba7d5e19ea8470fb52253080bbb7e66": {
      "model_module": "@jupyter-widgets/controls",
      "model_module_version": "2.0.0",
      "model_name": "TextModel",
      "state": {
       "_dom_classes": [
        "cofi-input-widget"
       ],
       "description": "Trace Lags:",
       "layout": "IPY_MODEL_7f4b2c3255b14c19be06f4e030f36d02",
       "style": "IPY_MODEL_072cb67e7cd647ea856840011aafe787",
       "value": "-39,39"
      }
     },
     "6bd30ba622a948e6bbfdde7d5a7f71fc": {
      "model_module": "@jupyter-widgets/controls",
      "model_module_version": "2.0.0",
      "model_name": "TextModel",
      "state": {
       "_dom_classes": [
        "cofi-input-widget"
       ],
       "description": "Trace Lags:",
       "layout": "IPY_MODEL_7f4b2c3255b14c19be06f4e030f36d02",
       "style": "IPY_MODEL_d65c669d42e74356a975936246a9215f",
       "value": "-39,39"
      }
     },
     "6c091a72dba74ca78f95f50a0e088203": {
      "model_module": "@jupyter-widgets/controls",
      "model_module_version": "2.0.0",
      "model_name": "TextModel",
      "state": {
       "_dom_classes": [
        "cofi-input-widget"
       ],
       "description": "Trace Spectrum:",
       "layout": "IPY_MODEL_7f4b2c3255b14c19be06f4e030f36d02",
       "placeholder": "Optional",
       "style": "IPY_MODEL_d02b4b57bd7a45669087fa1dbaa25ca7",
       "value": "None"
      }
     },
     "6d73eb82f07f41f892de05a2595abfd3": {
      "model_module": "@jupyter-widgets/base",
      "model_module_version": "2.0.0",
      "model_name": "LayoutModel",
      "state": {}
     },
     "6d964e4a37ee400f84bd83420c0e51fd": {
      "model_module": "@jupyter-widgets/base",
      "model_module_version": "2.0.0",
      "model_name": "LayoutModel",
      "state": {
       "margin": "0 0 0 20px"
      }
     },
     "6efd39c88c1a4e41bfeec496fae4a449": {
      "model_module": "@jupyter-widgets/controls",
      "model_module_version": "2.0.0",
      "model_name": "VBoxModel",
      "state": {
       "children": [
        "IPY_MODEL_ce10dd8488974daea6527055b87bbabd"
       ],
       "layout": "IPY_MODEL_16618cd91ab54998938e3d41cba0be37"
      }
     },
     "6f8fb5d0742a4f289bc99275317256cd": {
      "model_module": "@jupyter-widgets/controls",
      "model_module_version": "2.0.0",
      "model_name": "TextStyleModel",
      "state": {
       "description_width": "initial",
       "font_size": null,
       "text_color": null
      }
     },
     "7006fcb8e9ce4a0fb434a8504bf32ac5": {
      "model_module": "@jupyter-widgets/controls",
      "model_module_version": "2.0.0",
      "model_name": "HTMLStyleModel",
      "state": {
       "description_width": "",
       "font_size": null,
       "text_color": null
      }
     },
     "70685e9cecca48c98a4f08a481b69df6": {
      "model_module": "@jupyter-widgets/base",
      "model_module_version": "2.0.0",
      "model_name": "LayoutModel",
      "state": {}
     },
     "710c8f2350664f95800b9dd1af5f97df": {
      "model_module": "@jupyter-widgets/controls",
      "model_module_version": "2.0.0",
      "model_name": "HTMLModel",
      "state": {
       "layout": "IPY_MODEL_1b184b57773b42f4a9b5bb285cd83641",
       "style": "IPY_MODEL_9786aacb47ff49f3b6d891652188652d",
       "value": "\n        <div class='help-section-text'>\n            <h5>Master Arc(s) Preparation</h5>\n            <p><b>What it is:</b> Arc lamp exposures provide spectra with known emission lines at very specific wavelengths. These are crucial for wavelength calibration – mapping CCD pixel positions to physical wavelengths.</p>\n            <p><b>GUI Interaction:</b> Enter arc frame numbers (e.g., <code>23,24</code>) in \"Arc Frames:\" and click \"Compute Arcs\".</p>\n        \n        </div>\n        "
      }
     },
     "714be03e1f2b466c94dc4487509d8814": {
      "model_module": "@jupyter-widgets/base",
      "model_module_version": "2.0.0",
      "model_name": "LayoutModel",
      "state": {}
     },
     "71768212a6114875bfc57e6517978268": {
      "model_module": "@jupyter-widgets/base",
      "model_module_version": "2.0.0",
      "model_name": "LayoutModel",
      "state": {}
     },
     "71b845db20894f548e14dbc34bb9d224": {
      "model_module": "@jupyter-widgets/controls",
      "model_module_version": "2.0.0",
      "model_name": "DescriptionStyleModel",
      "state": {
       "description_width": "initial"
      }
     },
     "71d8076b17bf4194829965a9bbc6b9c8": {
      "model_module": "@jupyter-widgets/controls",
      "model_module_version": "2.0.0",
      "model_name": "TextModel",
      "state": {
       "_dom_classes": [
        "cofi-input-widget"
       ],
       "description": "Trace Instrument:",
       "layout": "IPY_MODEL_7f4b2c3255b14c19be06f4e030f36d02",
       "placeholder": "Optional",
       "style": "IPY_MODEL_a2f73c55d5f04fe8a5f0e084a086d7ba"
      }
     },
     "7249d17541a0408498cc5a3c0aa51384": {
      "model_module": "@jupyter-widgets/base",
      "model_module_version": "2.0.0",
      "model_name": "LayoutModel",
      "state": {}
     },
     "7343a47ac6db4327843acef6a62bd86f": {
      "model_module": "@jupyter-widgets/controls",
      "model_module_version": "2.0.0",
      "model_name": "ButtonStyleModel",
      "state": {
       "font_family": null,
       "font_size": null,
       "font_style": null,
       "font_variant": null,
       "font_weight": null,
       "text_color": null,
       "text_decoration": null
      }
     },
     "73542a77dfba48bc9a8f6b33c7d21409": {
      "model_module": "@jupyter-widgets/base",
      "model_module_version": "2.0.0",
      "model_name": "LayoutModel",
      "state": {}
     },
     "73b1542c94f04d1790518ff85f263bb8": {
      "model_module": "@jupyter-widgets/controls",
      "model_module_version": "2.0.0",
      "model_name": "ButtonStyleModel",
      "state": {
       "font_family": null,
       "font_size": null,
       "font_style": null,
       "font_variant": null,
       "font_weight": null,
       "text_color": null,
       "text_decoration": null
      }
     },
     "73fded9927f147a592b6bbef475c8022": {
      "model_module": "@jupyter-widgets/controls",
      "model_module_version": "2.0.0",
      "model_name": "DescriptionStyleModel",
      "state": {
       "description_width": "initial"
      }
     },
     "7462211146834712bfc2b5b75a3d7f22": {
      "model_module": "@jupyter-widgets/controls",
      "model_module_version": "2.0.0",
      "model_name": "TextModel",
      "state": {
       "_dom_classes": [
        "cofi-input-widget"
       ],
       "description": "Skyline Rows:",
       "layout": "IPY_MODEL_7f4b2c3255b14c19be06f4e030f36d02",
       "placeholder": "Optional",
       "style": "IPY_MODEL_c9f3ce57d2fe414699386f80d41db79b",
       "value": "None"
      }
     },
     "7561fd12fbb94caa972d72f952614a87": {
      "model_module": "@jupyter-widgets/controls",
      "model_module_version": "2.0.0",
      "model_name": "DescriptionStyleModel",
      "state": {
       "description_width": "initial"
      }
     },
     "75bc57a5a1234068af7e8e8e7a928561": {
      "model_module": "@jupyter-widgets/controls",
      "model_module_version": "2.0.0",
      "model_name": "HTMLStyleModel",
      "state": {
       "description_width": "",
       "font_size": null,
       "text_color": null
      }
     },
     "75cc8c02ce314500ba4f0ace8b7be170": {
      "model_module": "@jupyter-widgets/base",
      "model_module_version": "2.0.0",
      "model_name": "LayoutModel",
      "state": {
       "margin": "0 0 0 20px"
      }
     },
     "767893af0be3437eb1e08b357f1506f7": {
      "model_module": "@jupyter-widgets/base",
      "model_module_version": "2.0.0",
      "model_name": "LayoutModel",
      "state": {}
     },
     "768c7f10206048929bababa4e1fc2626": {
      "model_module": "@jupyter-widgets/controls",
      "model_module_version": "2.0.0",
      "model_name": "CheckboxModel",
      "state": {
       "description": "Master Arc(s) Preparation",
       "disabled": false,
       "layout": "IPY_MODEL_d929f422cb034a299dcacc1871eb63dd",
       "style": "IPY_MODEL_f0713b0dc6ae44bc8fa9d5104fde9516",
       "value": false
      }
     },
     "7691cd9c9f5245adadfdc7bd501a43a2": {
      "model_module": "@jupyter-widgets/controls",
      "model_module_version": "2.0.0",
      "model_name": "HTMLModel",
      "state": {
       "layout": "IPY_MODEL_afd3ff03975f44e696f2d9f75fcc99e3",
       "style": "IPY_MODEL_97c090cb2fa745a1b955df301548a707",
       "value": "\n        <div class='help-section-text'>\n            <h5>Slit Identification & Referencing</h5>\n            <p><b>What it is:</b> Locating the positions of all individual slits on the CCD detector using a flat-field image, and then correlating these found slits with the target information provided in a KOSMOS slit mask (KMS) file.</p>\n            <p><b>GUI Actions:</b> After entering the \"Slit Finding Flat\" number and \"KMS file\" path in Tab 4, click the \"Find Slits\" button.</p>\n            <p><b>Details & Process:</b>\n            <br/>1. Reduce the specified flat: <code>flat1 = red.reduce(21)</code> (using file 21 as example)\n            <br/>2. Initialize trace object: <code>trace0=spectra.Trace(transpose=True)</code> (<code>transpose=True</code> is specific to KOSMOS data orientation where dispersion is along rows after transpose).\n            <br/>3. Find slit edges on the flat: <code>bottom,top = trace0.findslits(flat1,display=t,thresh=0.5,sn=True)</code>. The <code>thresh</code> parameter controls sensitivity to detect slit edges; I All input are correct and you encounter an error of finding slits increse the <code>thresh</code>. <code>sn=True</code> Imply a signal-to-noise based thresholding (leave it checked...recommended). The TV tool (if enabled) can display the identified slit edges overlaid on the flat. The <code>trace0</code> object now stores the geometric definitions (polynomial fits to edges) of these found slits.\n            <br/>4. Read target data from KMS file: <code>targets=slitmask.read_kms(kmsfile,sort='YMM')</code>. This loads slits XMM/YMM coordinates from the <code>.kms</code> file, sorting them by their Y/X-position on the mask (<code>YMM/XMM</code>).\n            <br/>5. Validation: <code>if len(targets) != len(bottom) : print('ERROR, number of identified slits does not match number of targets')</code>. A warning is printed in the output area if there's a mismatch.\n            <br/>6. Display Targets: The loaded <code>targets</code> table is converted to a Pandas DataFrame and displayed in the main output area for user review.\n            </p>\n            <p><b>Widget State:</b> The widget stores the created <code>trace</code> (from <code>trace0</code>) and <code>targets</code> objects internally for subsequent steps.</p>\n        </div>\n        "
      }
     },
     "7815b11cce5f441e800c43584ec5306a": {
      "model_module": "@jupyter-widgets/controls",
      "model_module_version": "2.0.0",
      "model_name": "DescriptionStyleModel",
      "state": {
       "description_width": "initial"
      }
     },
     "78e3b7c0e94a4fdc8a00269312f12d8b": {
      "model_module": "@jupyter-widgets/base",
      "model_module_version": "2.0.0",
      "model_name": "LayoutModel",
      "state": {}
     },
     "790e3f9c2d804b7684a6b9bfbf022e72": {
      "model_module": "@jupyter-widgets/controls",
      "model_module_version": "2.0.0",
      "model_name": "CheckboxModel",
      "state": {
       "description": "Checiking shift values",
       "disabled": false,
       "layout": "IPY_MODEL_03184cda17c345678502cd69da78455c",
       "style": "IPY_MODEL_0b20979d81d84f798cc57fd3070b577f",
       "value": false
      }
     },
     "798f0592c5dd4e7292c9f1e2af4e6e21": {
      "model_module": "@jupyter-widgets/base",
      "model_module_version": "2.0.0",
      "model_name": "LayoutModel",
      "state": {
       "display": "none",
       "margin": "0 0 0 25px",
       "padding": "8px"
      }
     },
     "79bd01b8213a49ad93627adc8322d224": {
      "model_module": "@jupyter-widgets/controls",
      "model_module_version": "2.0.0",
      "model_name": "HTMLStyleModel",
      "state": {
       "description_width": "",
       "font_size": null,
       "text_color": null
      }
     },
     "79d7733a591d4b4bb069fe9591ffbbb1": {
      "model_module": "@jupyter-widgets/base",
      "model_module_version": "2.0.0",
      "model_name": "LayoutModel",
      "state": {}
     },
     "7a9143ae216e472799f06943e2c36c13": {
      "model_module": "@jupyter-widgets/controls",
      "model_module_version": "2.0.0",
      "model_name": "DescriptionStyleModel",
      "state": {
       "description_width": "initial"
      }
     },
     "7b346fc22501464cad5989ce9a9a0cc3": {
      "model_module": "@jupyter-widgets/controls",
      "model_module_version": "2.0.0",
      "model_name": "CheckboxModel",
      "state": {
       "_dom_classes": [
        "cofi-input-widget"
       ],
       "description": "FindPeak Sort",
       "disabled": false,
       "layout": "IPY_MODEL_ca18a4ff4e4b4d77b860779c5a7edf8a",
       "style": "IPY_MODEL_b06cfedfdb634345ae68093129fa6a1b",
       "value": true
      }
     },
     "7b92d1da9c554970872b071208a2098d": {
      "model_module": "@jupyter-widgets/controls",
      "model_module_version": "2.0.0",
      "model_name": "VBoxModel",
      "state": {
       "children": [
        "IPY_MODEL_8766799f9ff744e69dbeacd1f325934f"
       ],
       "layout": "IPY_MODEL_906adee9fdd7449aaa507215acb60fb6"
      }
     },
     "7bfe2207fdd44431b98ab55f60c37182": {
      "model_module": "@jupyter-widgets/base",
      "model_module_version": "2.0.0",
      "model_name": "LayoutModel",
      "state": {
       "padding": "5px"
      }
     },
     "7c01733e56f24721a1a9529897331b4a": {
      "model_module": "@jupyter-widgets/controls",
      "model_module_version": "2.0.0",
      "model_name": "HTMLStyleModel",
      "state": {
       "description_width": "",
       "font_size": null,
       "text_color": null
      }
     },
     "7c0ab335ac724a538d9c0ff8800c5e55": {
      "model_module": "@jupyter-widgets/base",
      "model_module_version": "2.0.0",
      "model_name": "LayoutModel",
      "state": {}
     },
     "7ca1a88adbfb486e9d82c6a028dc9382": {
      "model_module": "@jupyter-widgets/controls",
      "model_module_version": "2.0.0",
      "model_name": "CheckboxStyleModel",
      "state": {
       "description_width": ""
      }
     },
     "7ca3595e97f844bd94411bf002056712": {
      "model_module": "@jupyter-widgets/base",
      "model_module_version": "2.0.0",
      "model_name": "LayoutModel",
      "state": {}
     },
     "7cf98c85b8b84fdf98d32e9c2c9e6f2f": {
      "model_module": "@jupyter-widgets/controls",
      "model_module_version": "2.0.0",
      "model_name": "VBoxModel",
      "state": {
       "children": [
        "IPY_MODEL_db59e69148654806baab67492e4b52fa"
       ],
       "layout": "IPY_MODEL_98a267e0412547428df3972820d67e05"
      }
     },
     "7cfcb4614b2b42e08a7d001c2cd51d4a": {
      "model_module": "@jupyter-widgets/controls",
      "model_module_version": "2.0.0",
      "model_name": "FloatTextModel",
      "state": {
       "_dom_classes": [
        "cofi-input-widget"
       ],
       "description": "Clip (x Uncertainty):",
       "layout": "IPY_MODEL_113f1181afe143008ce07bb887faa1bc",
       "step": null,
       "style": "IPY_MODEL_92277de7746f47579287e41c13f53f30",
       "value": 5
      }
     },
     "7d0da60b474349e6a6249b0fff34fae9": {
      "model_module": "@jupyter-widgets/base",
      "model_module_version": "2.0.0",
      "model_name": "LayoutModel",
      "state": {
       "display": "none",
       "margin": "0 0 0 25px",
       "padding": "8px"
      }
     },
     "7e2608d4d1154720ac7119828ecdbcba": {
      "model_module": "@jupyter-widgets/controls",
      "model_module_version": "2.0.0",
      "model_name": "DescriptionStyleModel",
      "state": {
       "description_width": "initial"
      }
     },
     "7e98106a8a9740f1bc65aee9f8febbf3": {
      "model_module": "@jupyter-widgets/controls",
      "model_module_version": "2.0.0",
      "model_name": "DescriptionStyleModel",
      "state": {
       "description_width": "initial"
      }
     },
     "7ebc79b61f634548bb0a7a603a2f44e5": {
      "model_module": "@jupyter-widgets/controls",
      "model_module_version": "2.0.0",
      "model_name": "HTMLStyleModel",
      "state": {
       "description_width": "",
       "font_size": null,
       "text_color": null
      }
     },
     "7edbd07d71bd4655b8016eca5af6fc65": {
      "model_module": "@jupyter-widgets/controls",
      "model_module_version": "2.0.0",
      "model_name": "TextModel",
      "state": {
       "_dom_classes": [
        "cofi-input-widget"
       ],
       "description": "FindPeak Width:",
       "layout": "IPY_MODEL_7f4b2c3255b14c19be06f4e030f36d02",
       "style": "IPY_MODEL_b054c11130fe49ad946be71458fe086d"
      }
     },
     "7f4b2c3255b14c19be06f4e030f36d02": {
      "model_module": "@jupyter-widgets/base",
      "model_module_version": "2.0.0",
      "model_name": "LayoutModel",
      "state": {
       "width": "auto"
      }
     },
     "812535c16e44477bb10354eb6288cb5d": {
      "model_module": "@jupyter-widgets/controls",
      "model_module_version": "2.0.0",
      "model_name": "IntTextModel",
      "state": {
       "_dom_classes": [
        "cofi-input-widget"
       ],
       "description": "Trace HDU:",
       "layout": "IPY_MODEL_7f4b2c3255b14c19be06f4e030f36d02",
       "step": 1,
       "style": "IPY_MODEL_95892a43d2604d89a70fe1b4fc00a2e6",
       "value": 1
      }
     },
     "812ba8e5019e4b7391a6a3232faa5b71": {
      "model_module": "@jupyter-widgets/base",
      "model_module_version": "2.0.0",
      "model_name": "LayoutModel",
      "state": {}
     },
     "8164a134508d4c718ae15783357f6df7": {
      "model_module": "@jupyter-widgets/controls",
      "model_module_version": "2.0.0",
      "model_name": "TextModel",
      "state": {
       "_dom_classes": [
        "cofi-input-widget"
       ],
       "description": "ID Rows (e.g., 100:200):",
       "layout": "IPY_MODEL_7f4b2c3255b14c19be06f4e030f36d02",
       "placeholder": "Optional",
       "style": "IPY_MODEL_b490962f00d5440097c2d134bd8f8251",
       "value": "None"
      }
     },
     "81b5c27b3a9d485b9b6052e74b2e59ee": {
      "model_module": "@jupyter-widgets/controls",
      "model_module_version": "2.0.0",
      "model_name": "CheckboxStyleModel",
      "state": {
       "description_width": ""
      }
     },
     "8220d2be7c9b4ef1bf7f684c1447d415": {
      "model_module": "@jupyter-widgets/base",
      "model_module_version": "2.0.0",
      "model_name": "LayoutModel",
      "state": {}
     },
     "82551d995f5b47c19475dfa092cd4114": {
      "model_module": "@jupyter-widgets/controls",
      "model_module_version": "2.0.0",
      "model_name": "DescriptionStyleModel",
      "state": {
       "description_width": "initial"
      }
     },
     "82a2d417d41b46868069106cf0ff6042": {
      "model_module": "@jupyter-widgets/controls",
      "model_module_version": "2.0.0",
      "model_name": "TextModel",
      "state": {
       "_dom_classes": [
        "cofi-input-widget"
       ],
       "description": "ID Plot X-Max:",
       "layout": "IPY_MODEL_7f4b2c3255b14c19be06f4e030f36d02",
       "placeholder": "Optional",
       "style": "IPY_MODEL_c93a4c45152a446286d6f83ca12df88c"
      }
     },
     "82ebe5b588a54c56be6db8a7697d575c": {
      "model_module": "@jupyter-widgets/base",
      "model_module_version": "2.0.0",
      "model_name": "LayoutModel",
      "state": {}
     },
     "83300408eca84c9bb09dd47aed0b808a": {
      "model_module": "@jupyter-widgets/base",
      "model_module_version": "2.0.0",
      "model_name": "LayoutModel",
      "state": {}
     },
     "83c4bb105dcb43e6a89a3157e0c0300b": {
      "model_module": "@jupyter-widgets/controls",
      "model_module_version": "2.0.0",
      "model_name": "CheckboxStyleModel",
      "state": {
       "description_width": ""
      }
     },
     "841ad33f6bfa42c08a899db1b2d0cbf0": {
      "model_module": "@jupyter-widgets/controls",
      "model_module_version": "2.0.0",
      "model_name": "TextStyleModel",
      "state": {
       "description_width": "initial",
       "font_size": null,
       "text_color": null
      }
     },
     "8472e56790e84dc493a9523df78931e3": {
      "model_module": "@jupyter-widgets/controls",
      "model_module_version": "2.0.0",
      "model_name": "TextModel",
      "state": {
       "_dom_classes": [
        "cofi-input-widget"
       ],
       "description": "N-out:",
       "layout": "IPY_MODEL_7f4b2c3255b14c19be06f4e030f36d02",
       "placeholder": "Optional",
       "style": "IPY_MODEL_4add57c0633248b199beec39e1bceeb0"
      }
     },
     "84e6aa2b4a784695a0ae06e987864cb2": {
      "model_module": "@jupyter-widgets/controls",
      "model_module_version": "2.0.0",
      "model_name": "VBoxModel",
      "state": {
       "children": [
        "IPY_MODEL_69abacffcdd24428b792040ea8d9a125",
        "IPY_MODEL_b328286a598145c0bb5cc6fc7448feee",
        "IPY_MODEL_398a09cf0c7542d6a6ccd6461e79b4da",
        "IPY_MODEL_a70d6581490d49a7b683b1828c5969b8",
        "IPY_MODEL_c2b8c8c973374bb58d54d6b3e3d9f704",
        "IPY_MODEL_029e6bb358a746e99b1168325a605de8",
        "IPY_MODEL_03d67da0a30e4cc890ca17dfcc86110e"
       ],
       "layout": "IPY_MODEL_32982d25d0a64277bcda65c2ee888566"
      }
     },
     "85b9df3f86a0434ab4e92a8ed100acef": {
      "model_module": "@jupyter-widgets/controls",
      "model_module_version": "2.0.0",
      "model_name": "TextStyleModel",
      "state": {
       "description_width": "initial",
       "font_size": null,
       "text_color": null
      }
     },
     "865fb16ad10141ad84daa46e9991163d": {
      "model_module": "@jupyter-widgets/controls",
      "model_module_version": "2.0.0",
      "model_name": "ButtonStyleModel",
      "state": {
       "font_family": null,
       "font_size": null,
       "font_style": null,
       "font_variant": null,
       "font_weight": null,
       "text_color": null,
       "text_decoration": null
      }
     },
     "8660a3c5fe3a468391c44091c7e38434": {
      "model_module": "@jupyter-widgets/controls",
      "model_module_version": "2.0.0",
      "model_name": "HTMLModel",
      "state": {
       "layout": "IPY_MODEL_2b39bd28894f4637a6c2e08a51d2309d",
       "style": "IPY_MODEL_93e3b955e080452886c23ae4f97fa0a1",
       "value": "\n        <div class='help-section-text'>\n            <h5>Master Flat Creation</h5>\n            <p><b>What it is:</b> A Master Flat corrects for pixel-to-pixel sensitivity variations across the CCD, as well as imperfections in the optical path such as dust particles (which cause \"donuts\") or vignetting (darkening at image edges).</p>\n            <p><b>GUI Interaction:</b> Enter flat frame numbers (e.g., <code>21,22</code>) in \"Flat Frames:\" and click \"Compute Flat\".</p>\n        </div>\n        "
      }
     },
     "86d9d66f58464b2fbad1289892ad208d": {
      "model_module": "@jupyter-widgets/controls",
      "model_module_version": "2.0.0",
      "model_name": "CheckboxModel",
      "state": {
       "_dom_classes": [
        "cofi-input-widget"
       ],
       "description": "Trace Transpose",
       "disabled": false,
       "layout": "IPY_MODEL_9cdfcb2ea1404d07a79e844ae98eb394",
       "style": "IPY_MODEL_e6f3575b2953420bafed4b41077ffcf6",
       "value": false
      }
     },
     "86ef21b122c548c2a60aef305b618b9b": {
      "model_module": "@jupyter-widgets/controls",
      "model_module_version": "2.0.0",
      "model_name": "TextModel",
      "state": {
       "_dom_classes": [
        "cofi-input-widget"
       ],
       "description": "Trace Method Index:",
       "layout": "IPY_MODEL_7f4b2c3255b14c19be06f4e030f36d02",
       "placeholder": "Optional",
       "style": "IPY_MODEL_207da8fe252b460b9a27bf60f1c95262"
      }
     },
     "86f77b1531a8429b87e9cc873bb104dc": {
      "model_module": "@jupyter-widgets/controls",
      "model_module_version": "2.0.0",
      "model_name": "FloatTextModel",
      "state": {
       "_dom_classes": [
        "cofi-input-widget"
       ],
       "description": "CR Sigma (lacosmic):",
       "layout": "IPY_MODEL_7f4b2c3255b14c19be06f4e030f36d02",
       "step": null,
       "style": "IPY_MODEL_4d8199ae2fe6450f97635e7e072ecb23",
       "value": 5
      }
     },
     "8708015c3e484ad1bbedfb50a2aaafe9": {
      "model_module": "@jupyter-widgets/controls",
      "model_module_version": "2.0.0",
      "model_name": "CheckboxStyleModel",
      "state": {
       "description_width": ""
      }
     },
     "870ec4797a604aeda220771eac9fdb58": {
      "model_module": "@jupyter-widgets/controls",
      "model_module_version": "2.0.0",
      "model_name": "DescriptionStyleModel",
      "state": {
       "description_width": "initial"
      }
     },
     "8766799f9ff744e69dbeacd1f325934f": {
      "model_module": "@jupyter-widgets/controls",
      "model_module_version": "2.0.0",
      "model_name": "HTMLModel",
      "state": {
       "layout": "IPY_MODEL_5722404fc9eb41f88977330828eabf26",
       "style": "IPY_MODEL_19877e29257b463dba76f107a4e18761",
       "value": "\n        <div class='help-section-text'>\n            <h5>Science Image Reduction</h5>\n            <p><b>What it is:</b> Applying all necessary instrumental corrections to your raw science image. This typically includes overscan correction, bias subtraction, dark subtraction, flat-field division, and cosmic ray rejection.</p>\n            <p><b>GUI Actions:</b> In Tab 3, enter the file number of your raw science exposure into the \"Science Frame:\" input field. Then, click the \"Run Reduction\" button.</p>\n            <p><b>Details & Process:</b>\n            <br/>The widget calls <code>self.red.reduce(...)</code>. The exact arguments depend on the <code>self.calibration</code> flag of the widget.\n            <ul>\n                <li><b>If <code>self.calibration</code> (Science_cal checked) is True (and master frames exist):</b> Full calibration is attempted.\n                    <br/><em>Conceptual: <code>star1=red.reduce(20, crbox='lacosmic', bias=self.bias_frame, flat=self.flat_frame, dark=self.dark_frame, display=t)</code>.</em>\n                    <br/>The process involves: overscan correction (by <code>Reducer</code>), subtraction of <code>self.bias_frame</code>, subtraction of <code>self.dark_frame</code> (scaled to science exposure time), division by <code>self.flat_frame</code>, and cosmic ray rejection (e.g., <code>crbox='lacosmic'</code>).</li>\n                <li><b>If <code>self.calibration</code> (Science_cal not checked)is False (widget default) or master frames are missing:</b> Basic reduction, focusing on cosmic ray removal.\n                    <br/><em>Recommended: <code>imcr=red.reduce(20,crbox='lacosmic',crsig=6,display=t, objlim=10 )</code></em>\n                    <br/>This performs overscan correction as defined by the <code>Reducer</code>'s default behavior and applies cosmic ray rejection using <code>astroscrappy.detect_cosmics</code> (via <code>crbox='lacosmic'</code>). Parameters like <code>crsig</code> (Laplacian-to-noise limit) and <code>objlim</code> (contrast limit for CR detection) control its sensitivity.</li>\n            </ul>\n            </p>\n            <p><b>Widget State:</b> The fully calibrated and cosmic-ray-cleaned 2D science image is stored as <code>self.reduced_frame</code>, ready for spectral extraction.</p>\n        </div>\n        "
      }
     },
     "87795f7419b14651839cbb7382cd856c": {
      "model_module": "@jupyter-widgets/base",
      "model_module_version": "2.0.0",
      "model_name": "LayoutModel",
      "state": {}
     },
     "87f68b259d4d434987a1ce54ee80c22f": {
      "model_module": "@jupyter-widgets/base",
      "model_module_version": "2.0.0",
      "model_name": "LayoutModel",
      "state": {}
     },
     "8873418f3616495186276d8fc9035eb3": {
      "model_module": "@jupyter-widgets/controls",
      "model_module_version": "2.0.0",
      "model_name": "VBoxModel",
      "state": {
       "children": [
        "IPY_MODEL_baf03338560f4f9790e0ee28f9e37a14",
        "IPY_MODEL_91c335d37fba492194f8f412e45a9d19",
        "IPY_MODEL_650ac9659db94379a6ec60ae054416f6",
        "IPY_MODEL_429be81a150d4dd99911a74aa7f49ac6",
        "IPY_MODEL_1f52c031e6604410a454e4c2148884be",
        "IPY_MODEL_4caab392807348c5af66f46a124ad772",
        "IPY_MODEL_ba32d34ca8e0449995c8b7f0815de6fa",
        "IPY_MODEL_c0618e8f3f8a44deba91dc6624d48221",
        "IPY_MODEL_95daf37f1bda42c4b77ef1c3484821fc",
        "IPY_MODEL_88aecf9fc7e64b9eae460b21e51167cb",
        "IPY_MODEL_2854987b67db438d9b28e2baa46b88be"
       ],
       "layout": "IPY_MODEL_87795f7419b14651839cbb7382cd856c"
      }
     },
     "887b701cb6eb423ca4d0f2f81ce0cf81": {
      "model_module": "@jupyter-widgets/base",
      "model_module_version": "2.0.0",
      "model_name": "LayoutModel",
      "state": {}
     },
     "88aecf9fc7e64b9eae460b21e51167cb": {
      "model_module": "@jupyter-widgets/controls",
      "model_module_version": "2.0.0",
      "model_name": "CheckboxModel",
      "state": {
       "_dom_classes": [
        "cofi-input-widget"
       ],
       "description": "FindPeak Verbose",
       "disabled": false,
       "layout": "IPY_MODEL_196ae6efa3894fb7a826d3ca3f08c132",
       "style": "IPY_MODEL_bbac2a47091c4d0fb40814506c40b839",
       "value": false
      }
     },
     "88f8858a2d464797bf55c569cb1dc012": {
      "model_module": "@jupyter-widgets/controls",
      "model_module_version": "2.0.0",
      "model_name": "CheckboxModel",
      "state": {
       "_dom_classes": [
        "cofi-input-widget"
       ],
       "description": "ID Pixel Plot",
       "disabled": false,
       "layout": "IPY_MODEL_b6fd7688dc99466b83ecfb90ce8ee4a3",
       "style": "IPY_MODEL_5cc352d523cd42bfb4865c15a98fe257",
       "value": false
      }
     },
     "89156a482e534279a2db09e89e29518e": {
      "model_module": "@jupyter-widgets/controls",
      "model_module_version": "2.0.0",
      "model_name": "CheckboxStyleModel",
      "state": {
       "description_width": ""
      }
     },
     "89de25b1fa6c4a8b936582f4d3b14268": {
      "model_module": "@jupyter-widgets/controls",
      "model_module_version": "2.0.0",
      "model_name": "TextStyleModel",
      "state": {
       "description_width": "initial",
       "font_size": null,
       "text_color": null
      }
     },
     "8a0eaa12ed9346bfba93b2f4f7234267": {
      "model_module": "@jupyter-widgets/controls",
      "model_module_version": "2.0.0",
      "model_name": "ButtonStyleModel",
      "state": {
       "font_family": null,
       "font_size": null,
       "font_style": null,
       "font_variant": null,
       "font_weight": null,
       "text_color": null,
       "text_decoration": null
      }
     },
     "8aecb2e177c4464c8dbe91a16a504d72": {
      "model_module": "@jupyter-widgets/controls",
      "model_module_version": "2.0.0",
      "model_name": "TextStyleModel",
      "state": {
       "description_width": "initial",
       "font_size": null,
       "text_color": null
      }
     },
     "8b709cd96c2f4df1be4504f7456a93e9": {
      "model_module": "@jupyter-widgets/base",
      "model_module_version": "2.0.0",
      "model_name": "LayoutModel",
      "state": {}
     },
     "8b99725bb1494cf59284acc1fee5766c": {
      "model_module": "@jupyter-widgets/controls",
      "model_module_version": "2.0.0",
      "model_name": "FloatTextModel",
      "state": {
       "_dom_classes": [
        "cofi-input-widget"
       ],
       "description": "XMM Shift Multiplier:",
       "layout": "IPY_MODEL_7f4b2c3255b14c19be06f4e030f36d02",
       "step": null,
       "style": "IPY_MODEL_d5ae975d2766412f9c7348b2bb6888d2",
       "value": -22.5
      }
     },
     "8c8860552e4949ad9ee93b2f987260df": {
      "model_module": "@jupyter-widgets/controls",
      "model_module_version": "2.0.0",
      "model_name": "FloatTextModel",
      "state": {
       "_dom_classes": [
        "cofi-input-widget"
       ],
       "description": "sigfrac:",
       "layout": "IPY_MODEL_7f4b2c3255b14c19be06f4e030f36d02",
       "step": null,
       "style": "IPY_MODEL_68a2c70da6394b1d8fd00809579ef887",
       "value": 0.3
      }
     },
     "8d0d16511fe54a80bb1b11518944a4ea": {
      "model_module": "@jupyter-widgets/controls",
      "model_module_version": "2.0.0",
      "model_name": "TextStyleModel",
      "state": {
       "description_width": "initial",
       "font_size": null,
       "text_color": null
      }
     },
     "8d8fbe2e7b504b29905178418a2e0e7f": {
      "model_module": "@jupyter-widgets/controls",
      "model_module_version": "2.0.0",
      "model_name": "ButtonModel",
      "state": {
       "_dom_classes": [
        "custom-button"
       ],
       "description": "Update Arc Headers",
       "icon": "tags",
       "layout": "IPY_MODEL_7f4b2c3255b14c19be06f4e030f36d02",
       "style": "IPY_MODEL_1345b0b76aad4d14af4af1db35deb148",
       "tooltip": null
      }
     },
     "8e3a5bd600df4b4fa9c8b7855779aa1d": {
      "model_module": "@jupyter-widgets/controls",
      "model_module_version": "2.0.0",
      "model_name": "TextModel",
      "state": {
       "_dom_classes": [
        "cofi-input-widget"
       ],
       "description": "Trace File:",
       "layout": "IPY_MODEL_7f4b2c3255b14c19be06f4e030f36d02",
       "placeholder": "Optional",
       "style": "IPY_MODEL_e68dd5d0c25348d5afbe928ecf0f2f15"
      }
     },
     "8e60dfed38bf450abdaa889961665c01": {
      "model_module": "@jupyter-widgets/base",
      "model_module_version": "2.0.0",
      "model_name": "LayoutModel",
      "state": {}
     },
     "8e98497980a34147be584dda067d845a": {
      "model_module": "@jupyter-widgets/base",
      "model_module_version": "2.0.0",
      "model_name": "LayoutModel",
      "state": {}
     },
     "8ec8917d59544e7a83ef7b668f0de57b": {
      "model_module": "@jupyter-widgets/controls",
      "model_module_version": "2.0.0",
      "model_name": "CheckboxModel",
      "state": {
       "description": "Master Bias Creation",
       "disabled": false,
       "layout": "IPY_MODEL_3b474dfbe09940a59a521cfb59fbd7ff",
       "style": "IPY_MODEL_a73ffcd9890f45718aea83245c0ff2aa",
       "value": false
      }
     },
     "8ee948e9074c4f89b93ae94473b68feb": {
      "model_module": "@jupyter-widgets/controls",
      "model_module_version": "2.0.0",
      "model_name": "CheckboxModel",
      "state": {
       "_dom_classes": [
        "cofi-input-widget"
       ],
       "description": "Skyline Interactive",
       "disabled": false,
       "layout": "IPY_MODEL_83300408eca84c9bb09dd47aed0b808a",
       "style": "IPY_MODEL_668fa015e4644c8aa3436d5c06ded298",
       "value": true
      }
     },
     "90524c0a17ee453f963910111a529ed7": {
      "model_module": "@jupyter-widgets/controls",
      "model_module_version": "2.0.0",
      "model_name": "CheckboxStyleModel",
      "state": {
       "description_width": ""
      }
     },
     "906adee9fdd7449aaa507215acb60fb6": {
      "model_module": "@jupyter-widgets/base",
      "model_module_version": "2.0.0",
      "model_name": "LayoutModel",
      "state": {
       "display": "none",
       "margin": "0 0 0 25px",
       "padding": "8px"
      }
     },
     "9071d7901bfe4ad1be79540ba263f3c6": {
      "model_module": "@jupyter-widgets/controls",
      "model_module_version": "2.0.0",
      "model_name": "CheckboxModel",
      "state": {
       "description": "Master Dark Creation",
       "disabled": false,
       "layout": "IPY_MODEL_6052918c3ca24968b66299e9827d8ffb",
       "style": "IPY_MODEL_a1b57ea6dd5d4c88bd2058dc4665ed44",
       "value": false
      }
     },
     "9075a8fba7604c4bb133260489699cfe": {
      "model_module": "@jupyter-widgets/controls",
      "model_module_version": "2.0.0",
      "model_name": "HTMLStyleModel",
      "state": {
       "description_width": "",
       "font_size": null,
       "text_color": null
      }
     },
     "90d30da5ecf448b5a16f3c6ce4d71a25": {
      "model_module": "@jupyter-widgets/controls",
      "model_module_version": "2.0.0",
      "model_name": "VBoxModel",
      "state": {
       "children": [
        "IPY_MODEL_710c8f2350664f95800b9dd1af5f97df"
       ],
       "layout": "IPY_MODEL_b22ead0c9c394a4e83dbc1ae7077de52"
      }
     },
     "90e6f89045da4280ada48942435b27eb": {
      "model_module": "@jupyter-widgets/controls",
      "model_module_version": "2.0.0",
      "model_name": "CheckboxStyleModel",
      "state": {
       "description_width": ""
      }
     },
     "91197f95682f4ef793c2cdd6f9e205b4": {
      "model_module": "@jupyter-widgets/controls",
      "model_module_version": "2.0.0",
      "model_name": "CheckboxStyleModel",
      "state": {
       "description_width": ""
      }
     },
     "911ba0bbe8fa4f37b95232c0d5fede49": {
      "model_module": "@jupyter-widgets/controls",
      "model_module_version": "2.0.0",
      "model_name": "VBoxModel",
      "state": {
       "children": [
        "IPY_MODEL_14d9590f592e450c87856c186e8e6dc1",
        "IPY_MODEL_5e645d7651af4a66ac2655652b1e1d55",
        "IPY_MODEL_5098d2bfebaa4c7f9b187ac3a197c70b",
        "IPY_MODEL_58720febf94f4c90b96bbc6e0c55386c"
       ],
       "layout": "IPY_MODEL_4d7cbc6d01d34a16b041f57842a22f5d"
      }
     },
     "915ecb7889b144e59d0dced981dbacd5": {
      "model_module": "@jupyter-widgets/controls",
      "model_module_version": "2.0.0",
      "model_name": "FloatTextModel",
      "state": {
       "_dom_classes": [
        "cofi-input-widget"
       ],
       "description": "Trace Method Thresh:",
       "layout": "IPY_MODEL_7f4b2c3255b14c19be06f4e030f36d02",
       "step": null,
       "style": "IPY_MODEL_d754d7c930b54734ad3d0c7c8c0cb248",
       "value": 20
      }
     },
     "9185336409a848e7b90857d7507ae3a2": {
      "model_module": "@jupyter-widgets/controls",
      "model_module_version": "2.0.0",
      "model_name": "CheckboxModel",
      "state": {
       "_dom_classes": [
        "cofi-input-widget"
       ],
       "description": "ID Enable Plotinter",
       "disabled": false,
       "layout": "IPY_MODEL_7ca3595e97f844bd94411bf002056712",
       "style": "IPY_MODEL_2c5b96fdbc204ecf8dd1bd0b0d8ed4b4",
       "value": true
      }
     },
     "91c335d37fba492194f8f412e45a9d19": {
      "model_module": "@jupyter-widgets/controls",
      "model_module_version": "2.0.0",
      "model_name": "IntTextModel",
      "state": {
       "_dom_classes": [
        "cofi-input-widget"
       ],
       "description": "FindPeak Back %:",
       "layout": "IPY_MODEL_7f4b2c3255b14c19be06f4e030f36d02",
       "step": 1,
       "style": "IPY_MODEL_0538f33a82bf4727a193fb749006afc7",
       "value": 10
      }
     },
     "91ed2b1aecfa460099bd8d3d013f27f0": {
      "model_module": "@jupyter-widgets/controls",
      "model_module_version": "2.0.0",
      "model_name": "CheckboxStyleModel",
      "state": {
       "description_width": "initial"
      }
     },
     "92277de7746f47579287e41c13f53f30": {
      "model_module": "@jupyter-widgets/controls",
      "model_module_version": "2.0.0",
      "model_name": "DescriptionStyleModel",
      "state": {
       "description_width": ""
      }
     },
     "925b131ead184ed685e923588f335509": {
      "model_module": "@jupyter-widgets/controls",
      "model_module_version": "2.0.0",
      "model_name": "DescriptionStyleModel",
      "state": {
       "description_width": ""
      }
     },
     "933e0b0c4609442d83e2bab257475c9c": {
      "model_module": "@jupyter-widgets/controls",
      "model_module_version": "2.0.0",
      "model_name": "ButtonModel",
      "state": {
       "_dom_classes": [
        "custom-button",
        "run-button"
       ],
       "description": "Compute Arcs",
       "icon": "cogs",
       "layout": "IPY_MODEL_7f4b2c3255b14c19be06f4e030f36d02",
       "style": "IPY_MODEL_11d7be4a0a994242b45b9232d1b6c418",
       "tooltip": null
      }
     },
     "93422274a64842c299e77b01134a828b": {
      "model_module": "@jupyter-widgets/controls",
      "model_module_version": "2.0.0",
      "model_name": "CheckboxModel",
      "state": {
       "_dom_classes": [
        "cofi-input-widget"
       ],
       "description": "Apply bias",
       "disabled": false,
       "layout": "IPY_MODEL_01ef8407a295462998c55bc73dc1e847",
       "style": "IPY_MODEL_c9b792b748414bb3a9557eb7e4b15457",
       "value": false
      }
     },
     "935df8b81d814395a79f74c769a86982": {
      "model_module": "@jupyter-widgets/controls",
      "model_module_version": "2.0.0",
      "model_name": "HTMLModel",
      "state": {
       "layout": "IPY_MODEL_03f313b6dbc94c669aeafde044768edc",
       "style": "IPY_MODEL_79bd01b8213a49ad93627adc8322d224",
       "value": "<h4>Feedback Prompt (from processor):</h4>"
      }
     },
     "93e3b955e080452886c23ae4f97fa0a1": {
      "model_module": "@jupyter-widgets/controls",
      "model_module_version": "2.0.0",
      "model_name": "HTMLStyleModel",
      "state": {
       "description_width": "",
       "font_size": null,
       "text_color": null
      }
     },
     "93fab71673454dd1b2749f92adea2bd1": {
      "model_module": "@jupyter-widgets/controls",
      "model_module_version": "2.0.0",
      "model_name": "VBoxModel",
      "state": {
       "children": [
        "IPY_MODEL_7691cd9c9f5245adadfdc7bd501a43a2"
       ],
       "layout": "IPY_MODEL_a93164ff561d49edab79e2d2a4d3f1e5"
      }
     },
     "94e10bc178484cd9aecc820c2432f962": {
      "model_module": "@jupyter-widgets/controls",
      "model_module_version": "2.0.0",
      "model_name": "ButtonModel",
      "state": {
       "_dom_classes": [
        "custom-button",
        "run-button"
       ],
       "description": "Compute Bias",
       "icon": "cogs",
       "layout": "IPY_MODEL_7f4b2c3255b14c19be06f4e030f36d02",
       "style": "IPY_MODEL_db48cd16fde543c2806cb73b578644e1",
       "tooltip": null
      }
     },
     "95634b8d6bad4848a5baedfcf6505b11": {
      "model_module": "@jupyter-widgets/controls",
      "model_module_version": "2.0.0",
      "model_name": "DescriptionStyleModel",
      "state": {
       "description_width": "initial"
      }
     },
     "95892a43d2604d89a70fe1b4fc00a2e6": {
      "model_module": "@jupyter-widgets/controls",
      "model_module_version": "2.0.0",
      "model_name": "DescriptionStyleModel",
      "state": {
       "description_width": "initial"
      }
     },
     "95daf37f1bda42c4b77ef1c3484821fc": {
      "model_module": "@jupyter-widgets/controls",
      "model_module_version": "2.0.0",
      "model_name": "CheckboxModel",
      "state": {
       "_dom_classes": [
        "cofi-input-widget"
       ],
       "description": "Sort Peaks",
       "disabled": false,
       "layout": "IPY_MODEL_b9f149023e9640e2bb3b62762babbf48",
       "style": "IPY_MODEL_05ee4ead15574bb8834bf8051680b58c",
       "value": true
      }
     },
     "964dae0e518d4956bc63f40a30652eb1": {
      "model_module": "@jupyter-widgets/base",
      "model_module_version": "2.0.0",
      "model_name": "LayoutModel",
      "state": {}
     },
     "96edc7db287f420e92ee39babf408dc0": {
      "model_module": "@jupyter-widgets/controls",
      "model_module_version": "2.0.0",
      "model_name": "CheckboxStyleModel",
      "state": {
       "description_width": ""
      }
     },
     "9786aacb47ff49f3b6d891652188652d": {
      "model_module": "@jupyter-widgets/controls",
      "model_module_version": "2.0.0",
      "model_name": "HTMLStyleModel",
      "state": {
       "description_width": "",
       "font_size": null,
       "text_color": null
      }
     },
     "97c090cb2fa745a1b955df301548a707": {
      "model_module": "@jupyter-widgets/controls",
      "model_module_version": "2.0.0",
      "model_name": "HTMLStyleModel",
      "state": {
       "description_width": "",
       "font_size": null,
       "text_color": null
      }
     },
     "9813386843e04831a686cbfb642a30c4": {
      "model_module": "@jupyter-widgets/controls",
      "model_module_version": "2.0.0",
      "model_name": "TextModel",
      "state": {
       "_dom_classes": [
        "cofi-input-widget"
       ],
       "description": "ID NSkip:",
       "layout": "IPY_MODEL_ad6959d716cc4c7c8a84a053a6dcfdb5",
       "placeholder": "Optional",
       "style": "IPY_MODEL_dd5355ef116f47f2b1275d64277d5d83"
      }
     },
     "98a267e0412547428df3972820d67e05": {
      "model_module": "@jupyter-widgets/base",
      "model_module_version": "2.0.0",
      "model_name": "LayoutModel",
      "state": {
       "display": "none",
       "margin": "0 0 0 25px",
       "padding": "8px"
      }
     },
     "9982f59613084cb199ba94145a3067f0": {
      "model_module": "@jupyter-widgets/controls",
      "model_module_version": "2.0.0",
      "model_name": "CheckboxStyleModel",
      "state": {
       "description_width": ""
      }
     },
     "9b3cf19fc267437d9434e65f722e1dcb": {
      "model_module": "@jupyter-widgets/base",
      "model_module_version": "2.0.0",
      "model_name": "LayoutModel",
      "state": {}
     },
     "9bb57bfa18874b648e3bb88afa05287e": {
      "model_module": "@jupyter-widgets/controls",
      "model_module_version": "2.0.0",
      "model_name": "VBoxModel",
      "state": {
       "children": [
        "IPY_MODEL_5083f3d28bc7446e99147a4111a38452",
        "IPY_MODEL_4a7d4964f2084650a6e0f89c5d99eb1a",
        "IPY_MODEL_7462211146834712bfc2b5b75a3d7f22",
        "IPY_MODEL_a0128b09b29b449085232ef9ba5408c1",
        "IPY_MODEL_6291dd7f71034e6a80eb1802e74a7851",
        "IPY_MODEL_ba5dad5ee4eb48c8a582932ed50546e2"
       ],
       "layout": "IPY_MODEL_04b305b9e654408fa2850e0c5415427a"
      }
     },
     "9bed1d3c1343457eb3945094e8ec0e19": {
      "model_module": "@jupyter-widgets/controls",
      "model_module_version": "2.0.0",
      "model_name": "CheckboxStyleModel",
      "state": {
       "description_width": ""
      }
     },
     "9bfadbc942994b9fa4f028ef437b70c4": {
      "model_module": "@jupyter-widgets/controls",
      "model_module_version": "2.0.0",
      "model_name": "HTMLModel",
      "state": {
       "layout": "IPY_MODEL_df21755575d2402db013ccc300aa2b47",
       "style": "IPY_MODEL_aee86d869e054855b6b49e9addb2ddf4",
       "value": "\n            <style>\n                /* This style applies ONLY to the paragraphs inside this HTML widget */\n                p {\n                    font-size: 20px; /* <-- Adjust this value as needed */\n                    line-height: 1.3;  /* Optional: Improves readability */\n                    font-family: 'Montserrat', sans-serif;\n                }\n            </style>\n            \n            <h2>Widget Tabs & Reduction Steps Explanations</h2>\n            <p>This section details the operations within each tab It explains the GUI elements, the actions they perform, and references the corresponding processes and code logic primarily drawn from the <code>CofI KOSMOS slitmask reduction final draft-optimized.ipynb</code> notebook.</p>\n        \n            <h2>Important Note on Defaults:</h2>\n            <p>All parameters initially set to their default values. These defaults are generally sensible starting points based on experience. Modifying these parameters requires understanding their specific role and potential impact on the data reduction outcomes. It's advisable to consult the <code>astro-pyvista</code> library documentation, the KOSMOS MULTI-SLIT REDUCTION TUTORIAL, or the KOSMOS notebook for more context on each parameter if unsure.</p>\n        "
      }
     },
     "9c372dd5b42347ac95e8c60b78e825bc": {
      "model_module": "@jupyter-widgets/base",
      "model_module_version": "2.0.0",
      "model_name": "LayoutModel",
      "state": {}
     },
     "9c9aa3ee75c744f8b98ca4cacf3c0700": {
      "model_module": "@jupyter-widgets/controls",
      "model_module_version": "2.0.0",
      "model_name": "CheckboxStyleModel",
      "state": {
       "description_width": ""
      }
     },
     "9cca98d02fc04280917cbb60dae4c507": {
      "model_module": "@jupyter-widgets/controls",
      "model_module_version": "2.0.0",
      "model_name": "CheckboxModel",
      "state": {
       "_dom_classes": [
        "cofi-input-widget"
       ],
       "description": "ID Verbose",
       "disabled": false,
       "layout": "IPY_MODEL_1e91317e6e77449da3abb63aac82f89b",
       "style": "IPY_MODEL_96edc7db287f420e92ee39babf408dc0",
       "value": false
      }
     },
     "9cdfcb2ea1404d07a79e844ae98eb394": {
      "model_module": "@jupyter-widgets/base",
      "model_module_version": "2.0.0",
      "model_name": "LayoutModel",
      "state": {}
     },
     "9d092c58dc794fa48d9b653f0bbf58ba": {
      "model_module": "@jupyter-widgets/controls",
      "model_module_version": "2.0.0",
      "model_name": "TextModel",
      "state": {
       "_dom_classes": [
        "cofi-input-widget"
       ],
       "description": "ID Plot X-Min:",
       "layout": "IPY_MODEL_7f4b2c3255b14c19be06f4e030f36d02",
       "placeholder": "Optional",
       "style": "IPY_MODEL_6941e4c234a54c69b9936678b94187aa"
      }
     },
     "9d7f6fb1bfed49b0baf54fe1e3221754": {
      "model_module": "@jupyter-widgets/controls",
      "model_module_version": "2.0.0",
      "model_name": "ButtonModel",
      "state": {
       "_dom_classes": [
        "custom-button"
       ],
       "description": "Check Shift",
       "icon": "search-plus",
       "layout": "IPY_MODEL_7f4b2c3255b14c19be06f4e030f36d02",
       "style": "IPY_MODEL_60e677142b0b43d89710819e2a52db4e",
       "tooltip": null
      }
     },
     "9e4669f94dc5429eaa1ddbb414df5364": {
      "model_module": "@jupyter-widgets/controls",
      "model_module_version": "2.0.0",
      "model_name": "CheckboxModel",
      "state": {
       "_dom_classes": [
        "cofi-input-widget"
       ],
       "description": "utr",
       "disabled": false,
       "layout": "IPY_MODEL_b58059173de2433d9ea8cf196e350e76",
       "style": "IPY_MODEL_f8ff16af67ab40a4aae0add0ef0669b8",
       "value": false
      }
     },
     "9ee85bb974c44b929b210d40baf63c43": {
      "model_module": "@jupyter-widgets/controls",
      "model_module_version": "2.0.0",
      "model_name": "ButtonModel",
      "state": {
       "_dom_classes": [
        "custom-button"
       ],
       "description": "Filter Slits",
       "icon": "filter",
       "layout": "IPY_MODEL_7f4b2c3255b14c19be06f4e030f36d02",
       "style": "IPY_MODEL_fb5574ee5c6f4d05b177eb6258eafd06",
       "tooltip": null
      }
     },
     "9f11502106df478e8637149a3739c4f3": {
      "model_module": "@jupyter-widgets/controls",
      "model_module_version": "2.0.0",
      "model_name": "TextModel",
      "state": {
       "_dom_classes": [
        "cofi-input-widget"
       ],
       "description": "if specified, set masked pixels to specified value:",
       "layout": "IPY_MODEL_7f4b2c3255b14c19be06f4e030f36d02",
       "placeholder": "int, default= None",
       "style": "IPY_MODEL_d003265b1e664a0a836d6b1bf204b7b4"
      }
     },
     "9f2a6d02e5fb45139f7301157786a148": {
      "model_module": "@jupyter-widgets/controls",
      "model_module_version": "2.0.0",
      "model_name": "CheckboxStyleModel",
      "state": {
       "description_width": ""
      }
     },
     "9f3473bc7ca447a7961f72d16d0a204e": {
      "model_module": "@jupyter-widgets/controls",
      "model_module_version": "2.0.0",
      "model_name": "CheckboxStyleModel",
      "state": {
       "description_width": ""
      }
     },
     "9f9cedd683c54709af0fb416409eef1c": {
      "model_module": "@jupyter-widgets/controls",
      "model_module_version": "2.0.0",
      "model_name": "VBoxModel",
      "state": {
       "layout": "IPY_MODEL_f78afd82299840b6b00cdb10713e66bb"
      }
     },
     "9fab1ccc2bc64e089126f2c9a9d0fbe7": {
      "model_module": "@jupyter-widgets/controls",
      "model_module_version": "2.0.0",
      "model_name": "TextStyleModel",
      "state": {
       "description_width": "initial",
       "font_size": null,
       "text_color": null
      }
     },
     "9fb12a10e76c4e8689481dfa4edd733e": {
      "model_module": "@jupyter-widgets/controls",
      "model_module_version": "2.0.0",
      "model_name": "VBoxModel",
      "state": {
       "children": [
        "IPY_MODEL_b0e755d9d3cb4f68906b737d57ace71f",
        "IPY_MODEL_b3336f1791e545ada00c2048269ae9fa",
        "IPY_MODEL_550830a9e7994da383a2f87e412e18ac",
        "IPY_MODEL_edc49ac0ba1e401eaac387adb03080e4",
        "IPY_MODEL_ab29538dca264f06b5efcd12ea2d9009",
        "IPY_MODEL_8b99725bb1494cf59284acc1fee5766c",
        "IPY_MODEL_5919a542346a405ab0670f2c7792d5c9",
        "IPY_MODEL_e88b625ee5ea45ac918fdbf07afa847c",
        "IPY_MODEL_d0792b0f2e80460b83e42e4669b49eea",
        "IPY_MODEL_e153632f37f64a21afeac0a29776ae83"
       ],
       "layout": "IPY_MODEL_61d13bb002674baaab953feed9d3ae7c"
      }
     },
     "9ffc023f13fc4f8098e3e428a2e72cf2": {
      "model_module": "@jupyter-widgets/controls",
      "model_module_version": "2.0.0",
      "model_name": "CheckboxModel",
      "state": {
       "_dom_classes": [
        "cofi-input-widget"
       ],
       "description": "Attempt Plate Solve",
       "disabled": false,
       "layout": "IPY_MODEL_7c0ab335ac724a538d9c0ff8800c5e55",
       "style": "IPY_MODEL_7ca1a88adbfb486e9d82c6a028dc9382",
       "value": false
      }
     },
     "a0128b09b29b449085232ef9ba5408c1": {
      "model_module": "@jupyter-widgets/controls",
      "model_module_version": "2.0.0",
      "model_name": "CheckboxModel",
      "state": {
       "_dom_classes": [
        "cofi-input-widget"
       ],
       "description": "Skyline Linear Fit",
       "disabled": false,
       "layout": "IPY_MODEL_ceaab49521c54f41b60491afd0653bc2",
       "style": "IPY_MODEL_6a5cfd3fe0a940f09160f0f394abcd38",
       "value": false
      }
     },
     "a035e341ffc54e9eaae1c1f260a03ba5": {
      "model_module": "@jupyter-widgets/base",
      "model_module_version": "2.0.0",
      "model_name": "LayoutModel",
      "state": {}
     },
     "a060b19deb5f4a6f93448c55873063b7": {
      "model_module": "@jupyter-widgets/controls",
      "model_module_version": "2.0.0",
      "model_name": "CheckboxModel",
      "state": {
       "_dom_classes": [
        "cofi-input-widget"
       ],
       "description": "ID Domain Plot",
       "disabled": false,
       "layout": "IPY_MODEL_278165b537fe4c87ac285f7d8ef9c507",
       "style": "IPY_MODEL_ea3c87b413f84c44a1cf14e11bfff738",
       "value": false
      }
     },
     "a093469bdd954c3eb321ce69e73d50f6": {
      "model_module": "@jupyter-widgets/controls",
      "model_module_version": "2.0.0",
      "model_name": "IntTextModel",
      "state": {
       "_dom_classes": [
        "cofi-input-widget"
       ],
       "description": "Fit Degree (FindSlits):",
       "layout": "IPY_MODEL_7f4b2c3255b14c19be06f4e030f36d02",
       "step": 1,
       "style": "IPY_MODEL_7e2608d4d1154720ac7119828ecdbcba",
       "value": 2
      }
     },
     "a0e42566d07d451a93c51ce89e0d9906": {
      "model_module": "@jupyter-widgets/controls",
      "model_module_version": "2.0.0",
      "model_name": "CheckboxStyleModel",
      "state": {
       "description_width": ""
      }
     },
     "a1474f352f914ab0b28595ff9cddc5d5": {
      "model_module": "@jupyter-widgets/controls",
      "model_module_version": "2.0.0",
      "model_name": "HTMLStyleModel",
      "state": {
       "description_width": "",
       "font_size": null,
       "text_color": null
      }
     },
     "a1732ed06a774a29899c4736869afa58": {
      "model_module": "@jupyter-widgets/base",
      "model_module_version": "2.0.0",
      "model_name": "LayoutModel",
      "state": {}
     },
     "a1b57ea6dd5d4c88bd2058dc4665ed44": {
      "model_module": "@jupyter-widgets/controls",
      "model_module_version": "2.0.0",
      "model_name": "CheckboxStyleModel",
      "state": {
       "description_width": ""
      }
     },
     "a1d653ec355e4a4294dfee4fc8c018a4": {
      "model_module": "@jupyter-widgets/controls",
      "model_module_version": "2.0.0",
      "model_name": "HBoxModel",
      "state": {
       "children": [
        "IPY_MODEL_9ee85bb974c44b929b210d40baf63c43",
        "IPY_MODEL_8d8fbe2e7b504b29905178418a2e0e7f",
        "IPY_MODEL_085387817a1a4fa9814d39f3042bdd57"
       ],
       "layout": "IPY_MODEL_50db38ecf5824e60aee50363528e6abc"
      }
     },
     "a20ec60f21dc456087532f92399615bf": {
      "model_module": "@jupyter-widgets/controls",
      "model_module_version": "2.0.0",
      "model_name": "VBoxModel",
      "state": {
       "children": [
        "IPY_MODEL_edb901f56c3140e98f9c53a7a0df3d88",
        "IPY_MODEL_db257334ec3a4bd49d9762cc58f2784f"
       ],
       "layout": "IPY_MODEL_887b701cb6eb423ca4d0f2f81ce0cf81"
      }
     },
     "a2a7d2d6e4cd4b5384651ba752623de1": {
      "model_module": "@jupyter-widgets/base",
      "model_module_version": "2.0.0",
      "model_name": "LayoutModel",
      "state": {
       "align_items": "center",
       "padding": "5px"
      }
     },
     "a2f73c55d5f04fe8a5f0e084a086d7ba": {
      "model_module": "@jupyter-widgets/controls",
      "model_module_version": "2.0.0",
      "model_name": "TextStyleModel",
      "state": {
       "description_width": "initial",
       "font_size": null,
       "text_color": null
      }
     },
     "a4865d1a037649ac9411a34bbca00682": {
      "model_module": "@jupyter-widgets/controls",
      "model_module_version": "2.0.0",
      "model_name": "HTMLModel",
      "state": {
       "layout": "IPY_MODEL_79d7733a591d4b4bb069fe9591ffbbb1",
       "style": "IPY_MODEL_679d82cc2398417a9700677a061affc8",
       "value": "<h3 class='sub-tab-title'>1D Spectral Extraction</h3>"
      }
     },
     "a5cd3dc996164c2ca1046cc2d9cd103b": {
      "model_module": "@jupyter-widgets/controls",
      "model_module_version": "2.0.0",
      "model_name": "CheckboxStyleModel",
      "state": {
       "description_width": ""
      }
     },
     "a629cde6ff314a92985b9d1bf1975f3d": {
      "model_module": "@jupyter-widgets/controls",
      "model_module_version": "2.0.0",
      "model_name": "CheckboxModel",
      "state": {
       "description": "Science Image Reduction",
       "disabled": false,
       "layout": "IPY_MODEL_75cc8c02ce314500ba4f0ace8b7be170",
       "style": "IPY_MODEL_5c1d7742a30b43ce91e8892dc3063483",
       "value": false
      }
     },
     "a6568612100d4e3ab402c3bcdadf3c34": {
      "model_module": "@jupyter-widgets/controls",
      "model_module_version": "2.0.0",
      "model_name": "CheckboxModel",
      "state": {
       "_dom_classes": [
        "cofi-input-widget"
       ],
       "description": "FindPeak Plot",
       "disabled": false,
       "layout": "IPY_MODEL_542fdc73f0e2459b926e41ba47907e34",
       "style": "IPY_MODEL_d6bd3ddd7a9c44ca8485c3aa96f01800",
       "value": false
      }
     },
     "a70d6581490d49a7b683b1828c5969b8": {
      "model_module": "@jupyter-widgets/controls",
      "model_module_version": "2.0.0",
      "model_name": "HTMLModel",
      "state": {
       "layout": "IPY_MODEL_2eb96f9a23f9436c92f7e61f725ac5b3",
       "style": "IPY_MODEL_ba18145666a34836b4057820183bda4c",
       "value": "<h4>Interactive Controls (from processor):</h4>"
      }
     },
     "a7102d84042f403085a0f4e4c078650f": {
      "model_module": "@jupyter-widgets/controls",
      "model_module_version": "2.0.0",
      "model_name": "HTMLStyleModel",
      "state": {
       "description_width": "",
       "font_size": null,
       "text_color": null
      }
     },
     "a73ffcd9890f45718aea83245c0ff2aa": {
      "model_module": "@jupyter-widgets/controls",
      "model_module_version": "2.0.0",
      "model_name": "CheckboxStyleModel",
      "state": {
       "description_width": ""
      }
     },
     "a83e5a0473a0468198303c07df591502": {
      "model_module": "@jupyter-widgets/controls",
      "model_module_version": "2.0.0",
      "model_name": "VBoxModel",
      "state": {
       "children": [
        "IPY_MODEL_5fe14bdd9f1942a28c032817258572bc",
        "IPY_MODEL_2ac746327d3643e1b4442cfbf1ba47a0",
        "IPY_MODEL_a1d653ec355e4a4294dfee4fc8c018a4"
       ],
       "layout": "IPY_MODEL_0597fd2a149d4edda0ad13ddcad57ece"
      }
     },
     "a8b3ff494e9947f2a3c76a51b8433976": {
      "model_module": "@jupyter-widgets/controls",
      "model_module_version": "2.0.0",
      "model_name": "IntTextModel",
      "state": {
       "_dom_classes": [
        "cofi-input-widget"
       ],
       "description": "Skyline rad for rows",
       "layout": "IPY_MODEL_7f4b2c3255b14c19be06f4e030f36d02",
       "step": 1,
       "style": "IPY_MODEL_b11093e603cc40d4a9bf34893cf40e5b",
       "value": 5
      }
     },
     "a93068a1a73e4c55a9b3796a4bc483d7": {
      "model_module": "@jupyter-widgets/base",
      "model_module_version": "2.0.0",
      "model_name": "LayoutModel",
      "state": {}
     },
     "a93164ff561d49edab79e2d2a4d3f1e5": {
      "model_module": "@jupyter-widgets/base",
      "model_module_version": "2.0.0",
      "model_name": "LayoutModel",
      "state": {
       "display": "none",
       "margin": "0 0 0 25px",
       "padding": "8px"
      }
     },
     "a9ef6461006e443d99ca2424062aa044": {
      "model_module": "@jupyter-widgets/base",
      "model_module_version": "2.0.0",
      "model_name": "LayoutModel",
      "state": {}
     },
     "aa23907822054d0d9795aecc94d801e1": {
      "model_module": "@jupyter-widgets/controls",
      "model_module_version": "2.0.0",
      "model_name": "HTMLModel",
      "state": {
       "layout": "IPY_MODEL_e06255f7c2c74ef3a7fb5a21117add49",
       "style": "IPY_MODEL_a7102d84042f403085a0f4e4c078650f",
       "value": "\n        <div class='help-section-text'>\n            <h5>Master Bias Creation</h5>\n            <p><b>What it is:</b> A Master Bias frame is created by combining multiple zero-second exposures (bias frames) to characterize and remove electronic readout noise or fixed-pattern noise from the CCD sensor.</p>\n            <p><b>GUI Interaction:</b> Enter the file numbers of your raw bias frames (e.g., <code>74,75,76,77,78</code>) into the \"Bias Frames:\" input field. Click the \"Compute Bias\" button.</p>\n        </div>\n        "
      }
     },
     "aa64e1d6c2a941438994aa89ee67a437": {
      "model_module": "@jupyter-widgets/base",
      "model_module_version": "2.0.0",
      "model_name": "LayoutModel",
      "state": {}
     },
     "ab29538dca264f06b5efcd12ea2d9009": {
      "model_module": "@jupyter-widgets/controls",
      "model_module_version": "2.0.0",
      "model_name": "IntTextModel",
      "state": {
       "_dom_classes": [
        "cofi-input-widget"
       ],
       "description": "Refit Degree (Full Slit):",
       "layout": "IPY_MODEL_7f4b2c3255b14c19be06f4e030f36d02",
       "step": 1,
       "style": "IPY_MODEL_bd694ce3158249e0b5bc9c1a77bac151",
       "value": 5
      }
     },
     "abf064b92fde484f9d16395739b52942": {
      "model_module": "@jupyter-widgets/controls",
      "model_module_version": "2.0.0",
      "model_name": "TextStyleModel",
      "state": {
       "description_width": "initial",
       "font_size": null,
       "text_color": null
      }
     },
     "ac13317d6b7d4a48ad0656a1fa4dfb35": {
      "model_module": "@jupyter-widgets/controls",
      "model_module_version": "2.0.0",
      "model_name": "HTMLStyleModel",
      "state": {
       "description_width": "",
       "font_size": null,
       "text_color": null
      }
     },
     "ad6959d716cc4c7c8a84a053a6dcfdb5": {
      "model_module": "@jupyter-widgets/base",
      "model_module_version": "2.0.0",
      "model_name": "LayoutModel",
      "state": {}
     },
     "ad95cca5636147afb3648908ca6e6123": {
      "model_module": "@jupyter-widgets/controls",
      "model_module_version": "2.0.0",
      "model_name": "CheckboxStyleModel",
      "state": {
       "description_width": ""
      }
     },
     "ae4fb2b1cd0f479492de2c8fe66e67fe": {
      "model_module": "@jupyter-widgets/controls",
      "model_module_version": "2.0.0",
      "model_name": "TabModel",
      "state": {
       "children": [
        "IPY_MODEL_5c8e5084fac34263a827126d7ecab007",
        "IPY_MODEL_b6df7412c23f4be79a6898aaa75c5da7",
        "IPY_MODEL_84e6aa2b4a784695a0ae06e987864cb2",
        "IPY_MODEL_2a640eb2c0044695a9bcb689e4de0212"
       ],
       "layout": "IPY_MODEL_f34467550fb9442d9aa9a8847eda8c5e",
       "selected_index": 0,
       "titles": [
        "Reduce",
        "Wave Cal",
        "2D Extract",
        "1D Extract"
       ]
      }
     },
     "aeabe2f7027f4635ad50cb412b507d59": {
      "model_module": "@jupyter-widgets/controls",
      "model_module_version": "2.0.0",
      "model_name": "CheckboxModel",
      "state": {
       "_dom_classes": [
        "cofi-input-widget"
       ],
       "description": "Apply bias",
       "disabled": false,
       "layout": "IPY_MODEL_2bda3ffcc4224d839518790aefdeb300",
       "style": "IPY_MODEL_69caa191962c4511af0952ebb7662cb8",
       "value": false
      }
     },
     "aebbfc915b824201963a75a02ae9f642": {
      "model_module": "@jupyter-widgets/base",
      "model_module_version": "2.0.0",
      "model_name": "LayoutModel",
      "state": {
       "display": "none",
       "margin": "0 0 0 25px",
       "padding": "8px"
      }
     },
     "aee31170f56045e48bdb2a0abce23026": {
      "model_module": "@jupyter-widgets/controls",
      "model_module_version": "2.0.0",
      "model_name": "DescriptionStyleModel",
      "state": {
       "description_width": "initial"
      }
     },
     "aee86d869e054855b6b49e9addb2ddf4": {
      "model_module": "@jupyter-widgets/controls",
      "model_module_version": "2.0.0",
      "model_name": "HTMLStyleModel",
      "state": {
       "description_width": "",
       "font_size": null,
       "text_color": null
      }
     },
     "af5f87731d094027877ff9710002506a": {
      "model_module": "@jupyter-widgets/base",
      "model_module_version": "2.0.0",
      "model_name": "LayoutModel",
      "state": {}
     },
     "afd3ff03975f44e696f2d9f75fcc99e3": {
      "model_module": "@jupyter-widgets/base",
      "model_module_version": "2.0.0",
      "model_name": "LayoutModel",
      "state": {}
     },
     "afd81d5035f9471886fc4583dd333f98": {
      "model_module": "@jupyter-widgets/controls",
      "model_module_version": "2.0.0",
      "model_name": "CheckboxModel",
      "state": {
       "_dom_classes": [
        "cofi-input-widget"
       ],
       "description": "Trim darks",
       "disabled": false,
       "layout": "IPY_MODEL_feba2478a7e4406c945f334640f28365",
       "style": "IPY_MODEL_6a5b8d31699346538b3787ea0717a802",
       "value": false
      }
     },
     "b008377d2955430099e7f68c4842fb0d": {
      "model_module": "@jupyter-widgets/controls",
      "model_module_version": "2.0.0",
      "model_name": "HTMLStyleModel",
      "state": {
       "description_width": "",
       "font_size": null,
       "text_color": null
      }
     },
     "b02b5221e584412eaeb5fed5fcd2fce6": {
      "model_module": "@jupyter-widgets/base",
      "model_module_version": "2.0.0",
      "model_name": "LayoutModel",
      "state": {
       "display": "none",
       "margin": "0 0 0 25px",
       "padding": "8px"
      }
     },
     "b054c11130fe49ad946be71458fe086d": {
      "model_module": "@jupyter-widgets/controls",
      "model_module_version": "2.0.0",
      "model_name": "TextStyleModel",
      "state": {
       "description_width": "initial",
       "font_size": null,
       "text_color": null
      }
     },
     "b06cfedfdb634345ae68093129fa6a1b": {
      "model_module": "@jupyter-widgets/controls",
      "model_module_version": "2.0.0",
      "model_name": "CheckboxStyleModel",
      "state": {
       "description_width": ""
      }
     },
     "b0bdce0fec4a43129734051150aa0cd0": {
      "model_module": "@jupyter-widgets/base",
      "model_module_version": "2.0.0",
      "model_name": "LayoutModel",
      "state": {
       "border_bottom": "1px solid #ccc",
       "border_left": "1px solid #ccc",
       "border_right": "1px solid #ccc",
       "border_top": "1px solid #ccc",
       "min_height": "auto",
       "padding": "10px"
      }
     },
     "b0e755d9d3cb4f68906b737d57ace71f": {
      "model_module": "@jupyter-widgets/controls",
      "model_module_version": "2.0.0",
      "model_name": "CheckboxModel",
      "state": {
       "_dom_classes": [
        "cofi-input-widget"
       ],
       "description": "Recalibrate (Clobber)",
       "disabled": false,
       "layout": "IPY_MODEL_31c5d49104d046f2bd3edba406343079",
       "style": "IPY_MODEL_8708015c3e484ad1bbedfb50a2aaafe9",
       "value": false
      }
     },
     "b0ecd8f93bad440eb5f10b1c3ca1adc8": {
      "model_module": "@jupyter-widgets/controls",
      "model_module_version": "2.0.0",
      "model_name": "VBoxModel",
      "state": {
       "children": [
        "IPY_MODEL_6205375cfbf543a0b7b53030507ac5e4",
        "IPY_MODEL_6307223fffe7429cb5d44eea583b4871"
       ],
       "layout": "IPY_MODEL_fe4999cd4c3b46c1aed939736cd5b449"
      }
     },
     "b11093e603cc40d4a9bf34893cf40e5b": {
      "model_module": "@jupyter-widgets/controls",
      "model_module_version": "2.0.0",
      "model_name": "DescriptionStyleModel",
      "state": {
       "description_width": "initial"
      }
     },
     "b14467cce0f74048b93ec6ab6b261c1c": {
      "model_module": "@jupyter-widgets/controls",
      "model_module_version": "2.0.0",
      "model_name": "HBoxModel",
      "state": {
       "children": [
        "IPY_MODEL_0eb02b6edfe847a98d037f4f7f8d5f72",
        "IPY_MODEL_46c78d9378a64539ae90dfe481549353",
        "IPY_MODEL_2fc17c4d6b76490f85b59616299eb9f1"
       ],
       "layout": "IPY_MODEL_87f68b259d4d434987a1ce54ee80c22f"
      }
     },
     "b22ead0c9c394a4e83dbc1ae7077de52": {
      "model_module": "@jupyter-widgets/base",
      "model_module_version": "2.0.0",
      "model_name": "LayoutModel",
      "state": {
       "display": "none",
       "margin": "0 0 0 25px",
       "padding": "8px"
      }
     },
     "b328286a598145c0bb5cc6fc7448feee": {
      "model_module": "@jupyter-widgets/controls",
      "model_module_version": "2.0.0",
      "model_name": "VBoxModel",
      "state": {
       "children": [
        "IPY_MODEL_f576c6adf04e4221857751725d2b4663",
        "IPY_MODEL_63c8e88399434f90915a1415632d5ec3"
       ],
       "layout": "IPY_MODEL_469e6e5672f5423da1cb2369fd14fe75"
      }
     },
     "b3336f1791e545ada00c2048269ae9fa": {
      "model_module": "@jupyter-widgets/controls",
      "model_module_version": "2.0.0",
      "model_name": "TextModel",
      "state": {
       "_dom_classes": [
        "cofi-input-widget"
       ],
       "description": "Lamp Spec File (ref):",
       "layout": "IPY_MODEL_7f4b2c3255b14c19be06f4e030f36d02",
       "style": "IPY_MODEL_eed9584e45c34a19ac38a46c9684a37d",
       "value": "KOSMOS/KOSMOS_red_waves.fits"
      }
     },
     "b399f0a560c541ea8ce6e5269ec7c0a2": {
      "model_module": "@jupyter-widgets/controls",
      "model_module_version": "2.0.0",
      "model_name": "CheckboxModel",
      "state": {
       "description": "Target Selection / Filtering",
       "disabled": false,
       "layout": "IPY_MODEL_caa543933ee74f4882e66297245201b6",
       "style": "IPY_MODEL_ad95cca5636147afb3648908ca6e6123",
       "value": false
      }
     },
     "b4199c0e7e894f81992d2bfc66e679dc": {
      "model_module": "@jupyter-widgets/base",
      "model_module_version": "2.0.0",
      "model_name": "LayoutModel",
      "state": {}
     },
     "b47cd611ba0e44e4825215a74a6a4880": {
      "model_module": "@jupyter-widgets/base",
      "model_module_version": "2.0.0",
      "model_name": "LayoutModel",
      "state": {}
     },
     "b490962f00d5440097c2d134bd8f8251": {
      "model_module": "@jupyter-widgets/controls",
      "model_module_version": "2.0.0",
      "model_name": "TextStyleModel",
      "state": {
       "description_width": "initial",
       "font_size": null,
       "text_color": null
      }
     },
     "b4f6ec87f8304791865a06b51d91508e": {
      "model_module": "@jupyter-widgets/controls",
      "model_module_version": "2.0.0",
      "model_name": "TextStyleModel",
      "state": {
       "description_width": "initial",
       "font_size": null,
       "text_color": null
      }
     },
     "b58034128a7f4e36bce07e6a4886bc35": {
      "model_module": "@jupyter-widgets/controls",
      "model_module_version": "2.0.0",
      "model_name": "ButtonModel",
      "state": {
       "_dom_classes": [
        "custom-button",
        "run-button"
       ],
       "description": "Compute Dark",
       "icon": "cogs",
       "layout": "IPY_MODEL_7f4b2c3255b14c19be06f4e030f36d02",
       "style": "IPY_MODEL_8a0eaa12ed9346bfba93b2f4f7234267",
       "tooltip": null
      }
     },
     "b58059173de2433d9ea8cf196e350e76": {
      "model_module": "@jupyter-widgets/base",
      "model_module_version": "2.0.0",
      "model_name": "LayoutModel",
      "state": {}
     },
     "b6303f24c4e94a6fa8b297ffbedc4124": {
      "model_module": "@jupyter-widgets/controls",
      "model_module_version": "2.0.0",
      "model_name": "HTMLModel",
      "state": {
       "layout": "IPY_MODEL_767893af0be3437eb1e08b357f1506f7",
       "style": "IPY_MODEL_c81c283eed6a4effb15cfad7e359d5b0",
       "value": "<hr>"
      }
     },
     "b677b15aa7a4465997914dbca6fd473d": {
      "model_module": "@jupyter-widgets/controls",
      "model_module_version": "2.0.0",
      "model_name": "TextModel",
      "state": {
       "_dom_classes": [
        "cofi-input-widget"
       ],
       "description": "Trace Channel:",
       "layout": "IPY_MODEL_7f4b2c3255b14c19be06f4e030f36d02",
       "placeholder": "Optional",
       "style": "IPY_MODEL_89de25b1fa6c4a8b936582f4d3b14268"
      }
     },
     "b6df7412c23f4be79a6898aaa75c5da7": {
      "model_module": "@jupyter-widgets/controls",
      "model_module_version": "2.0.0",
      "model_name": "VBoxModel",
      "state": {
       "children": [
        "IPY_MODEL_df864b37a05d49caafd7ec5045126f3a",
        "IPY_MODEL_9fb12a10e76c4e8689481dfa4edd733e",
        "IPY_MODEL_5e02d72e7e7349429c70c171d7d33122",
        "IPY_MODEL_4a070064d3d546969fc8979cd01d5c89"
       ],
       "layout": "IPY_MODEL_bf2c4760eddf4c638173211b381efe12"
      }
     },
     "b6fd7688dc99466b83ecfb90ce8ee4a3": {
      "model_module": "@jupyter-widgets/base",
      "model_module_version": "2.0.0",
      "model_name": "LayoutModel",
      "state": {}
     },
     "b7757c0c90a34af4b6842ebf229f265f": {
      "model_module": "@jupyter-widgets/base",
      "model_module_version": "2.0.0",
      "model_name": "LayoutModel",
      "state": {}
     },
     "b834f027a411441a885353704b4f7d32": {
      "model_module": "@jupyter-widgets/controls",
      "model_module_version": "2.0.0",
      "model_name": "TextStyleModel",
      "state": {
       "description_width": "initial",
       "font_size": null,
       "text_color": null
      }
     },
     "b8ddc6e9d97547d9ac90a0d7acc582e0": {
      "model_module": "@jupyter-widgets/controls",
      "model_module_version": "2.0.0",
      "model_name": "TextStyleModel",
      "state": {
       "description_width": "initial",
       "font_size": null,
       "text_color": null
      }
     },
     "b9f149023e9640e2bb3b62762babbf48": {
      "model_module": "@jupyter-widgets/base",
      "model_module_version": "2.0.0",
      "model_name": "LayoutModel",
      "state": {}
     },
     "ba18145666a34836b4057820183bda4c": {
      "model_module": "@jupyter-widgets/controls",
      "model_module_version": "2.0.0",
      "model_name": "HTMLStyleModel",
      "state": {
       "description_width": "",
       "font_size": null,
       "text_color": null
      }
     },
     "ba32d34ca8e0449995c8b7f0815de6fa": {
      "model_module": "@jupyter-widgets/controls",
      "model_module_version": "2.0.0",
      "model_name": "IntTextModel",
      "state": {
       "_dom_classes": [
        "cofi-input-widget"
       ],
       "description": "FindPeak Diff:",
       "layout": "IPY_MODEL_7f4b2c3255b14c19be06f4e030f36d02",
       "step": 1,
       "style": "IPY_MODEL_f3c2c47960cf46fbb48fd3bbbd56f2e3",
       "value": 10000
      }
     },
     "ba5dad5ee4eb48c8a582932ed50546e2": {
      "model_module": "@jupyter-widgets/controls",
      "model_module_version": "2.0.0",
      "model_name": "CheckboxModel",
      "state": {
       "_dom_classes": [
        "cofi-input-widget"
       ],
       "description": "Skyline plot",
       "disabled": false,
       "layout": "IPY_MODEL_2389c7129ea8482088bafbb61a029c43",
       "style": "IPY_MODEL_90e6f89045da4280ada48942435b27eb",
       "value": true
      }
     },
     "babe9aa4f19f402781374f3117758dd5": {
      "model_module": "@jupyter-widgets/controls",
      "model_module_version": "2.0.0",
      "model_name": "CheckboxModel",
      "state": {
       "_dom_classes": [
        "cofi-input-widget"
       ],
       "description": "Apply Calibrations (Bias/Dark/Flat)",
       "disabled": false,
       "layout": "IPY_MODEL_7f4b2c3255b14c19be06f4e030f36d02",
       "style": "IPY_MODEL_e0796777838a45669e05b93a513f19d5",
       "value": false
      }
     },
     "baf03338560f4f9790e0ee28f9e37a14": {
      "model_module": "@jupyter-widgets/controls",
      "model_module_version": "2.0.0",
      "model_name": "FloatTextModel",
      "state": {
       "_dom_classes": [
        "cofi-input-widget"
       ],
       "description": "FindPeak Thresh:",
       "layout": "IPY_MODEL_7f4b2c3255b14c19be06f4e030f36d02",
       "step": null,
       "style": "IPY_MODEL_c4d1bee3f861463ea86a36d81441c04e",
       "value": 50
      }
     },
     "bbac2a47091c4d0fb40814506c40b839": {
      "model_module": "@jupyter-widgets/controls",
      "model_module_version": "2.0.0",
      "model_name": "CheckboxStyleModel",
      "state": {
       "description_width": ""
      }
     },
     "bd694ce3158249e0b5bc9c1a77bac151": {
      "model_module": "@jupyter-widgets/controls",
      "model_module_version": "2.0.0",
      "model_name": "DescriptionStyleModel",
      "state": {
       "description_width": "initial"
      }
     },
     "be32095b4ce3477f8311248a5968c242": {
      "model_module": "@jupyter-widgets/base",
      "model_module_version": "2.0.0",
      "model_name": "LayoutModel",
      "state": {}
     },
     "be55744252e14d1a9396de61b8ebe2ee": {
      "model_module": "@jupyter-widgets/controls",
      "model_module_version": "2.0.0",
      "model_name": "HTMLStyleModel",
      "state": {
       "description_width": "",
       "font_size": null,
       "text_color": null
      }
     },
     "be636e8e2d734865b7d2fd8ab2f83785": {
      "model_module": "@jupyter-widgets/controls",
      "model_module_version": "2.0.0",
      "model_name": "CheckboxModel",
      "state": {
       "_dom_classes": [
        "cofi-input-widget"
       ],
       "description": "Skyline Linear Fit",
       "disabled": false,
       "layout": "IPY_MODEL_7249d17541a0408498cc5a3c0aa51384",
       "style": "IPY_MODEL_ca550456f85c4ec9bfbe90d23b2b38fb",
       "value": false
      }
     },
     "bf07ca6aa8f0413e8adac07905c34ab3": {
      "model_module": "@jupyter-widgets/controls",
      "model_module_version": "2.0.0",
      "model_name": "TextModel",
      "state": {
       "_dom_classes": [
        "cofi-input-widget"
       ],
       "description": "Dark Frames:",
       "layout": "IPY_MODEL_7f4b2c3255b14c19be06f4e030f36d02",
       "placeholder": "e.g., 94,95,96",
       "style": "IPY_MODEL_5f83523685e14e8992a1589640fdb24e",
       "value": "17,18"
      }
     },
     "bf2c4760eddf4c638173211b381efe12": {
      "model_module": "@jupyter-widgets/base",
      "model_module_version": "2.0.0",
      "model_name": "LayoutModel",
      "state": {}
     },
     "c05200854b194fd3be872d733c0dd77e": {
      "model_module": "@jupyter-widgets/controls",
      "model_module_version": "2.0.0",
      "model_name": "VBoxModel",
      "state": {
       "layout": "IPY_MODEL_a2a7d2d6e4cd4b5384651ba752623de1"
      }
     },
     "c0618e8f3f8a44deba91dc6624d48221": {
      "model_module": "@jupyter-widgets/controls",
      "model_module_version": "2.0.0",
      "model_name": "IntTextModel",
      "state": {
       "_dom_classes": [
        "cofi-input-widget"
       ],
       "description": "FindPeak Bundle:",
       "layout": "IPY_MODEL_7f4b2c3255b14c19be06f4e030f36d02",
       "step": 1,
       "style": "IPY_MODEL_6b1df84a7afd488a9151258c6257e56c",
       "value": 10000
      }
     },
     "c1d5535d83894c318ef0198306146948": {
      "model_module": "@jupyter-widgets/controls",
      "model_module_version": "2.0.0",
      "model_name": "HTMLModel",
      "state": {
       "layout": "IPY_MODEL_400fe0821a0342be8288f91dfbbe4cf6",
       "style": "IPY_MODEL_f2ae5b9ce37e472bb6fec9e4bb5d53b1",
       "value": "\n        <div class='help-section-text'>\n            <h4>Purpose:</h4>\n            <p>This tab handles the crucial steps of identifying where the slits fall on the detector, associating them with target information from a slit mask design file (KMS file), allowing the user to select a subset of these targets for processing, and preparing the arc frames for wavelength calibration by embedding slit position data into their headers.</p>\n            <h4>General Workflow & GUI Elements for this Tab:</h4>\n            <p>It's generally recommended to perform the actions in this tab in the order presented by the buttons, from left to right or top to bottom as they appear, after providing the necessary inputs.</p>\n            <ol>\n                <li><b>Provide Inputs:</b>\n                    <ul>\n                        <li><b>Slit Finding Flat (text input):</b> Enter the file number of a single, well-exposed flat-field image. The illumination in this flat should clearly show the edges of all slitlets cut into the mask. Example: <code>21</code> (referring to <code>Flat_SEG3G2.0021.fits</code>).</li>\n                        <li><b>KMS file (text input):</b> Enter the full path to your KOSMOS Slit Mask (<code>.kms</code>) file. This file contains the design specifications for your slit mask, including slit IDs, target names, and their X/Y positions (XMM/YMM) on the mask focal plane. Example: <code>kms/Copy of kosmos.23.seg3g2.kms</code>.</li>\n                    </ul>\n                </li>\n                <li><b>Click \"Find Slits\" button:</b> This initiates slit identification and KMS file reading.</li>\n                <li><b>Click \"Filter Slits\" button:</b> (Optional but common) This allows selection of specific targets/slits if you don't want to process all of them.</li>\n                <li><b>Click \"Update xmm and ymm\" button:</b> This prepares the master arc frames for wavelength calibration by adding positional information.</li>\n            </ol>\n            <p>Detailed explanations for these operations are in the expandable sections below.</p>\n            <p><b>Parameter Area (Output box within this tab):</b> Some operations, like \"Filter Slits\", will display their own interactive controls (dropdowns, text boxes, buttons) within this area when activated.</p>\n            <p><b>Main Output Area:</b> General messages, tables of targets, and errors from this tab will appear in the main output area below all tabs.</p>\n        </div>\n        "
      }
     },
     "c2283d8b5ff74da79d3735c7ebf18189": {
      "model_module": "@jupyter-widgets/controls",
      "model_module_version": "2.0.0",
      "model_name": "TextModel",
      "state": {
       "_dom_classes": [
        "cofi-input-widget"
       ],
       "description": "Trace File:",
       "layout": "IPY_MODEL_7f4b2c3255b14c19be06f4e030f36d02",
       "placeholder": "Optional",
       "style": "IPY_MODEL_05989af932da4cf8a5a9a22dea9f6211"
      }
     },
     "c2832746c91e40c2b3e9dfd5028c0803": {
      "model_module": "@jupyter-widgets/controls",
      "model_module_version": "2.0.0",
      "model_name": "HTMLModel",
      "state": {
       "layout": "IPY_MODEL_eede5d2c6dec4d919e4de640bd4af6e8",
       "style": "IPY_MODEL_136069defbca4c2381db292185711796",
       "value": "\n<style>\n:root {\n    --jp-widgets-font-family: 'Montserrat', sans-serif;\n    --cofi-primary-color: #007acc;\n    --cofi-secondary-color: #005a99;\n    --cofi-accent-color: #00a8ff;\n    --cofi-text-color: #000000;\n    --cofi-bg-color: #ffffff;\n    --cofi-bg-color-2: #f0f0f0;\n    --cofi-border-color: #e0e0e0;\n    --cofi-button-text-color: #ffffff;\n    --cofi-error-color: #ff4d4d;\n}\n\n[data-jp-theme-light=\"false\"] {\n    --cofi-primary-color: #00a8ff;\n    --cofi-secondary-color: #007acc;\n    --cofi-accent-color: #00c8ff;\n    --cofi-text-color: #e0e0e0;\n    --cofi-bg-color: #1e1e1e;\n    --cofi-bg-color-2: #2a2a2a;\n    --cofi-border-color: #3c3c3c;\n    --cofi-button-text-color: #ffffff;\n}\n\n@import url('https://fonts.googleapis.com/css2?family=Montserrat:wght@300;400;500;700&family=Roboto:wght@300;400;700&display=swap');\n\n.cofi-main-title {\n    text-align:center;\n    font-family: 'Montserrat', sans-serif;\n    font-weight: 700;\n    font-size: 2.3em;\n    margin: 15px 0 20px 0;\n    color: var(--cofi-primary-color);\n}\n\n.widget-tab > .p-TabBar .p-TabBar-tab {\n    background: var(--cofi-bg-color-2);\n    color: var(--cofi-text-color);\n    border: 2px solid var(--cofi-border-color);\n    border-bottom: none;\n    padding: 10px 20px;\n    font-family: 'Montserrat', sans-serif;\n    font-weight: 500;\n    border-radius: 8px 8px 0 0;\n    transition: background 0.3s ease, color 0.3s ease;\n    z-index: 2;\n}\n\n.widget-tab > .p-TabBar .p-TabBar-tab:hover {\n    background: var(--cofi-secondary-color);\n    color: var(--cofi-button-text-color);\n}\n\n.widget-tab > .p-TabBar .p-TabBar-tab.p-mod-current {\n    background: var(--cofi-primary-color);\n    color: var(--cofi-button-text-color);\n    border-color: var(--cofi-primary-color);\n}\n\n.widget-tab > .widget-tab-contents {\n    background: var(--cofi-bg-color);\n    border: 1px solid var(--cofi-primary-color);\n    border-radius: 0 8px 8px 8px;\n    padding: 20px;\n    /*min-height: 300px;*/\n    min-height: auto;\n}\n\n.sub-tab-title {\n    font-size: 2.0em;\n    font-weight: 560;\n    margin: 0 0 15px 0;\n    font-family: 'Montserrat', sans-serif;\n    color: var(--cofi-secondary-color);\n    border-bottom: 2px solid var(--cofi-border-color);\n    padding-bottom: 8px;\n}\n\n.custom-button {\n    background-color: var(--cofi-primary-color);\n    color: var(--cofi-button-text-color);\n    border: none;\n    border-radius: 5px;\n    padding: none;\n    font-family: 'Montserrat', sans-serif;\n    font-size: 14px;\n    font-weight: 500;\n    cursor: pointer;\n    width: auto;\n    transition: background-color 0.3s ease, transform 0.1s ease;\n    /* Flexbox for perfect centering */\n    display: flex;\n    align-items: center;\n    justify-content: center;\n}\n.custom-button:hover { box-shadow: 0 5px 12px rgba(46, 204, 113, 0.4); \n    background-color: var(--cofi-secondary-color);\n    transform: translateY(-2px);\n}\n.custom-button.run-button { /* For main action buttons */\n    font-weight: bold;\n    padding: 10px 20px; /* Make run buttons slightly larger */\n}\n.custom-button.extraction-2d, .custom-button.extraction-1d,\n.custom-button.yes, .custom-button.no { /* From processor styling */\n      color: white !important; /* Ensure text is white on gradient buttons */\n}\n\n/* FIX: This selector now correctly targets the input/select elements\n   within any widget that has the '.cofi-input-widget' class applied to it. */\n.cofi-input-widget input, .cofi-input-widget select {\n    background-color: var(--cofi-bg-color-2); /*--cofi-bg-color-2*/\n    border: 4px solid var(--cofi-border-color); /*--cofi-border-color)*/\n    border-radius: 5px;\n    color: var(--cofi-text-color);\n    font-family: 'Roboto', sans-serif;\n    font-size: 14px;\n    /*box-sizing: border-box; Important: includes padding in the total width */\n    /*width: 100%;*/\n    /*min-width: auto; Ensure a decent default width */\n    margin: 3px; /*Add some margin */\n    /*Text-align: center;*/\n    border-bottom: none;\n    /* --- Add these lines for vertical centering --- */\n    height: auto;  /* Set a fixed height */\n    padding: 0 0px;\n\n}\n\n/* FIX: This selector targets the focus state for the corrected rule above. */\n.cofi-input-widget input:focus, .cofi-input-widget select:focus {\n    border-color: var(--cofi-primary-color);\n    box-shadow: 0 0 5px var(--cofi-accent-color);\n    outline: none;\n}\n\n\n/* Ensure labels for ALL ipywidgets are themed and fully visible */\n.widget-label, .widget-checkbox > label {\n    color: var(--cofi-text-color);\n    font-family: 'Roboto', sans-serif;\n    font-size: 14px;\n    margin-right: 8px;\n    /* NEW: Force the label to take up as much space as it needs */\n    width: max-content !important;\n    min-width: max-content !important; /* Be at least as wide as the text */\n    flex-shrink: 0;\n    white-space: nowrap;\n}\n\n\n.custom-output-area, .interactive-processor-area {\n    background-color: var(--cofi-bg-color-2);\n    border: 1px solid var(--cofi-border-color);\n    border-radius: 8px;\n    padding: 15px;\n    margin-top: 10px;\n    min-height: auto;\n    max-height: auto;\n    overflow-y: auto;\n    color: var(--cofi-text-color);\n    font-family: 'Menlo', 'Consolas', 'Courier New', monospace;\n    line-height: 1.6;\n}\n.interactive-processor-area { /* For areas where processor places its UI */\n    min-height: auto; /* Ensure space for controls */\n    font-family: 'Roboto', sans-serif; /* Match other UI text */\n    margin-bottom:10px; /* Space below processor UI areas */\n    border-color: var(--cofi-accent-color); /* Highlight these areas */\n}\n\n\n.cofi-guide-container {\n    padding: 10px;\n    /* This rule ensures text color is correctly inherited in dark mode */\n    color: var(--cofi-text-color); \n}\n.cofi-guide-container h2 {\n    font-size: 1.9em !important;\n    color: #00a8ff !important;\n    border-bottom: 1px solid #3498db !important;\n    padding-bottom: 8px !important;\n    text-align: left !important;\n}\n.cofi-guide-container .widget-checkbox label {\n    font-size: 1.3em !important;\n    font-family: 'Montserrat', sans-serif !important;\n    font-weight: 500 !important;\n    /* Use the theme's text color for better dark/light mode compatibility */\n    color: var(--cofi-text-color) !important;\n    opacity: 0.9;\n}\n.cofi-guide-container .widget-vbox {\n    margin: 8px 0 15px 25px !important;\n    padding: 12px 18px !important;\n    border-left: 4px solid #00a8ff !important;\n    /* Use a semi-transparent version of the theme's secondary background color */\n    background-color: rgba(128, 128, 128, 0.1) !important;\n    border-radius: 0 8px 8px 0;\n    box-shadow: 2px 2px 5px rgba(0,0,0,0.1);\n}\n\n/* FIX: Increased specificity by prepending .cofi-guide-container */\n.cofi-guide-container .help-section-text h4 {\n    color: var(--cofi-secondary-color);\n    font-family: 'Montserrat', sans-serif;\n    margin-top: 12px;\n    margin-bottom: 6px;\n    font-size: 1.9em;\n}\n\n/* FIX: Added missing closing brace and increased specificity */\n.cofi-guide-container .help-section-text h5 {\n    color: var(--cofi-secondary-color);\n    font-family: 'Montserrat', sans-serif;\n    margin-top: 12px;\n    margin-bottom: 6px;\n    font-size: 1.9em;\n}\n\n/* FIX: Increased font size and specificity */\n.cofi-guide-container .help-section-text p, \n.cofi-guide-container .help-section-text li {\n    /* Use the main text color from the theme variables */\n    color: var(--cofi-text-color); \n    font-family: 'Roboto', sans-serif;\n    line-height: 1.65;\n    /* MODIFIED: Increased font size for readability. Adjust as needed. */\n    font-size: 20px;\n}\n\n/* FIX: Increased specificity */\n.cofi-guide-container .help-section-text code {\n    padding: 3px 6px;\n    border-radius: 5px;\n    background-color: var(--cofi-bg-color-2);\n    border: 1px solid var(--cofi-border-color);\n    color: var(--cofi-accent-color);\n    font-family: 'Menlo', 'Consolas', monospace;\n    font-size: 0.95em; /* Slightly smaller than parent text for inline code */\n}\n\n/* FIX: Increased specificity */\n.cofi-guide-container .help-section-text strong {\n    color: var(--cofi-primary-color);\n    font-weight: bold;\n}\n\n/* FIX: Increased specificity */\n.cofi-guide-container .help-section-text ul {\n    padding-left: 22px;\n    list-style-type: disc;\n}\n\n/* FIX: Increased specificity */\n.cofi-guide-container .help-section-text hr {\n    border: 1px solid var(--cofi-border-color);\n    margin: 25px 0;\n}\n\n</style>\n"
      }
     },
     "c29b76bc79a742cc849c60c9d694cc9c": {
      "model_module": "@jupyter-widgets/base",
      "model_module_version": "2.0.0",
      "model_name": "LayoutModel",
      "state": {}
     },
     "c2b8c8c973374bb58d54d6b3e3d9f704": {
      "model_module": "@jupyter-widgets/controls",
      "model_module_version": "2.0.0",
      "model_name": "VBoxModel",
      "state": {
       "layout": "IPY_MODEL_7bfe2207fdd44431b98ab55f60c37182"
      }
     },
     "c2e88d963e6e40c6aedc26275cbe58d0": {
      "model_module": "@jupyter-widgets/controls",
      "model_module_version": "2.0.0",
      "model_name": "VBoxModel",
      "state": {
       "children": [
        "IPY_MODEL_d2387455584e41649885aeea95f1df83"
       ],
       "layout": "IPY_MODEL_798f0592c5dd4e7292c9f1e2af4e6e21"
      }
     },
     "c360332037c046cd96c5a1b14553f220": {
      "model_module": "@jupyter-widgets/output",
      "model_module_version": "1.0.0",
      "model_name": "OutputModel",
      "state": {
       "_dom_classes": [
        "interactive-processor-area"
       ],
       "layout": "IPY_MODEL_0b824eef53ba415b9dc9f2714d49044b"
      }
     },
     "c3b4206e475e44d8aab3e8d7ce78e9f0": {
      "model_module": "@jupyter-widgets/controls",
      "model_module_version": "2.0.0",
      "model_name": "TextStyleModel",
      "state": {
       "description_width": "initial",
       "font_size": null,
       "text_color": null
      }
     },
     "c44108c7f43b4e848ccffac32ec697b6": {
      "model_module": "@jupyter-widgets/controls",
      "model_module_version": "2.0.0",
      "model_name": "HTMLStyleModel",
      "state": {
       "description_width": "",
       "font_size": null,
       "text_color": null
      }
     },
     "c445acce96f9406bb389a8f2188b9a32": {
      "model_module": "@jupyter-widgets/controls",
      "model_module_version": "2.0.0",
      "model_name": "HTMLModel",
      "state": {
       "layout": "IPY_MODEL_ebfd5c08436e45dd886a97f86d4ea1a4",
       "style": "IPY_MODEL_499bc573092e4c0c8bb58b460acc80da",
       "value": "\n        <div class='help-section-text'>\n            <h5>Wavelength Calibration</h5>\n            <p><b>What it is:</b> This critical process determines the precise mathematical relationship (wavelength solution) between pixel positions along the dispersion axis on the CCD and the actual physical wavelength of light for each slit. It uses the previously prepared 2D arc lamp spectra (<code>self.arcec</code>) which have XMM/YMM information in their headers.</p>\n            <p><b>GUI Actions:</b> In Tab 5, after completing Tab 4 (especially \"Update xmm and ymm\"), click the \"Wavelength calibration\" button.</p>\n            <p><b>Details & Process (simplified from the loop <code>for i,(arc,targ) in enumerate(zip(arcec,targets)):</code>):</b>\n            <br/>The widget calls <code>processor.calibrate_wavelength(self.arcec, self.targets, clobber=None)</code>. Inside <code>calibrate_wavelength</code>:\n            <ol>\n                <li>For each 2D arc spectrum (<code>arc</code> from <code>self.arcec</code>) and its target info (<code>targ</code>):\n                    <ul>\n                        <li>A filename for the solution is defined: <code>wavname = 'CofIwav_{:s}.fits'.format(targ['ID'])</code>.</li>\n                        <li>If <code>clobber=True</code> (or the file doesn't exist, or <code>clobber=None</code> and the widget's parameter for clobber is True), the calibration proceeds:\n                            <ul>\n                                <li>Initialize WaveCal object: <code>wav=spectra.WaveCal(lamp_spec_file)</code> (e.g., <code>'KOSMOS/KOSMOS_red_waves.fits'</code> as default from <code>paramwidget1</code>, which is a reference spectrum).</li>\n                                <li>Fit to reference: <code>wav.fit(degree=fit_degree)</code> (e.g., <code>degree=3</code>).</li>\n                                <li>Estimate initial pixel shift: <code>shift = int(arc.header['XMM'] * shift_multiplier)</code> (e.g., <code>shift_multiplier=-22.5</code> from <code>paramwidget1</code>). This uses the XMM value from the arc's header.</li>\n                                <li>Define initial lag range for cross-correlation: <code>lags_initial = np.arange(shift - lags_offset, shift + lags_offset)</code> (e.g., <code>lags_offset=50</code>).</li>\n                                <li><b>Iterative Line Identification (1D):</b> A <code>while</code> loop calls <code>wav.identify(arc[nrow//2], plot=plot_first_identify, plotinter=plot_inter_identify, lags=lags_initial, thresh=identify_thresh, file=lamp_file_for_identify)</code>. This is for the central row of the 2D arc.\n                                    <ul><li><code>plot=True/plotinter=True</code> (defaults from <code>paramwidget1</code>) enables interactive plots where the user can verify and adjust line identifications against a lamp line list (e.g., <code>'new_wave_lamp/old_neon_red_center.dat'</code>).</li>\n                                    <li><code>thresh</code> (e.g., 10) is for peak detection. Lags are adjusted after the first attempt.</li>\n                                    </ul>\n                                </li>\n                                <li><b>Refine and Fit 2D Solution:</b> After interactive 1D identification, weak lines might be checked. The polynomial degree for the full 2D fit is set: <code>wav.degree = wave_fit_degree_after_identify</code> (e.g., 5). Then, <code>wav.identify(arc, plot=plot_first_identify, nskip=nrow//10, thresh=identify_thresh)</code> performs the 2D wavelength solution across the slit, sampling at multiple spatial positions (<code>nskip=nrow//10</code>).</li>\n                                <li>Save solution: <code>wav.write(wavname)</code> saves the polynomial coefficients to the <code>CofIwav_TARGETID.fits</code> file.</li>\n                                <li>Verify: <code>wav.add_wave(arc)</code> applies the solution to the arc, and <code>self.display.tv(wav.correct(arc, ...))</code> can show the wavelength-rectified arc if display is on.</li>\n                            </ul>\n                        </li>\n                    </ul>\n                </li>\n            </ol>\n            </p>\n            <p><b>Parameters:</b> Many parameters (fit degrees, thresholds, lamp files, clobber option, plot toggles) are configurable via \"Tab 6: Parameters\" in the \"Customize Calibrate Wavelength Parameters\" section. The defaults are generally taken from the KOSMOS notebook procedures or <code>paramwidget1.py</code>.</p>\n        </div>\n        "
      }
     },
     "c4d1bee3f861463ea86a36d81441c04e": {
      "model_module": "@jupyter-widgets/controls",
      "model_module_version": "2.0.0",
      "model_name": "DescriptionStyleModel",
      "state": {
       "description_width": "initial"
      }
     },
     "c5f3e93df6f24c5bb931ea3985239e80": {
      "model_module": "@jupyter-widgets/controls",
      "model_module_version": "2.0.0",
      "model_name": "CheckboxStyleModel",
      "state": {
       "description_width": ""
      }
     },
     "c674dfc5175044bca90dadd2b8abf3f7": {
      "model_module": "@jupyter-widgets/controls",
      "model_module_version": "2.0.0",
      "model_name": "CheckboxModel",
      "state": {
       "_dom_classes": [
        "cofi-input-widget"
       ],
       "description": "Use Old Extraction",
       "disabled": false,
       "layout": "IPY_MODEL_3b6c9a32402f46859558d91c25d94065",
       "style": "IPY_MODEL_9bed1d3c1343457eb3945094e8ec0e19",
       "value": false
      }
     },
     "c6b409552f9342768c2d456d35661323": {
      "model_module": "@jupyter-widgets/controls",
      "model_module_version": "2.0.0",
      "model_name": "FloatTextModel",
      "state": {
       "_dom_classes": [
        "cofi-input-widget"
       ],
       "description": "CR Object Limit (lacosmic):",
       "layout": "IPY_MODEL_7f4b2c3255b14c19be06f4e030f36d02",
       "step": null,
       "style": "IPY_MODEL_55c101eab8534677b831beae215a2e6b",
       "value": 5
      }
     },
     "c75de9acdac8425c9eaabd40ccb0c01e": {
      "model_module": "@jupyter-widgets/base",
      "model_module_version": "2.0.0",
      "model_name": "LayoutModel",
      "state": {}
     },
     "c7fc5ac7ea534b589dbabeefe2391d64": {
      "model_module": "@jupyter-widgets/controls",
      "model_module_version": "2.0.0",
      "model_name": "CheckboxModel",
      "state": {
       "description": "1D Spectral Extraction",
       "disabled": false,
       "layout": "IPY_MODEL_2edf75f2cba540bda9e0ec9b095ae3d5",
       "style": "IPY_MODEL_89156a482e534279a2db09e89e29518e",
       "value": false
      }
     },
     "c81c283eed6a4effb15cfad7e359d5b0": {
      "model_module": "@jupyter-widgets/controls",
      "model_module_version": "2.0.0",
      "model_name": "HTMLStyleModel",
      "state": {
       "description_width": "",
       "font_size": null,
       "text_color": null
      }
     },
     "c875764534e74d269d10e7f6d0236aa3": {
      "model_module": "@jupyter-widgets/controls",
      "model_module_version": "2.0.0",
      "model_name": "TextStyleModel",
      "state": {
       "description_width": "initial",
       "font_size": null,
       "text_color": null
      }
     },
     "c88e623987a24ccc9deaf4fec74e559a": {
      "model_module": "@jupyter-widgets/controls",
      "model_module_version": "2.0.0",
      "model_name": "TextStyleModel",
      "state": {
       "description_width": "initial",
       "font_size": null,
       "text_color": null
      }
     },
     "c8dfad1c443841c385b1090f1acc373a": {
      "model_module": "@jupyter-widgets/controls",
      "model_module_version": "2.0.0",
      "model_name": "HTMLModel",
      "state": {
       "layout": "IPY_MODEL_5faeb5e077c74c0f93f75ebcdd81e269",
       "style": "IPY_MODEL_be55744252e14d1a9396de61b8ebe2ee",
       "value": "\n        <div class='help-section-text'>\n            <h4>Purpose:</h4>\n            <p>This tab is for specifying the directory containing your raw FITS image files (bias, dark, flat, arc, science frames).</p>\n            <h4>GUI Elements & Actions:</h4>\n            <ul>\n                <li><b>Folder name (text input):</b> Enter the path to the directory where your FITS files are stored.\n                    <br/><em>Example: <code>UT230909</code> or <code>Star_JH-21Y252</code>. Ensure this path is correct for your system.</em></li>\n                <li><b>Read folder (button):</b> After entering the path, click this button.\n                    <ul>\n                        <li><b>Action:</b> Initializes the <code>pyvista.imred.Reducer</code> object, configured for KOSMOS data, pointing to your specified directory.</em></li>\n                        <li><b>Output:</b> Reads and logs all FITS files in that directory. A summary table of the files (filename, object, exposure time, etc.) will appear in the main output area below the tabs.</em></li>\n                    </ul>\n                </li>\n            </ul>\n            <h4>Output Area:</h4>\n            <p>Messages from this tab, including any errors during folder reading or the log of FITS files, will be displayed in the main output area at the bottom of the widget (below all tabs).</p>\n        </div>\n        "
      }
     },
     "c93a4c45152a446286d6f83ca12df88c": {
      "model_module": "@jupyter-widgets/controls",
      "model_module_version": "2.0.0",
      "model_name": "TextStyleModel",
      "state": {
       "description_width": "initial",
       "font_size": null,
       "text_color": null
      }
     },
     "c9b792b748414bb3a9557eb7e4b15457": {
      "model_module": "@jupyter-widgets/controls",
      "model_module_version": "2.0.0",
      "model_name": "CheckboxStyleModel",
      "state": {
       "description_width": ""
      }
     },
     "c9d5b348a1534f7e8502bdedb4296e2b": {
      "model_module": "@jupyter-widgets/base",
      "model_module_version": "2.0.0",
      "model_name": "LayoutModel",
      "state": {}
     },
     "c9f3ce57d2fe414699386f80d41db79b": {
      "model_module": "@jupyter-widgets/controls",
      "model_module_version": "2.0.0",
      "model_name": "TextStyleModel",
      "state": {
       "description_width": "initial",
       "font_size": null,
       "text_color": null
      }
     },
     "ca18a4ff4e4b4d77b860779c5a7edf8a": {
      "model_module": "@jupyter-widgets/base",
      "model_module_version": "2.0.0",
      "model_name": "LayoutModel",
      "state": {}
     },
     "ca550456f85c4ec9bfbe90d23b2b38fb": {
      "model_module": "@jupyter-widgets/controls",
      "model_module_version": "2.0.0",
      "model_name": "CheckboxStyleModel",
      "state": {
       "description_width": ""
      }
     },
     "ca7e0e81a4b846848db61fdc229b6306": {
      "model_module": "@jupyter-widgets/controls",
      "model_module_version": "2.0.0",
      "model_name": "IntTextModel",
      "state": {
       "_dom_classes": [
        "cofi-input-widget"
       ],
       "description": "ext:",
       "layout": "IPY_MODEL_7f4b2c3255b14c19be06f4e030f36d02",
       "step": 1,
       "style": "IPY_MODEL_d924840540274a2191c9e27dd2eb2631"
      }
     },
     "caa543933ee74f4882e66297245201b6": {
      "model_module": "@jupyter-widgets/base",
      "model_module_version": "2.0.0",
      "model_name": "LayoutModel",
      "state": {
       "margin": "0 0 0 20px"
      }
     },
     "cae6959160ed465f9eb23f257812c9b4": {
      "model_module": "@jupyter-widgets/controls",
      "model_module_version": "2.0.0",
      "model_name": "TextStyleModel",
      "state": {
       "description_width": "initial",
       "font_size": null,
       "text_color": null
      }
     },
     "cb1153ea98c9476497549dd5c4a04fd5": {
      "model_module": "@jupyter-widgets/controls",
      "model_module_version": "2.0.0",
      "model_name": "DescriptionStyleModel",
      "state": {
       "description_width": "initial"
      }
     },
     "cb821809bff54172b9d34836c593401b": {
      "model_module": "@jupyter-widgets/controls",
      "model_module_version": "2.0.0",
      "model_name": "HTMLModel",
      "state": {
       "layout": "IPY_MODEL_b7757c0c90a34af4b6842ebf229f265f",
       "style": "IPY_MODEL_50192243dfac4445a14bb56fc693aba1",
       "value": "<h3 class='sub-tab-title'>Reduce Science Frame</h3>"
      }
     },
     "cbe3c3329cb443f69857fdc09cf0245b": {
      "model_module": "@jupyter-widgets/base",
      "model_module_version": "2.0.0",
      "model_name": "LayoutModel",
      "state": {}
     },
     "cc97e3f2ca1d42b3aa4f497114bc76fa": {
      "model_module": "@jupyter-widgets/base",
      "model_module_version": "2.0.0",
      "model_name": "LayoutModel",
      "state": {}
     },
     "cc99743ac0df4ea29a035e5079caa73b": {
      "model_module": "@jupyter-widgets/controls",
      "model_module_version": "2.0.0",
      "model_name": "CheckboxModel",
      "state": {
       "_dom_classes": [
        "cofi-input-widget"
       ],
       "description": "Trim image after calibration",
       "disabled": false,
       "layout": "IPY_MODEL_6d73eb82f07f41f892de05a2595abfd3",
       "style": "IPY_MODEL_3e4c9a70d72245cbb530aa4a99043242",
       "value": true
      }
     },
     "cd5617f68356413dbbcadbce3551ffb1": {
      "model_module": "@jupyter-widgets/controls",
      "model_module_version": "2.0.0",
      "model_name": "HTMLStyleModel",
      "state": {
       "description_width": "",
       "font_size": null,
       "text_color": null
      }
     },
     "ce10dd8488974daea6527055b87bbabd": {
      "model_module": "@jupyter-widgets/controls",
      "model_module_version": "2.0.0",
      "model_name": "HTMLModel",
      "state": {
       "layout": "IPY_MODEL_08de4a9269214cc387d421d83b7c3eea",
       "style": "IPY_MODEL_119d23f715414bf094330aa5b6ca4511",
       "value": "\n        <div class='help-section-text'>\n            <h4>Purpose:</h4>\n            <p>This tab is dedicated to creating the master calibration frames: Master Bias, Master Dark, Master Flat, and Master Arc(s). These are essential for correcting instrumental effects in your science data.</p>\n            <h4>General Workflow for this Tab:</h4>\n            <p>For each type of calibration frame (Bias, Dark, Flat, Arc):</p>\n            <ol>\n                <li>Locate the \"Frames\" text input field for that type (e.g., \"Bias Frames:\").</li>\n                <li>Enter a comma-separated list of file numbers corresponding to the raw frames of that type. These file numbers are typically the sequence numbers seen in the filenames (e.g., if you have <code>Bias.0074.fits</code>, <code>Bias.0075.fits</code>, you'd enter <code>74,75</code>). Or enter a comma-separated name of the files, if your numbering is not that good.</li>\n                <li>Click the associated \"Compute\" button (e.g., \"Compute Bias\").</li>\n                <li><b>Output:</b> The master frame will be computed. A confirmation message (or error) will appear in the main output area below the tabs. If the TV display is enabled (<code>display_enabled=True</code> at widget initialization), the resulting master frame will be shown in the PyVista TV window.</li>\n            </ol>\n            <p>Detailed explanations for creating each specific master frame type are provided in the expandable sections below.</p>\n        </div>\n        "
      }
     },
     "cea6ca951b254618af29cd45da8480bd": {
      "model_module": "@jupyter-widgets/controls",
      "model_module_version": "2.0.0",
      "model_name": "TextStyleModel",
      "state": {
       "description_width": "initial",
       "font_size": null,
       "text_color": null
      }
     },
     "ceaab49521c54f41b60491afd0653bc2": {
      "model_module": "@jupyter-widgets/base",
      "model_module_version": "2.0.0",
      "model_name": "LayoutModel",
      "state": {}
     },
     "ceac46f7494d4912bff23a9c169ffdcb": {
      "model_module": "@jupyter-widgets/controls",
      "model_module_version": "2.0.0",
      "model_name": "VBoxModel",
      "state": {
       "children": [
        "IPY_MODEL_329980c51dfd44c6aa0a5a9b74469007",
        "IPY_MODEL_a83e5a0473a0468198303c07df591502"
       ],
       "layout": "IPY_MODEL_565bfbc3e6cf498c8e7d036449465858"
      }
     },
     "cf0db4209cc949a3895961aa4299129e": {
      "model_module": "@jupyter-widgets/base",
      "model_module_version": "2.0.0",
      "model_name": "LayoutModel",
      "state": {}
     },
     "cf59194923aa4da58289b7863a666a6d": {
      "model_module": "@jupyter-widgets/controls",
      "model_module_version": "2.0.0",
      "model_name": "TextModel",
      "state": {
       "_dom_classes": [
        "cofi-input-widget"
       ],
       "description": "ID Orders (e.g., 1,2):",
       "layout": "IPY_MODEL_7f4b2c3255b14c19be06f4e030f36d02",
       "placeholder": "Optional",
       "style": "IPY_MODEL_d8e37a25409e488097e91de86e6ac79a",
       "value": "None"
      }
     },
     "cff28489ac5b4c729bab4ad1b81a354c": {
      "model_module": "@jupyter-widgets/controls",
      "model_module_version": "2.0.0",
      "model_name": "ButtonStyleModel",
      "state": {
       "font_family": null,
       "font_size": null,
       "font_style": null,
       "font_variant": null,
       "font_weight": null,
       "text_color": null,
       "text_decoration": null
      }
     },
     "d003265b1e664a0a836d6b1bf204b7b4": {
      "model_module": "@jupyter-widgets/controls",
      "model_module_version": "2.0.0",
      "model_name": "TextStyleModel",
      "state": {
       "description_width": "initial",
       "font_size": null,
       "text_color": null
      }
     },
     "d02b4b57bd7a45669087fa1dbaa25ca7": {
      "model_module": "@jupyter-widgets/controls",
      "model_module_version": "2.0.0",
      "model_name": "TextStyleModel",
      "state": {
       "description_width": "initial",
       "font_size": null,
       "text_color": null
      }
     },
     "d063b2dcdfae4be6875fab944634c6d2": {
      "model_module": "@jupyter-widgets/controls",
      "model_module_version": "2.0.0",
      "model_name": "HTMLModel",
      "state": {
       "layout": "IPY_MODEL_f5d457674e044de0a036d5ccba1b11c7",
       "style": "IPY_MODEL_75bc57a5a1234068af7e8e8e7a928561",
       "value": "<h3 class='sub-tab-title'>Compute Master Bias</h3>"
      }
     },
     "d0792b0f2e80460b83e42e4669b49eea": {
      "model_module": "@jupyter-widgets/controls",
      "model_module_version": "2.0.0",
      "model_name": "FloatTextModel",
      "state": {
       "_dom_classes": [
        "cofi-input-widget"
       ],
       "description": "ID Thresh (peaks):",
       "layout": "IPY_MODEL_7f4b2c3255b14c19be06f4e030f36d02",
       "step": null,
       "style": "IPY_MODEL_61b2bcf2419e4f7da8787531e053f2c0",
       "value": 10
      }
     },
     "d0a1698825da4d5c8ed34d86135847be": {
      "model_module": "@jupyter-widgets/controls",
      "model_module_version": "2.0.0",
      "model_name": "HTMLModel",
      "state": {
       "layout": "IPY_MODEL_0cf5b6f2df5c42ada3d8e095e2205560",
       "style": "IPY_MODEL_51bfe7511a5a4d3c88efbd62eb7cc526",
       "value": "<h3 class='sub-tab-title'>Compute Master Dark</h3>"
      }
     },
     "d0d62a1c7a444c74945d3bf4ae6d6870": {
      "model_module": "@jupyter-widgets/controls",
      "model_module_version": "2.0.0",
      "model_name": "TextModel",
      "state": {
       "_dom_classes": [
        "cofi-input-widget"
       ],
       "description": "FindPeak Method:",
       "layout": "IPY_MODEL_7f4b2c3255b14c19be06f4e030f36d02",
       "style": "IPY_MODEL_602d22efd6ee460eb7052233435664b5",
       "value": "linear"
      }
     },
     "d1acdd838c344c28b11c773af5000042": {
      "model_module": "@jupyter-widgets/controls",
      "model_module_version": "2.0.0",
      "model_name": "HTMLStyleModel",
      "state": {
       "description_width": "",
       "font_size": null,
       "text_color": null
      }
     },
     "d1c2b4ef565547cc86933bc78bce6449": {
      "model_module": "@jupyter-widgets/controls",
      "model_module_version": "2.0.0",
      "model_name": "ButtonModel",
      "state": {
       "_dom_classes": [
        "custom-button"
       ],
       "description": "Apply Settings from Log",
       "icon": "upload",
       "layout": "IPY_MODEL_7f4b2c3255b14c19be06f4e030f36d02",
       "style": "IPY_MODEL_73b1542c94f04d1790518ff85f263bb8",
       "tooltip": null
      }
     },
     "d1f41b8ab35e44db80f65d07d9ac1a31": {
      "model_module": "@jupyter-widgets/controls",
      "model_module_version": "2.0.0",
      "model_name": "DescriptionStyleModel",
      "state": {
       "description_width": "initial"
      }
     },
     "d2387455584e41649885aeea95f1df83": {
      "model_module": "@jupyter-widgets/controls",
      "model_module_version": "2.0.0",
      "model_name": "HTMLModel",
      "state": {
       "layout": "IPY_MODEL_64b842b9b5c04a2e9d2db31981e3772b",
       "style": "IPY_MODEL_b008377d2955430099e7f68c4842fb0d",
       "value": "\n        <div class='help-section-text'>\n            <h5>1D Spectral Extraction</h5>\n            <p><b>What it is:</b> This is the final step to obtain a 1D spectrum (flux versus wavelength) for each target. It involves tracing the object along the slit in the 2D extracted spectrum, defining sky regions, summing the object flux, and subtracting the sky background.</p>\n            <p><b>GUI Actions:</b> In Tab 5, after \"Extract Spectrum 2D\" is complete (so <code>self.spec2d_out</code> is populated), click the \"Extract Spectrum 1D\" button.</p>\n            <p><b>Details & Process:</b>\n            <br/>The widget calls <code>processor.multi_extract1d(self.spec2d_out, targets=self.targets, ...)</code> which is based on the <code>multi_extract1d</code> function in the KOSMOS notebook: <code>spec1d = multi_extract1d(out)</code>.\n            <br/>Inside <code>processor.multi_extract1d</code>:\n            <ol>\n                <li><b>Interactive UI in <code>param_area</code> of Tab 5:</b> Controls appear:\n                    <ul>\n                        <li>\"1D Calibration choice\" dropdown ('No sky adjustment', 'Sky adjustment').</li>\n                        <li>\"Extraction radius:\" dropdown (e.g., 3-15 pixels).</li>\n                        <li>\"Run Extraction\" button.</li>\n                    </ul>\n                </li>\n                <li>When \"Run Extraction\" is clicked:\n                    <ul>\n                        <li>For each 2D spectrum (<code>spec2d_slice</code> from <code>self.spec2d_out</code>) and its target (<code>targ</code>):\n                            <ul>\n                                <li>Initialize trace: <code>trace_obj = spectra.Trace(...)</code> (parameters like <code>_degree</code>, <code>_sigdegree</code> from <code>paramwidget1</code>).</li>\n                                <li>Find object peak: <code>peak, _ = trace_obj.findpeak(spec2d_slice, thresh=_thresh, ..., method=_method)</code> (parameters from <code>paramwidget1</code>). If no peak, skips.</li>\n                                <li>Trace object: <code>trace_obj.trace(spec2d_slice, [peak[0]], skip=_skip, gaussian=True, ...)</code>.</li>\n                                <li><b>Interactive Extraction Loop (UI in <code>param_area_1</code>):</b>\n                                    <ul>\n                                        <li>Extract with current radius: <code>rad = radius_dropdown.value</code>. Sky regions (<code>back_regions</code>) are defined relative to <code>rad</code> (e.g., <code>[[ -10 + (-1 * sky_width), -rad], [10 + sky_width, rad]]</code> where <code>sky_width = rad - 5</code>).\n                                        <br/><code>spec1d = trace_obj.extract(spec2d_slice, rad=rad, back=back_regions, display=self.display)</code>.</li>\n                                        <li>Assign wavelength: <code>spec1d.wave = spec2d_slice.wave[peak]</code>.</li>\n                                        <li>Confirmation UI: \"Are you satisfied with the extraction?\" with \"Yes\"/\"No\" buttons appears in <code>param_area_1</code>.\n                                            <ul>\n                                                <li>If \"Yes\":\n                                                    <ul>\n                                                        <li>If \"Sky adjustment\" was chosen via dropdown: <code>wavcal = spectra.WaveCal(...)</code>, then <code>swav.skyline(spec1d, thresh=_thresh_sky, linear=_linear, file=_file, plot=_plot)</code> performs 1D sky line recalibration (params from <code>paramwidget1</code>).</li>\n                                                        <li>Save 1D spectrum: <code>spec1d.write(filename, overwrite=True)</code>. Filename includes prefix like '1d_ad' or '2d_ad' and radius.</li>\n                                                        <li>Plot 1D spectrum and sky.</li>\n                                                        <li>Spectrum added to <code>extracted_1d_spectra</code> list. Proceeds to next target.</li>\n                                                    </ul>\n                                                </li>\n                                                <li>If \"No\": Prints \"Repeating extraction...\", user can change radius in dropdown and the extraction for this slit repeats.</li>\n                                            </ul>\n                                        </li>\n                                    </ul>\n                                </li>\n                            </ul>\n                        </li>\n                    </ul>\n                </li>\n            </ol>\n            </p>\n            <p><b>Widget State:</b> The list of final 1D spectra is stored as <code>self.spec1d_out</code>.\n            <br/><b>Parameters:</b> Many parameters for <code>findpeak</code>, <code>trace</code>, <code>extract</code>, and <code>skyline</code> (thresholds, degrees, skip values, methods, sky line file, plot toggle) are configurable via \"Tab 6: Parameters\" under \"Customize Multi Extract 1D Parameters\".</p>\n        </div>\n        "
      }
     },
     "d2b1a6d7911e4762b7cffbdff174932c": {
      "model_module": "@jupyter-widgets/controls",
      "model_module_version": "2.0.0",
      "model_name": "DescriptionStyleModel",
      "state": {
       "description_width": "initial"
      }
     },
     "d2b35b45161b47f89e6332cf83149fea": {
      "model_module": "@jupyter-widgets/controls",
      "model_module_version": "2.0.0",
      "model_name": "TextModel",
      "state": {
       "_dom_classes": [
        "cofi-input-widget"
       ],
       "description": "Log file name:",
       "layout": "IPY_MODEL_7f4b2c3255b14c19be06f4e030f36d02",
       "placeholder": "e.g., M5real.0008",
       "style": "IPY_MODEL_2cc21251637a477facdab4f53c8789d6"
      }
     },
     "d2ec989486c44dedaa0390f43e61c5e8": {
      "model_module": "@jupyter-widgets/base",
      "model_module_version": "2.0.0",
      "model_name": "LayoutModel",
      "state": {}
     },
     "d32097f6bc5c436eb68cddce2880eadf": {
      "model_module": "@jupyter-widgets/controls",
      "model_module_version": "2.0.0",
      "model_name": "TextModel",
      "state": {
       "_dom_classes": [
        "cofi-input-widget"
       ],
       "description": "Trace Model:",
       "layout": "IPY_MODEL_7f4b2c3255b14c19be06f4e030f36d02",
       "placeholder": "Optional",
       "style": "IPY_MODEL_6abf2856ddc248ca85d5fb056dc767e1",
       "value": "None"
      }
     },
     "d324023383ea4e7f8f917e5b2bc77b5e": {
      "model_module": "@jupyter-widgets/controls",
      "model_module_version": "2.0.0",
      "model_name": "CheckboxStyleModel",
      "state": {
       "description_width": ""
      }
     },
     "d51463cf8fdc4c91963942ca41a5e44c": {
      "model_module": "@jupyter-widgets/controls",
      "model_module_version": "2.0.0",
      "model_name": "VBoxModel",
      "state": {
       "children": [
        "IPY_MODEL_0d923014003540d4aed471ad86018fd7",
        "IPY_MODEL_1655f114ac4042e7a4c4e4736038608a",
        "IPY_MODEL_58b74ded828243f7b4c6f8df7d92aa33",
        "IPY_MODEL_47b0b6bcb96d4f36a1c271e1a6176306",
        "IPY_MODEL_9ffc023f13fc4f8098e3e428a2e72cf2",
        "IPY_MODEL_207596da159b4db7979a267404980c2a",
        "IPY_MODEL_ea0b71344bf84ea1b756a397a47dfde7",
        "IPY_MODEL_9f11502106df478e8637149a3739c4f3",
        "IPY_MODEL_cc99743ac0df4ea29a035e5079caa73b",
        "IPY_MODEL_8c8860552e4949ad9ee93b2f987260df",
        "IPY_MODEL_ca7e0e81a4b846848db61fdc229b6306",
        "IPY_MODEL_9e4669f94dc5429eaa1ddbb414df5364"
       ],
       "layout": "IPY_MODEL_aa64e1d6c2a941438994aa89ee67a437"
      }
     },
     "d536b98ec23d41a084477b26c26c0ac1": {
      "model_module": "@jupyter-widgets/controls",
      "model_module_version": "2.0.0",
      "model_name": "TextModel",
      "state": {
       "_dom_classes": [
        "cofi-input-widget"
       ],
       "description": "Trace sc0:",
       "layout": "IPY_MODEL_7f4b2c3255b14c19be06f4e030f36d02",
       "placeholder": "Optional",
       "style": "IPY_MODEL_46c4d15fbe3345df98c9411b8b076f28"
      }
     },
     "d5ae975d2766412f9c7348b2bb6888d2": {
      "model_module": "@jupyter-widgets/controls",
      "model_module_version": "2.0.0",
      "model_name": "DescriptionStyleModel",
      "state": {
       "description_width": "initial"
      }
     },
     "d65c669d42e74356a975936246a9215f": {
      "model_module": "@jupyter-widgets/controls",
      "model_module_version": "2.0.0",
      "model_name": "TextStyleModel",
      "state": {
       "description_width": "initial",
       "font_size": null,
       "text_color": null
      }
     },
     "d6bd3ddd7a9c44ca8485c3aa96f01800": {
      "model_module": "@jupyter-widgets/controls",
      "model_module_version": "2.0.0",
      "model_name": "CheckboxStyleModel",
      "state": {
       "description_width": ""
      }
     },
     "d6d320b1d7ac4878a188713e13c3f6e3": {
      "model_module": "@jupyter-widgets/controls",
      "model_module_version": "2.0.0",
      "model_name": "FloatTextModel",
      "state": {
       "_dom_classes": [
        "cofi-input-widget"
       ],
       "description": "Edge Threshold (FindSlits):",
       "layout": "IPY_MODEL_7f4b2c3255b14c19be06f4e030f36d02",
       "step": null,
       "style": "IPY_MODEL_f1882de6330c454ba513f9a333bbb8e4",
       "value": 2
      }
     },
     "d73f99ec864148629a8c3aa7caec01db": {
      "model_module": "@jupyter-widgets/controls",
      "model_module_version": "2.0.0",
      "model_name": "IntTextModel",
      "state": {
       "_dom_classes": [
        "cofi-input-widget"
       ],
       "description": "FindPeak Back %:",
       "layout": "IPY_MODEL_7f4b2c3255b14c19be06f4e030f36d02",
       "step": 1,
       "style": "IPY_MODEL_aee31170f56045e48bdb2a0abce23026",
       "value": 15
      }
     },
     "d754d7c930b54734ad3d0c7c8c0cb248": {
      "model_module": "@jupyter-widgets/controls",
      "model_module_version": "2.0.0",
      "model_name": "DescriptionStyleModel",
      "state": {
       "description_width": "initial"
      }
     },
     "d76ac1850d2c4a629b1d5bd0fdedae1e": {
      "model_module": "@jupyter-widgets/controls",
      "model_module_version": "2.0.0",
      "model_name": "TabModel",
      "state": {
       "children": [
        "IPY_MODEL_215f0a1949964cdc8f5c228b3693ee65",
        "IPY_MODEL_3d78e6f044874facbd0693d3e8055e14",
        "IPY_MODEL_5636547d01684517b75dba66a4de1d00",
        "IPY_MODEL_15aae58e53a944b6a0371f88dc14d1a3",
        "IPY_MODEL_ae4fb2b1cd0f479492de2c8fe66e67fe"
       ],
       "layout": "IPY_MODEL_a9ef6461006e443d99ca2424062aa044",
       "selected_index": 1,
       "titles": [
        "📖 User Guide",
        "📁 Data Input",
        "⚙️ Calibration",
        "🔎 Slits & Targets",
        "🔬 Science & Extract"
       ]
      }
     },
     "d8e37a25409e488097e91de86e6ac79a": {
      "model_module": "@jupyter-widgets/controls",
      "model_module_version": "2.0.0",
      "model_name": "TextStyleModel",
      "state": {
       "description_width": "initial",
       "font_size": null,
       "text_color": null
      }
     },
     "d924840540274a2191c9e27dd2eb2631": {
      "model_module": "@jupyter-widgets/controls",
      "model_module_version": "2.0.0",
      "model_name": "DescriptionStyleModel",
      "state": {
       "description_width": "initial"
      }
     },
     "d929f422cb034a299dcacc1871eb63dd": {
      "model_module": "@jupyter-widgets/base",
      "model_module_version": "2.0.0",
      "model_name": "LayoutModel",
      "state": {
       "margin": "0 0 0 20px"
      }
     },
     "d995013d53354b07a470a5a5f06bbd6c": {
      "model_module": "@jupyter-widgets/controls",
      "model_module_version": "2.0.0",
      "model_name": "IntTextModel",
      "state": {
       "_dom_classes": [
        "cofi-input-widget"
       ],
       "description": "Window Width:",
       "layout": "IPY_MODEL_7f4b2c3255b14c19be06f4e030f36d02",
       "step": 1,
       "style": "IPY_MODEL_d1f41b8ab35e44db80f65d07d9ac1a31",
       "value": 101
      }
     },
     "d99b66f57c884ebebff67cd62b115b8b": {
      "model_module": "@jupyter-widgets/base",
      "model_module_version": "2.0.0",
      "model_name": "LayoutModel",
      "state": {}
     },
     "d9ff36f4b018413d814b19c9dec22e20": {
      "model_module": "@jupyter-widgets/base",
      "model_module_version": "2.0.0",
      "model_name": "LayoutModel",
      "state": {}
     },
     "db257334ec3a4bd49d9762cc58f2784f": {
      "model_module": "@jupyter-widgets/controls",
      "model_module_version": "2.0.0",
      "model_name": "VBoxModel",
      "state": {
       "children": [
        "IPY_MODEL_222b971423624813a84a98db38563ba1",
        "IPY_MODEL_49e0c09aba734c5da9d7f32b2a9a227e",
        "IPY_MODEL_d6d320b1d7ac4878a188713e13c3f6e3",
        "IPY_MODEL_f1be85852889419898ef475da91aa954",
        "IPY_MODEL_f0866c45f2cb415391a62132b0fce449",
        "IPY_MODEL_18087c08f5ce4a0995545a09764b250f"
       ],
       "layout": "IPY_MODEL_3da0c286e37244999642e035a47060cd"
      }
     },
     "db48cd16fde543c2806cb73b578644e1": {
      "model_module": "@jupyter-widgets/controls",
      "model_module_version": "2.0.0",
      "model_name": "ButtonStyleModel",
      "state": {
       "font_family": null,
       "font_size": null,
       "font_style": null,
       "font_variant": null,
       "font_weight": null,
       "text_color": null,
       "text_decoration": null
      }
     },
     "db59e69148654806baab67492e4b52fa": {
      "model_module": "@jupyter-widgets/controls",
      "model_module_version": "2.0.0",
      "model_name": "HTMLModel",
      "state": {
       "layout": "IPY_MODEL_670f9830620b4e58872b34be126723d2",
       "style": "IPY_MODEL_e8302d2fb61f4dbdaae5f2cad327df7b",
       "value": "\n        <div class='help-section-text'>\n            <h5>Arc Header Update (XMM/YMM)</h5>\n            <p><b>What it is:</b> This step prepares the master arc lamp spectra for detailed wavelength calibration. It extracts 2D spectral cutouts from the master arc frame for each selected slit and, crucially, embeds the slit's designed XMM and YMM coordinates (from the KMS file) into the FITS header of each cutout. These coordinates help provide an accurate initial guess for the wavelength shift in the subsequent calibration step.</p>\n            <p><b>GUI Actions:</b> After slits are found (and optionally filtered), and a master arc frame has been computed (Tab 1), click the \"Update xmm and ymm\" button in Tab 4.</p>\n            <p><b>Details & Process:</b>\n            <br/>1. Extract 2D arc spectra: <code>arcec=trace.extract2d(arcs,display=t)</code>. This uses the current <code>trace</code> object (which defines slit locations and shapes, possibly filtered) to cut out the corresponding regions from the master arc frame (<code>self.arcs_frame</code>). The result <code>arcec</code> is a list of 2D <code>CCDData</code> objects, one for each slit.\n            <br/>2. Update headers: <code>for arc,target in zip(arcec,targets) : arc.header['XMM'] = target['XMM']; arc.header['YMM'] = target['YMM']</code>. This loop iterates through the extracted 2D arc spectra (<code>arcec</code>) and the corresponding entries in the (possibly filtered) <code>targets</code> table. It takes the 'XMM' and 'YMM' values for each target and writes them into the FITS header of the associated 2D arc spectrum.\n            </p>\n            <p><b>Widget State:</b> The list of these header-updated 2D arc spectra is stored internally in the widget as <code>self.arcec</code>. This <code>self.arcec</code> is then used as input for the \"Wavelength calibration\" process in Tab 3. A confirmation \"Arc headers updated...\" is shown in the main output area.</p>\n        </div>\n        "
      }
     },
     "db61de6d9bc747519b899c61bd0adebe": {
      "model_module": "@jupyter-widgets/base",
      "model_module_version": "2.0.0",
      "model_name": "LayoutModel",
      "state": {}
     },
     "dbf12f67147e4fcfa89bebe2bd82da5c": {
      "model_module": "@jupyter-widgets/controls",
      "model_module_version": "2.0.0",
      "model_name": "TextStyleModel",
      "state": {
       "description_width": "initial",
       "font_size": null,
       "text_color": null
      }
     },
     "dc00778c46034d3eaa85612aa66b1e3c": {
      "model_module": "@jupyter-widgets/base",
      "model_module_version": "2.0.0",
      "model_name": "LayoutModel",
      "state": {}
     },
     "dc757ba95f6a476d846e3489ac48a249": {
      "model_module": "@jupyter-widgets/controls",
      "model_module_version": "2.0.0",
      "model_name": "VBoxModel",
      "state": {
       "children": [
        "IPY_MODEL_6a0bd02c707747cf950fb83a2eecbffb",
        "IPY_MODEL_08100e13a177450ea5290b78299638cb",
        "IPY_MODEL_dfaf9ef8d2784ad5a716a2a4ca1ada24",
        "IPY_MODEL_d995013d53354b07a470a5a5f06bbd6c",
        "IPY_MODEL_fe67a5baf64f44bfa7dfb02b88d6d7b7",
        "IPY_MODEL_41e0e3a0899049d8baeb55b61f94fcc1",
        "IPY_MODEL_aeabe2f7027f4635ad50cb412b507d59",
        "IPY_MODEL_0db5f5c2b9584ef5a098257f68792a8d",
        "IPY_MODEL_33871d9556a342f092e8c3a54a0ec88d",
        "IPY_MODEL_23343a98bb7649dc8b880928ab722199",
        "IPY_MODEL_58203fa26e134469bc4c251701403733"
       ],
       "layout": "IPY_MODEL_186f4c18b8ec42df8746128bb1c54f93"
      }
     },
     "dc79ceeeabed4af3a43c7653700a90c6": {
      "model_module": "@jupyter-widgets/base",
      "model_module_version": "2.0.0",
      "model_name": "LayoutModel",
      "state": {}
     },
     "dcd9ae6272b240f8b50da8b67cf8b3eb": {
      "model_module": "@jupyter-widgets/controls",
      "model_module_version": "2.0.0",
      "model_name": "HTMLStyleModel",
      "state": {
       "description_width": "",
       "font_size": null,
       "text_color": null
      }
     },
     "dd4af341e2c34daa877d628bc90b7971": {
      "model_module": "@jupyter-widgets/controls",
      "model_module_version": "2.0.0",
      "model_name": "TextModel",
      "state": {
       "_dom_classes": [
        "cofi-input-widget"
       ],
       "description": "Skyline File:",
       "layout": "IPY_MODEL_7f4b2c3255b14c19be06f4e030f36d02",
       "style": "IPY_MODEL_c3b4206e475e44d8aab3e8d7ce78e9f0",
       "value": "skyline.dat"
      }
     },
     "dd5355ef116f47f2b1275d64277d5d83": {
      "model_module": "@jupyter-widgets/controls",
      "model_module_version": "2.0.0",
      "model_name": "TextStyleModel",
      "state": {
       "description_width": "",
       "font_size": null,
       "text_color": null
      }
     },
     "dd871b65bc1846908e9e155a371eabe9": {
      "model_module": "@jupyter-widgets/controls",
      "model_module_version": "2.0.0",
      "model_name": "TextStyleModel",
      "state": {
       "description_width": "initial",
       "font_size": null,
       "text_color": null
      }
     },
     "df21755575d2402db013ccc300aa2b47": {
      "model_module": "@jupyter-widgets/base",
      "model_module_version": "2.0.0",
      "model_name": "LayoutModel",
      "state": {}
     },
     "df46babf420d47d49dd1c955b24aa884": {
      "model_module": "@jupyter-widgets/controls",
      "model_module_version": "2.0.0",
      "model_name": "FloatTextModel",
      "state": {
       "_dom_classes": [
        "cofi-input-widget"
       ],
       "description": "FindPeak Smooth:",
       "layout": "IPY_MODEL_7f4b2c3255b14c19be06f4e030f36d02",
       "step": null,
       "style": "IPY_MODEL_659e83eb03f44638b45f6800a44ca096",
       "value": 5
      }
     },
     "df756e7003a149fda4a251b58e34b0d2": {
      "model_module": "@jupyter-widgets/controls",
      "model_module_version": "2.0.0",
      "model_name": "TextModel",
      "state": {
       "_dom_classes": [
        "cofi-input-widget"
       ],
       "description": "Median Filter:",
       "layout": "IPY_MODEL_7f4b2c3255b14c19be06f4e030f36d02",
       "placeholder": "0 to disable",
       "style": "IPY_MODEL_0eb84d5f0fe8464787e4af2c16dff0b9"
      }
     },
     "df864b37a05d49caafd7ec5045126f3a": {
      "model_module": "@jupyter-widgets/controls",
      "model_module_version": "2.0.0",
      "model_name": "HTMLModel",
      "state": {
       "layout": "IPY_MODEL_b47cd611ba0e44e4825215a74a6a4880",
       "style": "IPY_MODEL_e26a68295eb34e9c86e859a35599583d",
       "value": "<h3 class='sub-tab-title'>Wavelength Calibration</h3>"
      }
     },
     "dfaf9ef8d2784ad5a716a2a4ca1ada24": {
      "model_module": "@jupyter-widgets/controls",
      "model_module_version": "2.0.0",
      "model_name": "CheckboxModel",
      "state": {
       "_dom_classes": [
        "cofi-input-widget"
       ],
       "description": "Spectral Flat",
       "disabled": false,
       "layout": "IPY_MODEL_2a786b1505c44b1fa6043a6ddc58104e",
       "style": "IPY_MODEL_56a16f00276f413bbb392d39c7937767",
       "value": true
      }
     },
     "e01b602cf9684708b703a3b62126c52b": {
      "model_module": "@jupyter-widgets/controls",
      "model_module_version": "2.0.0",
      "model_name": "DescriptionStyleModel",
      "state": {
       "description_width": "initial"
      }
     },
     "e06255f7c2c74ef3a7fb5a21117add49": {
      "model_module": "@jupyter-widgets/base",
      "model_module_version": "2.0.0",
      "model_name": "LayoutModel",
      "state": {}
     },
     "e0796777838a45669e05b93a513f19d5": {
      "model_module": "@jupyter-widgets/controls",
      "model_module_version": "2.0.0",
      "model_name": "CheckboxStyleModel",
      "state": {
       "description_width": "initial"
      }
     },
     "e1078e08bfb1434eb15083db28dc39aa": {
      "model_module": "@jupyter-widgets/controls",
      "model_module_version": "2.0.0",
      "model_name": "CheckboxModel",
      "state": {
       "description": "🔎 Slits & Targets",
       "disabled": false,
       "indent": false,
       "layout": "IPY_MODEL_f8bbcbb457854431ad894578ac305b47",
       "style": "IPY_MODEL_9f2a6d02e5fb45139f7301157786a148",
       "value": false
      }
     },
     "e14673e58a5f4321b244723fb1d63b63": {
      "model_module": "@jupyter-widgets/base",
      "model_module_version": "2.0.0",
      "model_name": "LayoutModel",
      "state": {}
     },
     "e153632f37f64a21afeac0a29776ae83": {
      "model_module": "@jupyter-widgets/controls",
      "model_module_version": "2.0.0",
      "model_name": "IntTextModel",
      "state": {
       "_dom_classes": [
        "cofi-input-widget"
       ],
       "description": "ID Radius (peaks):",
       "layout": "IPY_MODEL_5e831e2ec2174e9785f5757f0a438f6a",
       "step": 1,
       "style": "IPY_MODEL_925b131ead184ed685e923588f335509",
       "value": 5
      }
     },
     "e18359cfa0e5443d9a89a1d5c69e1093": {
      "model_module": "@jupyter-widgets/controls",
      "model_module_version": "2.0.0",
      "model_name": "DescriptionStyleModel",
      "state": {
       "description_width": "initial"
      }
     },
     "e228ff1cfb444644994e7aa8fbbc081d": {
      "model_module": "@jupyter-widgets/base",
      "model_module_version": "2.0.0",
      "model_name": "LayoutModel",
      "state": {}
     },
     "e26a68295eb34e9c86e859a35599583d": {
      "model_module": "@jupyter-widgets/controls",
      "model_module_version": "2.0.0",
      "model_name": "HTMLStyleModel",
      "state": {
       "description_width": "",
       "font_size": null,
       "text_color": null
      }
     },
     "e2985f2e96de4249983ed0b083ee7534": {
      "model_module": "@jupyter-widgets/controls",
      "model_module_version": "2.0.0",
      "model_name": "TextModel",
      "state": {
       "_dom_classes": [
        "cofi-input-widget"
       ],
       "description": "ID Dispersion (est.):",
       "layout": "IPY_MODEL_7f4b2c3255b14c19be06f4e030f36d02",
       "placeholder": "Optional",
       "style": "IPY_MODEL_85b9df3f86a0434ab4e92a8ed100acef",
       "value": "None"
      }
     },
     "e2b819f0208e4d639bc1b9f1a5d5e961": {
      "model_module": "@jupyter-widgets/controls",
      "model_module_version": "2.0.0",
      "model_name": "TextModel",
      "state": {
       "_dom_classes": [
        "cofi-input-widget"
       ],
       "description": "Bias Frames:",
       "layout": "IPY_MODEL_7f4b2c3255b14c19be06f4e030f36d02",
       "placeholder": "e.g., 74,75,76",
       "style": "IPY_MODEL_650954e4ffc44791800c8ac9460b104f",
       "value": "11,12"
      }
     },
     "e32f3e87bea54cc88c9f9347b24466ff": {
      "model_module": "@jupyter-widgets/controls",
      "model_module_version": "2.0.0",
      "model_name": "VBoxModel",
      "state": {
       "children": [
        "IPY_MODEL_5490366727694ce4aa9937360509e464"
       ],
       "layout": "IPY_MODEL_ee3ec9c2d2c34f28b77bf1c08522c901"
      }
     },
     "e349231dcd3f4e8aa16b68c3eb4c2763": {
      "model_module": "@jupyter-widgets/controls",
      "model_module_version": "2.0.0",
      "model_name": "DescriptionStyleModel",
      "state": {
       "description_width": "initial"
      }
     },
     "e38719a899ba489686cf92b173c9bcf2": {
      "model_module": "@jupyter-widgets/base",
      "model_module_version": "2.0.0",
      "model_name": "LayoutModel",
      "state": {}
     },
     "e42e08fdba8541659b05fda2661099e4": {
      "model_module": "@jupyter-widgets/base",
      "model_module_version": "2.0.0",
      "model_name": "LayoutModel",
      "state": {}
     },
     "e45123e45adc43169af1089b3904d5fd": {
      "model_module": "@jupyter-widgets/controls",
      "model_module_version": "2.0.0",
      "model_name": "HTMLStyleModel",
      "state": {
       "description_width": "",
       "font_size": null,
       "text_color": null
      }
     },
     "e5716ebeb8ad4ff88bc4a2efa79c049c": {
      "model_module": "@jupyter-widgets/base",
      "model_module_version": "2.0.0",
      "model_name": "LayoutModel",
      "state": {}
     },
     "e58885701b9249e894c3bc1c2fcc3e97": {
      "model_module": "@jupyter-widgets/controls",
      "model_module_version": "2.0.0",
      "model_name": "IntTextModel",
      "state": {
       "_dom_classes": [
        "cofi-input-widget"
       ],
       "description": "FindPeak Diff:",
       "layout": "IPY_MODEL_7f4b2c3255b14c19be06f4e030f36d02",
       "step": 1,
       "style": "IPY_MODEL_95634b8d6bad4848a5baedfcf6505b11",
       "value": 10000
      }
     },
     "e68dd5d0c25348d5afbe928ecf0f2f15": {
      "model_module": "@jupyter-widgets/controls",
      "model_module_version": "2.0.0",
      "model_name": "TextStyleModel",
      "state": {
       "description_width": "initial",
       "font_size": null,
       "text_color": null
      }
     },
     "e6f3575b2953420bafed4b41077ffcf6": {
      "model_module": "@jupyter-widgets/controls",
      "model_module_version": "2.0.0",
      "model_name": "CheckboxStyleModel",
      "state": {
       "description_width": ""
      }
     },
     "e7b0ad046fe046bb9de3c08e1d9402aa": {
      "model_module": "@jupyter-widgets/controls",
      "model_module_version": "2.0.0",
      "model_name": "DropdownModel",
      "state": {
       "_dom_classes": [
        "cofi-input-widget"
       ],
       "_options_labels": [
        "median",
        "mean",
        "reject"
       ],
       "description": "Combine Type:",
       "index": 0,
       "layout": "IPY_MODEL_7f4b2c3255b14c19be06f4e030f36d02",
       "style": "IPY_MODEL_73fded9927f147a592b6bbef475c8022"
      }
     },
     "e8302d2fb61f4dbdaae5f2cad327df7b": {
      "model_module": "@jupyter-widgets/controls",
      "model_module_version": "2.0.0",
      "model_name": "HTMLStyleModel",
      "state": {
       "description_width": "",
       "font_size": null,
       "text_color": null
      }
     },
     "e88b625ee5ea45ac918fdbf07afa847c": {
      "model_module": "@jupyter-widgets/controls",
      "model_module_version": "2.0.0",
      "model_name": "IntTextModel",
      "state": {
       "_dom_classes": [
        "cofi-input-widget"
       ],
       "description": "ID Lags:",
       "layout": "IPY_MODEL_7f4b2c3255b14c19be06f4e030f36d02",
       "step": 1,
       "style": "IPY_MODEL_7e98106a8a9740f1bc65aee9f8febbf3",
       "value": 50
      }
     },
     "e89e97cebab440b394cbca271f2fe4d5": {
      "model_module": "@jupyter-widgets/controls",
      "model_module_version": "2.0.0",
      "model_name": "CheckboxModel",
      "state": {
       "_dom_classes": [
        "cofi-input-widget"
       ],
       "description": "Use Gaussian Fit",
       "disabled": false,
       "layout": "IPY_MODEL_a93068a1a73e4c55a9b3796a4bc483d7",
       "style": "IPY_MODEL_83c4bb105dcb43e6a89a3157e0c0300b",
       "value": true
      }
     },
     "ea0b71344bf84ea1b756a397a47dfde7": {
      "model_module": "@jupyter-widgets/controls",
      "model_module_version": "2.0.0",
      "model_name": "TextModel",
      "state": {
       "_dom_classes": [
        "cofi-input-widget"
       ],
       "description": "If specified, do scattered light correction:",
       "layout": "IPY_MODEL_7f4b2c3255b14c19be06f4e030f36d02",
       "placeholder": "int, default= None",
       "style": "IPY_MODEL_0eb68a7ff3284302b4b772d76a034259"
      }
     },
     "ea3c87b413f84c44a1cf14e11bfff738": {
      "model_module": "@jupyter-widgets/controls",
      "model_module_version": "2.0.0",
      "model_name": "CheckboxStyleModel",
      "state": {
       "description_width": ""
      }
     },
     "ea484e63b591480593b51811f06d97ea": {
      "model_module": "@jupyter-widgets/base",
      "model_module_version": "2.0.0",
      "model_name": "LayoutModel",
      "state": {}
     },
     "eb083e9def32468a90492be9ae80530a": {
      "model_module": "@jupyter-widgets/controls",
      "model_module_version": "2.0.0",
      "model_name": "ButtonModel",
      "state": {
       "_dom_classes": [
        "custom-button",
        "run-button"
       ],
       "description": "Run Wavelength Calibration",
       "icon": "wave-square",
       "layout": "IPY_MODEL_7f4b2c3255b14c19be06f4e030f36d02",
       "style": "IPY_MODEL_ef73a01ab155435ba7762aa2a8781c9f",
       "tooltip": null
      }
     },
     "eb12e9e5aa60483ca4ca50da6dadd37b": {
      "model_module": "@jupyter-widgets/controls",
      "model_module_version": "2.0.0",
      "model_name": "DescriptionStyleModel",
      "state": {
       "description_width": "initial"
      }
     },
     "ebd7888abe1e4c90af53f795613c8d17": {
      "model_module": "@jupyter-widgets/controls",
      "model_module_version": "2.0.0",
      "model_name": "CheckboxModel",
      "state": {
       "_dom_classes": [
        "cofi-input-widget"
       ],
       "description": "Display indivitual dark",
       "disabled": false,
       "layout": "IPY_MODEL_2378b6488597438e8a981ca2d2ea6563",
       "style": "IPY_MODEL_4ecd56112a3b417db377766273c120fb",
       "value": false
      }
     },
     "ebfd5c08436e45dd886a97f86d4ea1a4": {
      "model_module": "@jupyter-widgets/base",
      "model_module_version": "2.0.0",
      "model_name": "LayoutModel",
      "state": {}
     },
     "ec1f4ca684634eaf87c8039edae4c791": {
      "model_module": "@jupyter-widgets/controls",
      "model_module_version": "2.0.0",
      "model_name": "CheckboxStyleModel",
      "state": {
       "description_width": ""
      }
     },
     "ecda2b3820e74a91822577329d14da52": {
      "model_module": "@jupyter-widgets/controls",
      "model_module_version": "2.0.0",
      "model_name": "TextStyleModel",
      "state": {
       "description_width": "initial",
       "font_size": null,
       "text_color": null
      }
     },
     "ed0ed8381d51484a83bfa498e87ef54a": {
      "model_module": "@jupyter-widgets/controls",
      "model_module_version": "2.0.0",
      "model_name": "ButtonStyleModel",
      "state": {
       "font_family": null,
       "font_size": null,
       "font_style": null,
       "font_variant": null,
       "font_weight": null,
       "text_color": null,
       "text_decoration": null
      }
     },
     "ed623ce128d1436292042a1046842588": {
      "model_module": "@jupyter-widgets/controls",
      "model_module_version": "2.0.0",
      "model_name": "DescriptionStyleModel",
      "state": {
       "description_width": "initial"
      }
     },
     "ed684a5031e0414695367e5498f6c226": {
      "model_module": "@jupyter-widgets/controls",
      "model_module_version": "2.0.0",
      "model_name": "VBoxModel",
      "state": {
       "children": [
        "IPY_MODEL_4536cd3dce7f4b329359f5b3171c03ba",
        "IPY_MODEL_d76ac1850d2c4a629b1d5bd0fdedae1e",
        "IPY_MODEL_50af6d4e24554b2bb12c657a0d6c09e1"
       ],
       "layout": "IPY_MODEL_f2995c2e831d401ea9ee6bacf758dd8c"
      }
     },
     "eda5411f779d46e389857455ee1804c3": {
      "model_module": "@jupyter-widgets/controls",
      "model_module_version": "2.0.0",
      "model_name": "CheckboxModel",
      "state": {
       "_dom_classes": [
        "cofi-input-widget"
       ],
       "description": "Display indivitual bias",
       "disabled": false,
       "layout": "IPY_MODEL_d99b66f57c884ebebff67cd62b115b8b",
       "style": "IPY_MODEL_25cad4b4e18e46d6bf82773e23d152e4",
       "value": false
      }
     },
     "edb901f56c3140e98f9c53a7a0df3d88": {
      "model_module": "@jupyter-widgets/controls",
      "model_module_version": "2.0.0",
      "model_name": "HTMLModel",
      "state": {
       "layout": "IPY_MODEL_40c45e07493c40afadbeb46bc4616255",
       "style": "IPY_MODEL_a1474f352f914ab0b28595ff9cddc5d5",
       "value": "<h3 class='sub-tab-title'>Find Slits/Targets</h3>"
      }
     },
     "edc49ac0ba1e401eaac387adb03080e4": {
      "model_module": "@jupyter-widgets/controls",
      "model_module_version": "2.0.0",
      "model_name": "IntTextModel",
      "state": {
       "_dom_classes": [
        "cofi-input-widget"
       ],
       "description": "Initial Fit Degree (ref):",
       "layout": "IPY_MODEL_7f4b2c3255b14c19be06f4e030f36d02",
       "step": 1,
       "style": "IPY_MODEL_7a9143ae216e472799f06943e2c36c13",
       "value": 3
      }
     },
     "eddf69f0772c419b8cd1eace5af78911": {
      "model_module": "@jupyter-widgets/base",
      "model_module_version": "2.0.0",
      "model_name": "LayoutModel",
      "state": {}
     },
     "ee3ec9c2d2c34f28b77bf1c08522c901": {
      "model_module": "@jupyter-widgets/base",
      "model_module_version": "2.0.0",
      "model_name": "LayoutModel",
      "state": {
       "display": "none",
       "margin": "0 0 0 25px",
       "padding": "8px"
      }
     },
     "ee9c2fe1d1664aab8c1347f39fa4feed": {
      "model_module": "@jupyter-widgets/controls",
      "model_module_version": "2.0.0",
      "model_name": "HTMLModel",
      "state": {
       "layout": "IPY_MODEL_d9ff36f4b018413d814b19c9dec22e20",
       "style": "IPY_MODEL_541a902c81184749aeaf15e58bafcf20",
       "value": "<h3 class='sub-tab-title'>Load Settings from Log</h3>"
      }
     },
     "eea5565b03cc4e74b5eff67676def773": {
      "model_module": "@jupyter-widgets/controls",
      "model_module_version": "2.0.0",
      "model_name": "DescriptionStyleModel",
      "state": {
       "description_width": "initial"
      }
     },
     "eed9584e45c34a19ac38a46c9684a37d": {
      "model_module": "@jupyter-widgets/controls",
      "model_module_version": "2.0.0",
      "model_name": "TextStyleModel",
      "state": {
       "description_width": "initial",
       "font_size": null,
       "text_color": null
      }
     },
     "eede5d2c6dec4d919e4de640bd4af6e8": {
      "model_module": "@jupyter-widgets/base",
      "model_module_version": "2.0.0",
      "model_name": "LayoutModel",
      "state": {}
     },
     "eee0ad8933cf4059906ea58df3a78973": {
      "model_module": "@jupyter-widgets/controls",
      "model_module_version": "2.0.0",
      "model_name": "TextStyleModel",
      "state": {
       "description_width": "initial",
       "font_size": null,
       "text_color": null
      }
     },
     "ef73a01ab155435ba7762aa2a8781c9f": {
      "model_module": "@jupyter-widgets/controls",
      "model_module_version": "2.0.0",
      "model_name": "ButtonStyleModel",
      "state": {
       "font_family": null,
       "font_size": null,
       "font_style": null,
       "font_variant": null,
       "font_weight": null,
       "text_color": null,
       "text_decoration": null
      }
     },
     "efff7c15d8494f3183602ab411cef7a4": {
      "model_module": "@jupyter-widgets/base",
      "model_module_version": "2.0.0",
      "model_name": "LayoutModel",
      "state": {
       "margin": "0 0 0 20px"
      }
     },
     "f04225bbaded46ce86f8f276057907bf": {
      "model_module": "@jupyter-widgets/controls",
      "model_module_version": "2.0.0",
      "model_name": "HTMLModel",
      "state": {
       "layout": "IPY_MODEL_964dae0e518d4956bc63f40a30652eb1",
       "style": "IPY_MODEL_7c01733e56f24721a1a9529897331b4a",
       "value": "<hr style='border: 1px solid #ccc; margin: 15px 0;'>"
      }
     },
     "f0713b0dc6ae44bc8fa9d5104fde9516": {
      "model_module": "@jupyter-widgets/controls",
      "model_module_version": "2.0.0",
      "model_name": "CheckboxStyleModel",
      "state": {
       "description_width": ""
      }
     },
     "f0866c45f2cb415391a62132b0fce449": {
      "model_module": "@jupyter-widgets/controls",
      "model_module_version": "2.0.0",
      "model_name": "AccordionModel",
      "state": {
       "children": [
        "IPY_MODEL_2e993250b604453e83470e0286094690"
       ],
       "layout": "IPY_MODEL_dc79ceeeabed4af3a43c7653700a90c6",
       "titles": [
        "Advanced Parameters"
       ]
      }
     },
     "f0d43faeadd740e6ab8dbb6e1f5bd5bd": {
      "model_module": "@jupyter-widgets/base",
      "model_module_version": "2.0.0",
      "model_name": "LayoutModel",
      "state": {}
     },
     "f0fb836e63bf45ef9647d50a6938aed3": {
      "model_module": "@jupyter-widgets/controls",
      "model_module_version": "2.0.0",
      "model_name": "CheckboxModel",
      "state": {
       "description": "⚙️ Calibration Frames",
       "disabled": false,
       "indent": false,
       "layout": "IPY_MODEL_6a3121c4f4c646e583869ff177f476e4",
       "style": "IPY_MODEL_1b8b26fef1f34fcfa2f1e08b0bbae2f2",
       "value": false
      }
     },
     "f13e95b8b5b04b99adff50eb25db04c4": {
      "model_module": "@jupyter-widgets/controls",
      "model_module_version": "2.0.0",
      "model_name": "VBoxModel",
      "state": {
       "children": [
        "IPY_MODEL_f5516db9f16b4aceba62755b38871aaf",
        "IPY_MODEL_434da340a6f5492bb57c941704aad5fe",
        "IPY_MODEL_eda5411f779d46e389857455ee1804c3",
        "IPY_MODEL_fd65013a79544d5da5b6e670012ad846"
       ],
       "layout": "IPY_MODEL_34e5879e968a4461807b998770bc0b36"
      }
     },
     "f1882de6330c454ba513f9a333bbb8e4": {
      "model_module": "@jupyter-widgets/controls",
      "model_module_version": "2.0.0",
      "model_name": "DescriptionStyleModel",
      "state": {
       "description_width": "initial"
      }
     },
     "f1be85852889419898ef475da91aa954": {
      "model_module": "@jupyter-widgets/controls",
      "model_module_version": "2.0.0",
      "model_name": "CheckboxModel",
      "state": {
       "_dom_classes": [
        "cofi-input-widget"
       ],
       "description": "Use S/N for Edges (FindSlits)",
       "disabled": false,
       "layout": "IPY_MODEL_7f4b2c3255b14c19be06f4e030f36d02",
       "style": "IPY_MODEL_91ed2b1aecfa460099bd8d3d013f27f0",
       "value": true
      }
     },
     "f22d56bc56554fb791c55ba80cadcd89": {
      "model_module": "@jupyter-widgets/controls",
      "model_module_version": "2.0.0",
      "model_name": "CheckboxModel",
      "state": {
       "description": "🔬 Science & Extraction",
       "disabled": false,
       "indent": false,
       "layout": "IPY_MODEL_4477e62c02f041cfb0730b7add477553",
       "style": "IPY_MODEL_41e480caf17e4bfebdaf8c651f52e6b6",
       "value": false
      }
     },
     "f2995c2e831d401ea9ee6bacf758dd8c": {
      "model_module": "@jupyter-widgets/base",
      "model_module_version": "2.0.0",
      "model_name": "LayoutModel",
      "state": {}
     },
     "f2ae5b9ce37e472bb6fec9e4bb5d53b1": {
      "model_module": "@jupyter-widgets/controls",
      "model_module_version": "2.0.0",
      "model_name": "HTMLStyleModel",
      "state": {
       "description_width": "",
       "font_size": null,
       "text_color": null
      }
     },
     "f313e4d4a1004b07a30116cb9f9cabb4": {
      "model_module": "@jupyter-widgets/controls",
      "model_module_version": "2.0.0",
      "model_name": "CheckboxModel",
      "state": {
       "_dom_classes": [
        "cofi-input-widget"
       ],
       "description": "FindPeak Verbose",
       "disabled": false,
       "layout": "IPY_MODEL_4ec294e8902b449ebe3be5f484808025",
       "style": "IPY_MODEL_9982f59613084cb199ba94145a3067f0",
       "value": false
      }
     },
     "f34467550fb9442d9aa9a8847eda8c5e": {
      "model_module": "@jupyter-widgets/base",
      "model_module_version": "2.0.0",
      "model_name": "LayoutModel",
      "state": {}
     },
     "f3c2c47960cf46fbb48fd3bbbd56f2e3": {
      "model_module": "@jupyter-widgets/controls",
      "model_module_version": "2.0.0",
      "model_name": "DescriptionStyleModel",
      "state": {
       "description_width": "initial"
      }
     },
     "f45e6d9606724f578ebd9ae1462e3b8d": {
      "model_module": "@jupyter-widgets/controls",
      "model_module_version": "2.0.0",
      "model_name": "DescriptionStyleModel",
      "state": {
       "description_width": "initial"
      }
     },
     "f4ebc9fef4204971b5c07388e84a47f5": {
      "model_module": "@jupyter-widgets/controls",
      "model_module_version": "2.0.0",
      "model_name": "IntTextModel",
      "state": {
       "_dom_classes": [
        "cofi-input-widget"
       ],
       "description": "Trace Method Radius:",
       "layout": "IPY_MODEL_7f4b2c3255b14c19be06f4e030f36d02",
       "step": 1,
       "style": "IPY_MODEL_0133c133c5114695b061de36caff49d3"
      }
     },
     "f4f147295eeb47cab8ba871b82bf3a11": {
      "model_module": "@jupyter-widgets/controls",
      "model_module_version": "2.0.0",
      "model_name": "TextStyleModel",
      "state": {
       "description_width": "initial",
       "font_size": null,
       "text_color": null
      }
     },
     "f53a7d2660034961bb754ce6e6366ed0": {
      "model_module": "@jupyter-widgets/base",
      "model_module_version": "2.0.0",
      "model_name": "LayoutModel",
      "state": {}
     },
     "f5516db9f16b4aceba62755b38871aaf": {
      "model_module": "@jupyter-widgets/controls",
      "model_module_version": "2.0.0",
      "model_name": "DropdownModel",
      "state": {
       "_dom_classes": [
        "cofi-input-widget"
       ],
       "_options_labels": [
        "median",
        "mean",
        "reject"
       ],
       "description": "Combine Type:",
       "index": 0,
       "layout": "IPY_MODEL_7f4b2c3255b14c19be06f4e030f36d02",
       "style": "IPY_MODEL_5f1496927df84c7ea360c318f2378cfc"
      }
     },
     "f56b0fa9f93942748cb1ad2651c1ad59": {
      "model_module": "@jupyter-widgets/controls",
      "model_module_version": "2.0.0",
      "model_name": "VBoxModel",
      "state": {
       "children": [
        "IPY_MODEL_8660a3c5fe3a468391c44091c7e38434"
       ],
       "layout": "IPY_MODEL_b02b5221e584412eaeb5fed5fcd2fce6"
      }
     },
     "f576c6adf04e4221857751725d2b4663": {
      "model_module": "@jupyter-widgets/controls",
      "model_module_version": "2.0.0",
      "model_name": "HTMLModel",
      "state": {
       "layout": "IPY_MODEL_be32095b4ce3477f8311248a5968c242",
       "style": "IPY_MODEL_ac13317d6b7d4a48ad0656a1fa4dfb35",
       "value": "<h4>Default Parameters for 2D Extraction:</h4>"
      }
     },
     "f5d457674e044de0a036d5ccba1b11c7": {
      "model_module": "@jupyter-widgets/base",
      "model_module_version": "2.0.0",
      "model_name": "LayoutModel",
      "state": {}
     },
     "f6ab34b9a142491e85e089aa561d6a7d": {
      "model_module": "@jupyter-widgets/controls",
      "model_module_version": "2.0.0",
      "model_name": "DescriptionStyleModel",
      "state": {
       "description_width": "initial"
      }
     },
     "f7877adb02b74487b29700f55da91396": {
      "model_module": "@jupyter-widgets/controls",
      "model_module_version": "2.0.0",
      "model_name": "TextModel",
      "state": {
       "_dom_classes": [
        "cofi-input-widget"
       ],
       "description": "ID WRef File:",
       "layout": "IPY_MODEL_7f4b2c3255b14c19be06f4e030f36d02",
       "placeholder": "Optional",
       "style": "IPY_MODEL_612992df9b8c41198e94a94990613c04",
       "value": "None"
      }
     },
     "f78afd82299840b6b00cdb10713e66bb": {
      "model_module": "@jupyter-widgets/base",
      "model_module_version": "2.0.0",
      "model_name": "LayoutModel",
      "state": {
       "align_items": "center",
       "padding": "5px"
      }
     },
     "f88b1f2a00f64484bb39867779b71f68": {
      "model_module": "@jupyter-widgets/controls",
      "model_module_version": "2.0.0",
      "model_name": "IntTextModel",
      "state": {
       "_dom_classes": [
        "cofi-input-widget"
       ],
       "description": "Trace Degree:",
       "layout": "IPY_MODEL_7f4b2c3255b14c19be06f4e030f36d02",
       "step": 1,
       "style": "IPY_MODEL_243753052a72490e8ec79a4421f17624",
       "value": 3
      }
     },
     "f8bbcbb457854431ad894578ac305b47": {
      "model_module": "@jupyter-widgets/base",
      "model_module_version": "2.0.0",
      "model_name": "LayoutModel",
      "state": {}
     },
     "f8ff16af67ab40a4aae0add0ef0669b8": {
      "model_module": "@jupyter-widgets/controls",
      "model_module_version": "2.0.0",
      "model_name": "CheckboxStyleModel",
      "state": {
       "description_width": ""
      }
     },
     "f90316a19d7b47159bd5c953ad223599": {
      "model_module": "@jupyter-widgets/controls",
      "model_module_version": "2.0.0",
      "model_name": "CheckboxModel",
      "state": {
       "_dom_classes": [
        "cofi-input-widget"
       ],
       "description": "Trace Transpose",
       "disabled": false,
       "layout": "IPY_MODEL_4419cb79d0c14371a7c66187d99d74b3",
       "style": "IPY_MODEL_a0e42566d07d451a93c51ce89e0d9906",
       "value": false
      }
     },
     "f97b80a90f5e4d93bd0a63b37d15f82c": {
      "model_module": "@jupyter-widgets/controls",
      "model_module_version": "2.0.0",
      "model_name": "HTMLModel",
      "state": {
       "layout": "IPY_MODEL_45fbd9ec76bb4d0db83e9c2969d015d9",
       "style": "IPY_MODEL_7ebc79b61f634548bb0a7a603a2f44e5",
       "value": "\n        <div class='help-section-text'>\n            <h5>Target Selection / Filtering</h5>\n            <p><b>What it is:</b> Allowing the user to choose a specific subset of the identified slits (and their associated targets) for further processing, rather than reducing all slits found on the mask.</p>\n            <p><b>GUI Actions:</b> After \"Find Slits\" has been successfully run, click the \"Filter Slits\" button in Tab 4. This will make a new set of UI controls appear in the \"parameter area\" (the output box located within Tab 4 itself).</p>\n            <p><b>Dynamic UI in Parameter Area:</b>\n            <ul>\n                <li><b>Selection Method (dropdown):</b> Choose how you want to specify targets: by 'Index' (their 0-based order in the displayed table), 'ID' (e.g., 'TARG113'), or 'Name' (if names are unique in the KMS file).</li>\n                <li><b>Targets (text input):</b> Based on your chosen method, enter a comma-separated list of values. For 'Index', use numbers (e.g., <code>6,7,9,11,13</code>). For 'ID' or 'Name', enter the strings (e.g., <code>TARG108,TARG107,TARG106</code>).</li>\n                <li><b>Run Selection (button within param_area):</b> Click this button to perform the filtering.</li>\n            </ul>\n            </p>\n            <p><b>Details & Process:</b>\n            <br/>The \"Filter Slits\" button click triggers a call to <code>CofiProcessor1.TargetSelector.select_targets(...)</code>. This method is based on the <code>select_targets</code> function defined in the KOSMOS notebook.\n            <br/>Example logic from KOSMOS <code>select_targets</code> function for index-based selection: <code>indices = input(\"Enter the indices (comma-separated): \"); gd = [int(idx.strip()) for idx in indices.split(',')]</code>.\n            <br/>The processor method then filters both the <code>trace</code> object (keeping only the geometric models for selected slits) and the <code>targets</code> table.\n            <br/><code>gdtrace = copy.deepcopy(trace); gdtrace.model = [trace.model[i] for i in gd]; gdtrace.rows = [trace.rows[i] for i in gd]; trace = copy.deepcopy(gdtrace); selected_targets = targets[gd]</code>\n            </p>\n            <p><b>Output:</b> The main output area will show a confirmation message \"Selection complete!\", the number of selected targets, and a display of the newly filtered <code>targets</code> table. The widget's internal <code>self.trace</code> and <code>self.targets</code> are updated to these filtered versions.</p>\n        </div>\n        "
      }
     },
     "f99995ca0a6b41709494b8861c18b491": {
      "model_module": "@jupyter-widgets/controls",
      "model_module_version": "2.0.0",
      "model_name": "HTMLModel",
      "state": {
       "layout": "IPY_MODEL_8b709cd96c2f4df1be4504f7456a93e9",
       "style": "IPY_MODEL_c44108c7f43b4e848ccffac32ec697b6",
       "value": "<h4>Interactive Controls (from processor):</h4>"
      }
     },
     "f9a10b6fb7ea4fb88fcd36f1faf87d3a": {
      "model_module": "@jupyter-widgets/controls",
      "model_module_version": "2.0.0",
      "model_name": "VBoxModel",
      "state": {
       "children": [
        "IPY_MODEL_f88b1f2a00f64484bb39867779b71f68",
        "IPY_MODEL_663583a5d6d7488dbdc6058237b13792",
        "IPY_MODEL_6bd30ba622a948e6bbfdde7d5a7f71fc",
        "IPY_MODEL_32ac6a2f25e442b5a4a5c68054d89dc7",
        "IPY_MODEL_525ad5928b1d4e868d82081632da9939",
        "IPY_MODEL_63d16d8dbda347afb8b5c7f1d18544f0",
        "IPY_MODEL_1c945732cc7d405e92abb7aabf5dc2ac",
        "IPY_MODEL_5ef7c02edcce4dd3b7ef8d98747abc6c",
        "IPY_MODEL_12ef512de4c142dc8f6827140f051cb5",
        "IPY_MODEL_71d8076b17bf4194829965a9bbc6b9c8",
        "IPY_MODEL_c2283d8b5ff74da79d3735c7ebf18189",
        "IPY_MODEL_812535c16e44477bb10354eb6288cb5d",
        "IPY_MODEL_d32097f6bc5c436eb68cddce2880eadf",
        "IPY_MODEL_6c091a72dba74ca78f95f50a0e088203",
        "IPY_MODEL_f90316a19d7b47159bd5c953ad223599"
       ],
       "layout": "IPY_MODEL_39aec184642a4c42bd26a4f65f6dbc17"
      }
     },
     "fa12517707144e3e95563523686cfbd2": {
      "model_module": "@jupyter-widgets/controls",
      "model_module_version": "2.0.0",
      "model_name": "TextModel",
      "state": {
       "_dom_classes": [
        "cofi-input-widget"
       ],
       "description": "Science Frame:",
       "layout": "IPY_MODEL_7f4b2c3255b14c19be06f4e030f36d02",
       "placeholder": "e.g., 20",
       "style": "IPY_MODEL_36898635039a40eba75ce95d083092c6"
      }
     },
     "fadd6b0e0c684ceca7ee80c92d9ab616": {
      "model_module": "@jupyter-widgets/controls",
      "model_module_version": "2.0.0",
      "model_name": "ButtonModel",
      "state": {
       "_dom_classes": [
        "custom-button",
        "run-button"
       ],
       "description": "Setup & Run 1D Extraction",
       "icon": "chart-bar",
       "layout": "IPY_MODEL_7f4b2c3255b14c19be06f4e030f36d02",
       "style": "IPY_MODEL_7343a47ac6db4327843acef6a62bd86f",
       "tooltip": null
      }
     },
     "faea106ec38f4b4481a7af633cb26a96": {
      "model_module": "@jupyter-widgets/controls",
      "model_module_version": "2.0.0",
      "model_name": "CheckboxModel",
      "state": {
       "description": "Arc Header Update (XMM/YMM)",
       "disabled": false,
       "layout": "IPY_MODEL_54c23fd5ec0141c6ba9baf468b3ca272",
       "style": "IPY_MODEL_563b82d127a34e66b89c18e501bfecdd",
       "value": false
      }
     },
     "fb53827111c0497b95738bf5814bcecf": {
      "model_module": "@jupyter-widgets/controls",
      "model_module_version": "2.0.0",
      "model_name": "HTMLModel",
      "state": {
       "layout": "IPY_MODEL_10a1492237494fd7ad4eba43cf0140c6",
       "style": "IPY_MODEL_2314fe87917647e7bf1b256193162c9a",
       "value": "<h3 class='sub-tab-title'>Compute Master Arcs</h3>"
      }
     },
     "fb5574ee5c6f4d05b177eb6258eafd06": {
      "model_module": "@jupyter-widgets/controls",
      "model_module_version": "2.0.0",
      "model_name": "ButtonStyleModel",
      "state": {
       "font_family": null,
       "font_size": null,
       "font_style": null,
       "font_variant": null,
       "font_weight": null,
       "text_color": null,
       "text_decoration": null
      }
     },
     "fc190f08e3fc4680b99b3230c84049ca": {
      "model_module": "@jupyter-widgets/controls",
      "model_module_version": "2.0.0",
      "model_name": "CheckboxStyleModel",
      "state": {
       "description_width": ""
      }
     },
     "fc1ed1bef9cc41f6acfed7c1111a5404": {
      "model_module": "@jupyter-widgets/controls",
      "model_module_version": "2.0.0",
      "model_name": "IntTextModel",
      "state": {
       "_dom_classes": [
        "cofi-input-widget"
       ],
       "description": "Trace Sigma Degree:",
       "layout": "IPY_MODEL_7f4b2c3255b14c19be06f4e030f36d02",
       "step": 1,
       "style": "IPY_MODEL_e18359cfa0e5443d9a89a1d5c69e1093",
       "value": 3
      }
     },
     "fc5bca15e0ff479fa30a3bfcc994be92": {
      "model_module": "@jupyter-widgets/controls",
      "model_module_version": "2.0.0",
      "model_name": "ButtonModel",
      "state": {
       "_dom_classes": [
        "custom-button",
        "run-button"
       ],
       "description": "Reduce Science Frame",
       "icon": "rocket",
       "layout": "IPY_MODEL_7f4b2c3255b14c19be06f4e030f36d02",
       "style": "IPY_MODEL_ed0ed8381d51484a83bfa498e87ef54a",
       "tooltip": null
      }
     },
     "fc9a20d4875247e9a24ec70af48debd6": {
      "model_module": "@jupyter-widgets/controls",
      "model_module_version": "2.0.0",
      "model_name": "ButtonStyleModel",
      "state": {
       "font_family": null,
       "font_size": null,
       "font_style": null,
       "font_variant": null,
       "font_weight": null,
       "text_color": null,
       "text_decoration": null
      }
     },
     "fd185f1707ad4b85b38078731ccd5a23": {
      "model_module": "@jupyter-widgets/controls",
      "model_module_version": "2.0.0",
      "model_name": "TextModel",
      "state": {
       "_dom_classes": [
        "cofi-input-widget"
       ],
       "description": "Trace Spectrum:",
       "layout": "IPY_MODEL_7f4b2c3255b14c19be06f4e030f36d02",
       "placeholder": "Optional",
       "style": "IPY_MODEL_8aecb2e177c4464c8dbe91a16a504d72",
       "value": "None"
      }
     },
     "fd65013a79544d5da5b6e670012ad846": {
      "model_module": "@jupyter-widgets/controls",
      "model_module_version": "2.0.0",
      "model_name": "CheckboxModel",
      "state": {
       "_dom_classes": [
        "cofi-input-widget"
       ],
       "description": "Trim bias",
       "disabled": false,
       "layout": "IPY_MODEL_00d66974e2d74f3da7914a220edaae54",
       "style": "IPY_MODEL_2660bd8b0a334af8894c891ee9ccfd92",
       "value": false
      }
     },
     "fe4999cd4c3b46c1aed939736cd5b449": {
      "model_module": "@jupyter-widgets/base",
      "model_module_version": "2.0.0",
      "model_name": "LayoutModel",
      "state": {}
     },
     "fe67a5baf64f44bfa7dfb02b88d6d7b7": {
      "model_module": "@jupyter-widgets/controls",
      "model_module_version": "2.0.0",
      "model_name": "CheckboxModel",
      "state": {
       "_dom_classes": [
        "cofi-input-widget"
       ],
       "description": "Normalize Flat",
       "disabled": false,
       "layout": "IPY_MODEL_1a190076a2914e66a25de38c6490fbc4",
       "style": "IPY_MODEL_81b5c27b3a9d485b9b6052e74b2e59ee",
       "value": true
      }
     },
     "feba2478a7e4406c945f334640f28365": {
      "model_module": "@jupyter-widgets/base",
      "model_module_version": "2.0.0",
      "model_name": "LayoutModel",
      "state": {}
     }
    },
    "version_major": 2,
    "version_minor": 0
   }
  }
 },
 "nbformat": 4,
 "nbformat_minor": 5
}
